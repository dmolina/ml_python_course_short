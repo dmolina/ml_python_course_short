{
 "cells": [
  {
   "cell_type": "markdown",
   "id": "f31bda52",
   "metadata": {},
   "source": [
    "# Extracting information by clustering\n",
    "\n",
    "Clustering can allow us to extract useful information. For instance, from a\n",
    "dataset we can set several groups of instance following a criterion, a compare\n",
    "the different clusters obtained by each group."
   ]
  },
  {
   "cell_type": "markdown",
   "id": "929f684a",
   "metadata": {},
   "source": [
    "This is an example used as practice in one of our courses, statistical\n",
    "information about Spain obtained by the corresponding government agency. "
   ]
  },
  {
   "cell_type": "markdown",
   "id": "3a824149",
   "metadata": {},
   "source": [
    "First, we will load all required libraries."
   ]
  },
  {
   "cell_type": "code",
   "execution_count": null,
   "id": "16e5a502",
   "metadata": {},
   "outputs": [],
   "source": [
    "import time\n",
    "\n",
    "import matplotlib.pyplot as plt\n",
    "import pandas as pd\n",
    "import numpy as np\n",
    "\n",
    "from sklearn.cluster import KMeans\n",
    "from sklearn import metrics\n",
    "from sklearn import preprocessing\n",
    "from sklearn.impute import SimpleImputer\n",
    "from sklearn.manifold import MDS\n",
    "from math import floor\n",
    "import seaborn as sns"
   ]
  },
  {
   "cell_type": "code",
   "execution_count": null,
   "id": "3c9c980c",
   "metadata": {},
   "outputs": [],
   "source": [
    "# First, we load the data\n",
    "data = pd.read_csv('datos_hogar_2020.csv')"
   ]
  },
  {
   "cell_type": "code",
   "execution_count": null,
   "id": "55792a07",
   "metadata": {},
   "outputs": [],
   "source": [
    "# We select only information about families with house rent and public transport\n",
    "subset = data.loc[(data['HY030N']>0) & (data['HC030_F']==1)]"
   ]
  },
  {
   "cell_type": "code",
   "execution_count": null,
   "id": "ff1e85cf",
   "metadata": {},
   "outputs": [],
   "source": [
    "# rename variable\n",
    "subset=subset.rename(columns={\"HY020\": \"rent\", \"HY030N\": \"house_rent\", \"HC010\": \"food_in\", \"HC030\": \"transport\"})\n",
    "# We select the interesting attributes (numerical variables for the clustering)\n",
    "used = ['rent','house_rent','food_in','transport']"
   ]
  },
  {
   "cell_type": "code",
   "execution_count": null,
   "id": "e2821495",
   "metadata": {},
   "outputs": [],
   "source": [
    "n_var = len(used)\n",
    "X = subset[used].dropna()"
   ]
  },
  {
   "cell_type": "code",
   "execution_count": null,
   "id": "ee50fd37",
   "metadata": {},
   "outputs": [],
   "source": [
    "# remove outliers as which have the range outside of the 1.5 the intercurtil value\n",
    "Q1 = X.quantile(0.25)\n",
    "Q3 = X.quantile(0.75)\n",
    "IQR = Q3 - Q1\n",
    "X = X[~((X < (Q1 - 1.5 * IQR)) |(X > (Q3 + 1.5 * IQR))).any(axis=1)]"
   ]
  },
  {
   "cell_type": "code",
   "execution_count": null,
   "id": "f2c25db3",
   "metadata": {},
   "outputs": [],
   "source": [
    "from sklearn.preprocessing import MinMaxScaler\n",
    "\n",
    "X_norm = MinMaxScaler().fit_transform(X)"
   ]
  },
  {
   "cell_type": "code",
   "execution_count": null,
   "id": "aef3af4b",
   "metadata": {},
   "outputs": [],
   "source": [
    "X_norm[:5,:]"
   ]
  },
  {
   "cell_type": "code",
   "execution_count": null,
   "id": "89da82aa",
   "metadata": {},
   "outputs": [],
   "source": [
    "print('----- Running k-Means',end='')\n",
    "k_means = KMeans(init='k-means++', n_clusters=5, n_init=5, random_state=123456)\n",
    "t = time.time()\n",
    "cluster_predict = k_means.fit_predict(X_norm,subset['DB090']) #se usa DB090 como peso para cada objeto (factor de elevación)\n",
    "total_time = time.time() - t\n",
    "print(\": {:.2f} seconds, \".format(total_time), end='')\n",
    "metric_CH = metrics.calinski_harabasz_score(X_norm, cluster_predict)\n",
    "print(\"Calinski-Harabasz Index: {:.3f}, \".format(metric_CH), end='')\n"
   ]
  },
  {
   "cell_type": "code",
   "execution_count": null,
   "id": "67c22b1a",
   "metadata": {},
   "outputs": [],
   "source": [
    "sample_silhoutte = 0.2 if (len(X) > 10000) else 1.0\n",
    "metric_SC = metrics.silhouette_score(X_norm, cluster_predict, metric='euclidean', sample_size=floor(sample_silhoutte*len(X)), random_state=123456)\n",
    "print(\"Silhouette Coefficient: {:.5f}\".format(metric_SC))\n"
   ]
  },
  {
   "cell_type": "markdown",
   "id": "1d7be604",
   "metadata": {},
   "source": [
    "We convert the cluster to DataFrame to visualize"
   ]
  },
  {
   "cell_type": "code",
   "execution_count": null,
   "id": "55818c93",
   "metadata": {},
   "outputs": [],
   "source": [
    "clusters = pd.DataFrame(cluster_predict,index=X.index,columns=['cluster'])"
   ]
  },
  {
   "cell_type": "code",
   "execution_count": null,
   "id": "25b1b6ce",
   "metadata": {},
   "outputs": [],
   "source": [
    "def print_cluster_size(clusters):\n",
    "    print(\"Size for each cluster:\")\n",
    "    size=clusters['cluster'].value_counts()\n",
    "    for num,i in size.iteritems():\n",
    "        print('%s: %5d (%5.2f%%)' % (num,i,100*i/len(clusters)))"
   ]
  },
  {
   "cell_type": "code",
   "execution_count": null,
   "id": "a65caf99",
   "metadata": {},
   "outputs": [],
   "source": [
    "print_cluster_size(clusters)"
   ]
  },
  {
   "cell_type": "code",
   "execution_count": null,
   "id": "60f91a8f",
   "metadata": {},
   "outputs": [],
   "source": [
    "centers = pd.DataFrame(k_means.cluster_centers_,columns=list(X))\n"
   ]
  },
  {
   "cell_type": "code",
   "execution_count": null,
   "id": "4a2fecc9",
   "metadata": {},
   "outputs": [],
   "source": [
    "def denormalize(centers):\n",
    "    centers_denorm = centers.copy()\n",
    "    # se convierten los centros a los rangos originales antes de normalizar\n",
    "    for var in list(centers):\n",
    "        centers_denorm[var] = X[var].min() + centers[var] * (X[var].max() - X[var].min())\n",
    "\n",
    "    return centers_denorm"
   ]
  },
  {
   "cell_type": "code",
   "execution_count": null,
   "id": "efaaab53",
   "metadata": {},
   "outputs": [],
   "source": [
    "centers_denorm = denormalize(centers)"
   ]
  },
  {
   "cell_type": "code",
   "execution_count": null,
   "id": "568d21aa",
   "metadata": {},
   "outputs": [],
   "source": [
    "def display_clusters(centers):\n",
    "    centers_denorm = denormalize(centers)\n",
    "    centers.index += 1\n",
    "    hm = sns.heatmap(centers, cmap=\"YlGnBu\", annot=centers_desnormal, annot_kws={\"fontsize\":18}, fmt='.3f')\n",
    "    hm.set_ylim(len(centers),0)\n",
    "    hm.figure.set_size_inches(15,15)\n",
    "    hm.figure.savefig(\"centroides.png\")\n",
    "    centers.index -= 1\n",
    "    return hm\n"
   ]
  },
  {
   "cell_type": "code",
   "execution_count": null,
   "id": "592804e3",
   "metadata": {},
   "outputs": [],
   "source": [
    "display_clusters(centers)"
   ]
  },
  {
   "cell_type": "markdown",
   "id": "f16f4fbb",
   "metadata": {},
   "source": [
    "- **Tasks:** Show how the centroids change with k."
   ]
  },
  {
   "cell_type": "code",
   "execution_count": null,
   "id": "718615ed",
   "metadata": {},
   "outputs": [],
   "source": [
    "def display_data(X, clusters):\n",
    "    size=clusters['cluster'].value_counts()\n",
    "    k = len(size)\n",
    "    colors = sns.color_palette(palette='Paired', n_colors=k, desat=None)\n",
    "    X_kmeans = pd.concat([X, clusters], axis=1)\n",
    "    sns.set()\n",
    "    variables = list(X_kmeans)\n",
    "    variables.remove('cluster')\n",
    "    sns_plot = sns.pairplot(X_kmeans, vars=variables, hue=\"cluster\", palette=colors, plot_kws={\"s\": 25}, diag_kind=\"hist\") # cluster set the color\n",
    "    sns_plot.fig.subplots_adjust(wspace=.03, hspace=.03)\n",
    "    sns_plot.fig.set_size_inches(15,15)\n",
    "    return sns_plot"
   ]
  },
  {
   "cell_type": "code",
   "execution_count": null,
   "id": "c9223c4b",
   "metadata": {},
   "outputs": [],
   "source": [
    "display_data(X, clusters)"
   ]
  },
  {
   "cell_type": "code",
   "execution_count": null,
   "id": "f2c03311",
   "metadata": {},
   "outputs": [],
   "source": [
    "def display_boxplot_clusters(X, centers, clusters):\n",
    "    fig, axes = plt.subplots(k, n_var, sharey=True,figsize=(15,15))\n",
    "    fig.subplots_adjust(wspace=0,hspace=0)\n",
    "    # se añade la asignación de clusters como columna a X\n",
    "    X_kmeans = pd.concat([X, clusters], axis=1)\n",
    "\n",
    "    centers_sort = centers.sort_values(by=['rent']) #ordenamos por renta para el plot\n",
    "\n",
    "    rango = []\n",
    "    for j in range(n_var):\n",
    "        rango.append([X_kmeans[used[j]].min(),X_kmeans[used[j]].max()])\n",
    "\n",
    "    for i in range(k):\n",
    "        c = centers_sort.index[i]\n",
    "        dat_filt = X_kmeans.loc[X_kmeans['cluster']==c]\n",
    "\n",
    "        for j in range(n_var):\n",
    "            ax = sns.boxplot(x=dat_filt[used[j]], notch=True, color=colors[c], flierprops={'marker':'o','markersize':4}, ax=axes[i,j])\n",
    "\n",
    "            if (i==k-1):\n",
    "                axes[i,j].set_xlabel(used[j])\n",
    "            else:\n",
    "                axes[i,j].set_xlabel(\"\")\n",
    "        \n",
    "            if (j==0):\n",
    "                axes[i,j].set_ylabel(\"Cluster \"+str(c+1))\n",
    "            else:\n",
    "                axes[i,j].set_ylabel(\"\")\n",
    "        \n",
    "            axes[i,j].set_yticks([])\n",
    "            axes[i,j].grid(axis='x', linestyle='-', linewidth='0.2', color='gray')\n",
    "            axes[i,j].grid(axis='y', b=False)\n",
    "        \n",
    "            ax.set_xlim(rango[j][0]-0.05*(rango[j][1]-rango[j][0]),rango[j][1]+0.05*(rango[j][1]-rango[j][0]))\n",
    "\n",
    "    fig.set_size_inches(15,15)\n",
    "    return fig\n"
   ]
  },
  {
   "cell_type": "code",
   "execution_count": null,
   "id": "250eb932",
   "metadata": {},
   "outputs": [],
   "source": [
    "display_boxplot_clusters(X, centers, clusters)"
   ]
  },
  {
   "cell_type": "code",
   "execution_count": null,
   "id": "019ad986",
   "metadata": {},
   "outputs": [],
   "source": [
    "def display_centers(centers):\n",
    "    mds = MDS(random_state=123456)\n",
    "    centers_mds = mds.fit_transform(centers)\n",
    "    fig=plt.figure(4)\n",
    "    plt.scatter(centers_mds[:,0], centers_mds[:,1], s=size*10, alpha=0.75, c=colors)\n",
    "\n",
    "    for i in range(k):\n",
    "        plt.annotate(str(i+1),xy=centers_mds[i],fontsize=18,va='center',ha='center')\n",
    "\n",
    "    plt.xticks(fontsize=18)\n",
    "    plt.yticks(fontsize=18)\n",
    "    fig.set_size_inches(15,15)\n",
    "    return fig"
   ]
  },
  {
   "cell_type": "code",
   "execution_count": null,
   "id": "2d406aa2",
   "metadata": {},
   "outputs": [],
   "source": [
    "display_centers(centers)"
   ]
  }
 ],
 "metadata": {
  "kernelspec": {
   "argv": [
    "python",
    "-m",
    "ipykernel_launcher",
    "-f",
    "{connection_file}"
   ],
   "display_name": "Python 3",
   "env": null,
   "interrupt_mode": "signal",
   "language": "python",
   "metadata": null,
   "name": "python3"
  }
 },
 "nbformat": 4,
 "nbformat_minor": 5
}
