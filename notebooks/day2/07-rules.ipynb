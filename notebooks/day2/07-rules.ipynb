{
 "cells": [
  {
   "cell_type": "markdown",
   "id": "3567d600",
   "metadata": {},
   "source": [
    "# Association Rules"
   ]
  },
  {
   "cell_type": "markdown",
   "id": "035d45af",
   "metadata": {},
   "source": [
    "## Market Basket Analysis Introduction\n",
    "\n",
    "Companion notebook to http://pbpython.com/market-basket-analysis.html\n",
    "\n",
    "<img src=\"https://miro.medium.com/max/1400/1*z8powfNMseAgzCG6cF48wA.jpeg\">\n",
    "<figcaption>Photo by https://blogs.oracle.com/datascience/overview-of-traditional-machine-learning-techniques</figcaption>"
   ]
  },
  {
   "cell_type": "markdown",
   "id": "c3d82ad5",
   "metadata": {},
   "source": [
    "Association Rules Analysis, also called Market Basket Analysis, has become familiar for analysis in the retail industry. \n",
    "\n",
    "Personal recommendations is becoming very population in applications such as Spotify, Netflix, and Youtube. \n",
    "\n",
    "One of the biggest examples of Association Rules Analysis is the correlation between beer and diaper. When Walmart, a chain store in the United States, studied the shopping behavior of customers, the study showed that diapers and beers are bought together. The reason is because while mothers stay in the house with the baby, usually fathers have to go shopping, and they buy beers (because they stay more in home)."
   ]
  },
  {
   "cell_type": "markdown",
   "id": "a904c27d",
   "metadata": {},
   "source": [
    "## Apriori Algorithm\n",
    "\n",
    "In this notebook we show the Apriori Algorithm, one of the most popular and classical algorithm. In this algorithm, there are product clusters that that pass frequently, and the relationships between them are remarked.\n",
    "\n",
    "The importance of an Association Rules can be determined by 3 parameters:\n",
    "\n",
    "- Support\n",
    "- Confidence\n",
    "- Lift\n",
    "\n",
    "<img src=\"https://miro.medium.com/max/1352/1*dqCXKUfEE9Eau17kJuCp2A.png\" src=\"50%\"> \n",
    "\n",
    "In our case:\n",
    "\n",
    "- Support : It is the probability of an event to occur (coverage of the rule).\n",
    "\n",
    "- Confidence : It is a measure of conditional probability of the rule.\n",
    "\n",
    "- Lift : It is the probability of all items occurring together divided by the product of antecedent and consequent occurring as if they are independent of each other."
   ]
  },
  {
   "cell_type": "markdown",
   "id": "f18ad57f",
   "metadata": {},
   "source": [
    "# First Dataset, correlations between products\n",
    "\n",
    "In this dataset we get information about several invoices, each line contains all products buy for the same client.\n",
    "The data are obtained by https://www.kaggle.com/datasets/shazadudwadia/supermarket, I have downloaded to make it easier."
   ]
  },
  {
   "cell_type": "markdown",
   "id": "41462c61",
   "metadata": {},
   "source": [
    "First, we load the packages."
   ]
  },
  {
   "cell_type": "code",
   "execution_count": null,
   "id": "e91efb2f",
   "metadata": {},
   "outputs": [],
   "source": [
    "import pandas as pd\n",
    "from mlxtend.frequent_patterns import apriori\n",
    "from mlxtend.frequent_patterns import association_rules"
   ]
  },
  {
   "cell_type": "code",
   "execution_count": null,
   "id": "9fbd42a8",
   "metadata": {},
   "outputs": [],
   "source": [
    "df = pd.read_csv(\"GroceryStoreDataSet.csv\", names=['products'], sep=',')\n",
    "df.head()"
   ]
  },
  {
   "cell_type": "code",
   "execution_count": null,
   "id": "6d93d69c",
   "metadata": {},
   "outputs": [],
   "source": [
    "df.shape"
   ]
  },
  {
   "cell_type": "markdown",
   "id": "48345700",
   "metadata": {},
   "source": [
    "First, split the data creating a list."
   ]
  },
  {
   "cell_type": "code",
   "execution_count": null,
   "id": "1cea34f6",
   "metadata": {},
   "outputs": [],
   "source": [
    "data = list(df['products'].apply(lambda x: x.split(\",\")))\n",
    "data"
   ]
  },
  {
   "cell_type": "markdown",
   "id": "895f81f9",
   "metadata": {},
   "source": [
    "We use TransactionEncoder to convert the list representing the 'True' to 1 and 'False' to '0'.\n",
    "Products that customers bought or did not buy during shopping will now be represented by values 1 and 0."
   ]
  },
  {
   "cell_type": "code",
   "execution_count": null,
   "id": "57d41c5a",
   "metadata": {},
   "outputs": [],
   "source": [
    "#Let's transform the list, with one-hot encoding\n",
    "from mlxtend.preprocessing import TransactionEncoder\n",
    "a = TransactionEncoder()\n",
    "a_data = a.fit(data).transform(data)\n",
    "df = pd.DataFrame(a_data,columns=a.columns_)\n",
    "df = df.replace(False,0)\n",
    "df"
   ]
  },
  {
   "cell_type": "markdown",
   "id": "a71d940c",
   "metadata": {},
   "source": [
    "## Applying Apriori\n",
    "\n",
    "We change all the parameters in the Apriori Model in the mlxtend package.\n",
    "I will try to use minimum support parameters for this modeling, at 20%.\n"
   ]
  },
  {
   "cell_type": "code",
   "execution_count": null,
   "id": "57e2c870",
   "metadata": {},
   "outputs": [],
   "source": [
    "apri = apriori(df, min_support = 0.2, use_colnames = True, verbose = 1)\n",
    "apri"
   ]
  },
  {
   "cell_type": "markdown",
   "id": "568f51dc",
   "metadata": {},
   "source": [
    "Now, we are going to create the association rules:"
   ]
  },
  {
   "cell_type": "code",
   "execution_count": null,
   "id": "68295a7d",
   "metadata": {},
   "outputs": [],
   "source": [
    "rules = association_rules(apri, metric = \"lift\", min_threshold=1)\n",
    "rules.sort_values('lift',ascending=False)"
   ]
  },
  {
   "cell_type": "markdown",
   "id": "5fdd2160",
   "metadata": {},
   "source": [
    "## Visualizing the relation between antecedents and consequents\n",
    "\n",
    "We are going to visualizde the relationships:"
   ]
  },
  {
   "cell_type": "code",
   "execution_count": null,
   "id": "62251fdf",
   "metadata": {},
   "outputs": [],
   "source": [
    "from matplotlib import pyplot as plt"
   ]
  },
  {
   "cell_type": "code",
   "execution_count": null,
   "id": "dae60895",
   "metadata": {},
   "outputs": [],
   "source": [
    "\n",
    "# Import seaborn under its standard alias\n",
    "import seaborn as sns\n",
    "# Replace frozen sets with strings\n",
    "rules['antecedents_'] = rules['antecedents'].apply(lambda a: ','.join(list(a)))\n",
    "rules['consequents_'] = rules['consequents'].apply(lambda a: ','.join(list(a)))\n",
    "# Transform the DataFrame of rules into a matrix using the lift metric\n",
    "pivot = rules.pivot(index = 'antecedents_', \n",
    "                    columns = 'consequents_', values= 'lift')\n",
    "# Generate a heatmap with annotations on and the colorbar off\n",
    "sns.heatmap(pivot, annot = True)\n",
    "plt.yticks(rotation=0)\n",
    "plt.xticks(rotation=90)\n",
    "plt.show()"
   ]
  },
  {
   "cell_type": "markdown",
   "id": "1e59d6f4",
   "metadata": {},
   "source": [
    "# Association Rules with more complex example\n",
    "\n",
    "In this notebook we are going to use association rules to extract patterns from\n",
    "online retails, a more realistic example."
   ]
  },
  {
   "cell_type": "markdown",
   "id": "5ec4500e",
   "metadata": {},
   "source": [
    "First we read the date (first line for reading online, second is faster)."
   ]
  },
  {
   "cell_type": "code",
   "execution_count": null,
   "id": "2a1af535",
   "metadata": {},
   "outputs": [],
   "source": [
    "# df = pd.read_excel('http://archive.ics.uci.edu/ml/machine-learning-databases/00352/Online%20Retail.xlsx')\n",
    "df = pd.read_excel('Online%20Retail.xlsx')"
   ]
  },
  {
   "cell_type": "code",
   "execution_count": null,
   "id": "2da96386",
   "metadata": {},
   "outputs": [],
   "source": [
    "df.head()"
   ]
  },
  {
   "cell_type": "code",
   "execution_count": null,
   "id": "7abeb888",
   "metadata": {},
   "outputs": [],
   "source": [
    "# Clean up spaces in description and remove any rows that don't have a valid invoice\n",
    "df['Description'] = df['Description'].str.strip()\n",
    "df.dropna(axis=0, subset=['InvoiceNo'], inplace=True)"
   ]
  },
  {
   "cell_type": "code",
   "execution_count": null,
   "id": "9153e5c5",
   "metadata": {},
   "outputs": [],
   "source": [
    "# Convert to str\n",
    "df['InvoiceNo'] = df['InvoiceNo'].astype('str')\n",
    "# Ignore InvoiceNo with C\n",
    "df = df[~df['InvoiceNo'].str.contains('C')]"
   ]
  },
  {
   "cell_type": "code",
   "execution_count": null,
   "id": "ced45ec9",
   "metadata": {},
   "outputs": [],
   "source": [
    "# Count from France\n",
    "basket = df[df['Country'] ==\"France\"].groupby(['InvoiceNo','Description'])['Quantity'].sum()\n",
    "basket.head()"
   ]
  },
  {
   "cell_type": "code",
   "execution_count": null,
   "id": "c74cf8e6",
   "metadata": {},
   "outputs": [],
   "source": [
    "# Count for each invoice the number of each product. If it is nan, clearly it was not bought\n",
    "basket=basket.unstack().fillna(0)\n",
    "basket.head()"
   ]
  },
  {
   "cell_type": "markdown",
   "id": "dccf5af3",
   "metadata": {},
   "source": [
    "This data count how many items are bought, we only are interested if they are\n",
    "bought, not the number. Thus, we replace all values greater than 0 to 1."
   ]
  },
  {
   "cell_type": "code",
   "execution_count": null,
   "id": "33d6671e",
   "metadata": {},
   "outputs": [],
   "source": [
    "# Convert the units to 1 hot encoded values\n",
    "def encode_units(x):\n",
    "    if x <= 0:\n",
    "        return 0\n",
    "    if x >= 1:\n",
    "        return 1"
   ]
  },
  {
   "cell_type": "code",
   "execution_count": null,
   "id": "33acd6b2",
   "metadata": {},
   "outputs": [],
   "source": [
    "basket_sets = basket.applymap(encode_units)"
   ]
  },
  {
   "cell_type": "code",
   "execution_count": null,
   "id": "29722132",
   "metadata": {},
   "outputs": [],
   "source": [
    "# No need to track postage\n",
    "basket_sets.drop('POSTAGE', inplace=True, axis=1)"
   ]
  },
  {
   "cell_type": "markdown",
   "id": "97864e47",
   "metadata": {},
   "source": [
    "We generate frequent item sets that have a support of at least 7% (this number was chosen so that I could get enough useful examples):"
   ]
  },
  {
   "cell_type": "code",
   "execution_count": null,
   "id": "9ee47ae9",
   "metadata": {},
   "outputs": [],
   "source": [
    "# Build up the frequent items\n",
    "frequent_itemsets = apriori(basket_sets, min_support=0.07, use_colnames=True)"
   ]
  },
  {
   "cell_type": "code",
   "execution_count": null,
   "id": "1142d2d0",
   "metadata": {},
   "outputs": [],
   "source": [
    "frequent_itemsets"
   ]
  },
  {
   "cell_type": "code",
   "execution_count": null,
   "id": "3771bc93",
   "metadata": {},
   "outputs": [],
   "source": [
    "# Create the rules\n",
    "rules = association_rules(frequent_itemsets, metric=\"lift\", min_threshold=1)\n",
    "rules"
   ]
  },
  {
   "cell_type": "code",
   "execution_count": null,
   "id": "b9ea6603",
   "metadata": {},
   "outputs": [],
   "source": [
    "rules[ (rules['lift'] >= 6) &\n",
    "       (rules['confidence'] >= 0.8) ]"
   ]
  },
  {
   "cell_type": "markdown",
   "id": "10c51688",
   "metadata": {},
   "source": [
    "In looking at the rules, it seems that the green and red alarm clocks are purchased together and the red paper cups, napkins and plates are purchased together in a manner that is higher than the overall probability would suggest."
   ]
  },
  {
   "cell_type": "code",
   "execution_count": null,
   "id": "abf97547",
   "metadata": {},
   "outputs": [],
   "source": [
    "basket['ALARM CLOCK BAKELIKE GREEN'].sum()"
   ]
  },
  {
   "cell_type": "code",
   "execution_count": null,
   "id": "1dae8fd8",
   "metadata": {},
   "outputs": [],
   "source": [
    "basket['ALARM CLOCK BAKELIKE RED'].sum()"
   ]
  },
  {
   "cell_type": "code",
   "execution_count": null,
   "id": "7f7e0820",
   "metadata": {},
   "outputs": [],
   "source": [
    "basket2 = (df[df['Country'] ==\"Portugal\"]\n",
    "          .groupby(['InvoiceNo', 'Description'])['Quantity']\n",
    "          .sum().unstack().reset_index().fillna(0)\n",
    "          .set_index('InvoiceNo'))"
   ]
  },
  {
   "cell_type": "code",
   "execution_count": null,
   "id": "8fcb36e0",
   "metadata": {},
   "outputs": [],
   "source": [
    "basket_sets2 = basket2.applymap(encode_units)"
   ]
  },
  {
   "cell_type": "code",
   "execution_count": null,
   "id": "3c483c2b",
   "metadata": {},
   "outputs": [],
   "source": [
    "basket_sets2.drop('POSTAGE', inplace=True, axis=1)"
   ]
  },
  {
   "cell_type": "code",
   "execution_count": null,
   "id": "392276b3",
   "metadata": {},
   "outputs": [],
   "source": [
    "frequent_itemsets2 = apriori(basket_sets2, min_support=0.05, use_colnames=True)"
   ]
  },
  {
   "cell_type": "code",
   "execution_count": null,
   "id": "bfb5e631",
   "metadata": {},
   "outputs": [],
   "source": [
    "rules2 = association_rules(frequent_itemsets2, metric=\"lift\", min_threshold=1)\n",
    "rules2"
   ]
  },
  {
   "cell_type": "code",
   "execution_count": null,
   "id": "00c7acc0",
   "metadata": {},
   "outputs": [],
   "source": [
    "rules2[ (rules2['lift'] >= 4) &\n",
    "        (rules2['confidence'] >= 0.5) ]"
   ]
  },
  {
   "cell_type": "markdown",
   "id": "0837bcb5",
   "metadata": {},
   "source": [
    "**Task**: Analyze the results in Portugal. \n",
    "\n",
    "**Task2**: Run the experiments for Italy and analyze it."
   ]
  }
 ],
 "metadata": {
  "kernelspec": {
   "argv": [
    "python",
    "-m",
    "ipykernel_launcher",
    "-f",
    "{connection_file}"
   ],
   "display_name": "Python 3",
   "env": null,
   "interrupt_mode": "signal",
   "language": "python",
   "metadata": null,
   "name": "python3"
  }
 },
 "nbformat": 4,
 "nbformat_minor": 5
}
