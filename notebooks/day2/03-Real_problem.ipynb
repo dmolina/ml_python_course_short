{
 "cells": [
  {
   "cell_type": "markdown",
   "id": "15ae9c6a",
   "metadata": {},
   "source": [
    "# Applying clustering to a real problem\n",
    "\n",
    "In this notebook we are going to solve a real problem, grouping people in\n",
    "function on its personality characteristics. \n",
    "\n",
    "The data are obtained from\n",
    "https://www.kaggle.com/datasets/arslanali4343/top-personality-dataset?select=2018-personality-data.csv\n",
    "\n",
    "The personality-data contains the header which described as follows:\n",
    "\n",
    "- **Userid:** the hashed user_id, *to ignore*.\n",
    "\n",
    "- **Openness:** an assessment score (from 1 to 7) assessing user tendency to prefer new experience. 1 means the user has tendency NOT to prefer new experience, 7 means the user has tendency to prefer new experience.\n",
    "\n",
    "- **Agreeableness:** an assessment score (from 1 to 7) assessing user tendency to be compassionate and cooperative rather than suspicious and antagonistic towards others. 1 means the user has tendency to NOT be compassionate and cooperative. 7 means the user has tendency to be compassionate and cooperative.\n",
    "\n",
    "- **Emotional Stability:** an assessment score (from 1 to 7) assessing user tendency to have psychological stress. 1 means the user has tendency to have psychological stress, and 7 means the user has tendency to NOT have psychological stress.\n",
    "\n",
    "- **Conscientiousness:** an assessment score (from 1 to 7) assessing user tendency to be organized and dependable, and show self-discipline. 1 means the user does not have such a tendency, and 7 means the user has such tendency.\n",
    "\n",
    "- **Extraversion:** an assessment score (from 1 to 7) assessing user tendency to be outgoing. 1 means the user does not have such a tendency, and 7 means the user has such a tendency.\n",
    "\n",
    "- **Assigned Metric:** one of the follows (serendipity, popularity, diversity, default). Each user, besides being assessed their personality, was evaluated their preferences for a list of 12 movies manipulated with serendipity, popularity, diversity value or none (default option).\n",
    "\n",
    "- **Assigned Condition:** one of the follows (high, medium, low). Based on the\n",
    "  assigned metric, and this assigned condition, the list of movies was generated\n",
    "  for the users. For example: if the assigned metric is serendipity and the\n",
    "  assigned condition is high, the movies in the list are highly serendipitous.\n",
    "  We document how we manipulated the movie list based on the assigned condition\n",
    "  and assigned metric in page 6 of our research paper mentioned above.\n",
    " \n",
    "- **Movie_x (x is from 1 to 12):** Valoration of several films, to ignore."
   ]
  },
  {
   "cell_type": "markdown",
   "id": "4a0a06cf",
   "metadata": {},
   "source": [
    "First, we are going to do a preprocessing:"
   ]
  },
  {
   "cell_type": "code",
   "execution_count": null,
   "id": "ad3c4945",
   "metadata": {},
   "outputs": [],
   "source": [
    "import pandas as pd\n"
   ]
  },
  {
   "cell_type": "code",
   "execution_count": null,
   "id": "9a91e92e",
   "metadata": {},
   "outputs": [],
   "source": [
    "df_raw = pd.read_csv(\"2018-personality-data.csv\")\n",
    "# remove spaces\n",
    "df_raw.head()"
   ]
  },
  {
   "cell_type": "markdown",
   "id": "97f64fba",
   "metadata": {},
   "source": [
    "Remove useful attributes."
   ]
  },
  {
   "cell_type": "code",
   "execution_count": null,
   "id": "068ad24b",
   "metadata": {},
   "outputs": [],
   "source": [
    "ignores = [f\"movie_{i}\" for i in range(1,13)] + [f\"predicted_rating_{i}\" for i in range(1,13)]\n",
    "ignores.append(\"userid\")\n",
    "ignores"
   ]
  },
  {
   "cell_type": "code",
   "execution_count": null,
   "id": "b656b7a6",
   "metadata": {},
   "outputs": [],
   "source": [
    "df_raw.columns"
   ]
  },
  {
   "cell_type": "code",
   "execution_count": null,
   "id": "71bc8944",
   "metadata": {},
   "outputs": [],
   "source": [
    "df = df_raw.copy()\n",
    "df.columns = df_raw.columns.str.replace(' ', '')\n",
    "df = df_raw.drop(ignores, axis=1)\n",
    "df.head()"
   ]
  },
  {
   "cell_type": "code",
   "execution_count": null,
   "id": "23a18469",
   "metadata": {},
   "outputs": [],
   "source": [
    "from sklearn.preprocessing import LabelEncoder, MinMaxScaler"
   ]
  },
  {
   "cell_type": "code",
   "execution_count": null,
   "id": "5cbdf3ae",
   "metadata": {},
   "outputs": [],
   "source": [
    "labels = {}\n",
    "# Now we use labels\n",
    "for col in df.columns:\n",
    "    if 'assigned' in col:\n",
    "        labels[col] = LabelEncoder().fit(df[col])\n",
    "        df[col] = labels[col].transform(df[col])"
   ]
  },
  {
   "cell_type": "code",
   "execution_count": null,
   "id": "0f652e0b",
   "metadata": {},
   "outputs": [],
   "source": [
    "df.head()"
   ]
  },
  {
   "cell_type": "code",
   "execution_count": null,
   "id": "1fc29ceb",
   "metadata": {},
   "outputs": [],
   "source": [
    "# Now we normalize\n",
    "df_norm = MinMaxScaler().fit_transform(df)\n",
    "df_norm"
   ]
  },
  {
   "cell_type": "markdown",
   "id": "afadfb37",
   "metadata": {},
   "source": [
    "Now it is the funny part, apply the clustering."
   ]
  },
  {
   "cell_type": "markdown",
   "id": "39703542",
   "metadata": {},
   "source": [
    "**First task:** Apply the K-Means with several k and to decide the best k for\n",
    "the data."
   ]
  },
  {
   "cell_type": "markdown",
   "id": "33137522",
   "metadata": {},
   "source": [
    "**Second task:** Compare results against DBSCAN."
   ]
  },
  {
   "cell_type": "markdown",
   "id": "d0d1cace",
   "metadata": {},
   "source": [
    "**Third task:** Apply the hierarchical model."
   ]
  }
 ],
 "metadata": {
  "kernelspec": {
   "display_name": "Python 3",
   "language": "python",
   "name": "python3"
  }
 },
 "nbformat": 4,
 "nbformat_minor": 5
}
