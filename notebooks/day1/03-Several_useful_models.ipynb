{
 "cells": [
  {
   "cell_type": "markdown",
   "id": "07b89d4c",
   "metadata": {},
   "source": [
    "# About this Notebook\n",
    "\n",
    "In this notebook we are going to use several well-known models to classify using scikit-learn."
   ]
  },
  {
   "cell_type": "markdown",
   "id": "097f3bcb",
   "metadata": {},
   "source": [
    "## Iris Dataset\n",
    "\n",
    "First, we are going to solve the Iris Dataset, it is a classic one. \n",
    "\n",
    "The target is to identify the iris from the dimension of the flower. \n",
    "\n",
    "<img src=\"https://machinelearninghd.com/wp-content/uploads/2021/03/iris-dataset.png\">"
   ]
  },
  {
   "cell_type": "code",
   "execution_count": null,
   "id": "983ba583",
   "metadata": {},
   "outputs": [],
   "source": [
    "from sklearn import datasets\n",
    "\n",
    "iris = datasets.load_iris()"
   ]
  },
  {
   "cell_type": "code",
   "execution_count": null,
   "id": "dcf07ab5",
   "metadata": {},
   "outputs": [],
   "source": [
    "y = iris.target\n",
    "X = iris.data[:,:2]"
   ]
  },
  {
   "cell_type": "code",
   "execution_count": null,
   "id": "dedadac8",
   "metadata": {},
   "outputs": [],
   "source": [
    "import pandas as pd"
   ]
  },
  {
   "cell_type": "code",
   "execution_count": null,
   "id": "ca1f6289",
   "metadata": {},
   "outputs": [],
   "source": [
    "y"
   ]
  },
  {
   "cell_type": "markdown",
   "id": "40ce7b88",
   "metadata": {},
   "source": [
    "We divide in train and test"
   ]
  },
  {
   "cell_type": "code",
   "execution_count": null,
   "id": "d00cb614",
   "metadata": {},
   "outputs": [],
   "source": [
    "from sklearn.model_selection import train_test_split\n",
    "\n",
    "X_train, X_test, y_train, y_test = train_test_split(X, y, test_size=0.3, random_state=42)"
   ]
  },
  {
   "cell_type": "markdown",
   "id": "d7afe5ae",
   "metadata": {},
   "source": [
    "Now, we are going to use different classic algorithms."
   ]
  },
  {
   "cell_type": "markdown",
   "id": "f5581436",
   "metadata": {},
   "source": [
    "## Lineal Classification"
   ]
  },
  {
   "cell_type": "markdown",
   "id": "6cdb6e1e",
   "metadata": {},
   "source": [
    "First, we are going to use a Linear Classifier."
   ]
  },
  {
   "cell_type": "code",
   "execution_count": null,
   "id": "c4443230",
   "metadata": {},
   "outputs": [],
   "source": [
    "from sklearn.linear_model import SGDClassifier\n",
    "\n",
    "model = SGDClassifier(max_iter=100)\n",
    "model.fit(X_train, y_train)"
   ]
  },
  {
   "cell_type": "code",
   "execution_count": null,
   "id": "92771bfe",
   "metadata": {},
   "outputs": [],
   "source": [
    "predict = model.predict(X_test)"
   ]
  },
  {
   "cell_type": "code",
   "execution_count": null,
   "id": "d06a7e25",
   "metadata": {},
   "outputs": [],
   "source": [
    "from sklearn.metrics import accuracy_score\n",
    "from sklearn.model_selection import cross_val_score"
   ]
  },
  {
   "cell_type": "code",
   "execution_count": null,
   "id": "133a9caa",
   "metadata": {},
   "outputs": [],
   "source": [
    "accuracy_score(predict, y_test)"
   ]
  },
  {
   "cell_type": "markdown",
   "id": "e545e070",
   "metadata": {},
   "source": [
    "It is able to classify with great results."
   ]
  },
  {
   "cell_type": "markdown",
   "id": "9616bbde",
   "metadata": {},
   "source": [
    "We are going to visualize the decision bounds."
   ]
  },
  {
   "cell_type": "code",
   "execution_count": null,
   "id": "e3b75d29",
   "metadata": {},
   "outputs": [],
   "source": [
    "from sklearn.inspection import DecisionBoundaryDisplay\n",
    "import matplotlib.pyplot as plt"
   ]
  },
  {
   "cell_type": "code",
   "execution_count": null,
   "id": "a9ee9111",
   "metadata": {},
   "outputs": [],
   "source": [
    "disp = DecisionBoundaryDisplay.from_estimator(\n",
    "    model,\n",
    "    X[:,:2],\n",
    "    ax=plt.gca(),\n",
    "    response_method=\"predict\",\n",
    "    xlabel=iris.feature_names[0], ylabel=iris.feature_names[1], alpha=0.5\n",
    ")\n",
    "disp.ax_.scatter(X[:, 0], X[:, 1], c=iris.target, edgecolor=\"k\")"
   ]
  },
  {
   "cell_type": "markdown",
   "id": "edce3004",
   "metadata": {},
   "source": [
    "We can see that the space is linearly divided in 3, to classify each instance."
   ]
  },
  {
   "cell_type": "markdown",
   "id": "73f02d1d",
   "metadata": {},
   "source": [
    "We have use only two variables to visualize, with all four we achieve a better results. "
   ]
  },
  {
   "cell_type": "markdown",
   "id": "f74153b9",
   "metadata": {},
   "source": [
    "**Task: Modify the code to use the 4 attributes, and check the accuracy.**"
   ]
  },
  {
   "cell_type": "code",
   "execution_count": null,
   "id": "d7ae2a1a",
   "metadata": {},
   "outputs": [],
   "source": [
    "predict = model.predict(X_test)"
   ]
  },
  {
   "cell_type": "code",
   "execution_count": null,
   "id": "39d68d4e",
   "metadata": {},
   "outputs": [],
   "source": [
    "cross_val_score(model, X, y, cv=5).mean()"
   ]
  },
  {
   "cell_type": "markdown",
   "id": "fc16a2f4",
   "metadata": {},
   "source": [
    "## K-Nearest Neighborhood\n",
    "\n",
    "This algorithm allow us to classify considering the class of the nearest instances."
   ]
  },
  {
   "cell_type": "code",
   "execution_count": null,
   "id": "f3cd2d52",
   "metadata": {},
   "outputs": [],
   "source": [
    "\n",
    "from sklearn.neighbors import KNeighborsClassifier"
   ]
  },
  {
   "cell_type": "code",
   "execution_count": null,
   "id": "e1947f61",
   "metadata": {},
   "outputs": [],
   "source": [
    "knn = KNeighborsClassifier(n_neighbors=3)"
   ]
  },
  {
   "cell_type": "markdown",
   "id": "d362cc6b",
   "metadata": {},
   "source": [
    "### Important: Data must be normalize"
   ]
  },
  {
   "cell_type": "code",
   "execution_count": null,
   "id": "5605bc7b",
   "metadata": {},
   "outputs": [],
   "source": [
    "from sklearn.pipeline import Pipeline\n",
    "from sklearn.preprocessing import StandardScaler"
   ]
  },
  {
   "cell_type": "code",
   "execution_count": null,
   "id": "ba7b03ad",
   "metadata": {},
   "outputs": [],
   "source": [
    "model_knn = Pipeline([\n",
    "            (\"scaler\", StandardScaler()),\n",
    "            (\"knn\", knn)])"
   ]
  },
  {
   "cell_type": "code",
   "execution_count": null,
   "id": "b72e1e57",
   "metadata": {},
   "outputs": [],
   "source": [
    "model_knn.fit(X_train, y_train)"
   ]
  },
  {
   "cell_type": "code",
   "execution_count": null,
   "id": "25dcd15e",
   "metadata": {},
   "outputs": [],
   "source": [
    "predict = model_knn.predict(X_test)"
   ]
  },
  {
   "cell_type": "code",
   "execution_count": null,
   "id": "f6cef185",
   "metadata": {},
   "outputs": [],
   "source": [
    "accuracy_score(predict, y_test)"
   ]
  },
  {
   "cell_type": "code",
   "execution_count": null,
   "id": "a0e52ff9",
   "metadata": {},
   "outputs": [],
   "source": [
    "disp = DecisionBoundaryDisplay.from_estimator(\n",
    "    model_knn,\n",
    "    X[:,:2],\n",
    "    ax=plt.gca(),\n",
    "    response_method=\"predict\",\n",
    "    xlabel=iris.feature_names[0], ylabel=iris.feature_names[1], alpha=0.5\n",
    ")\n",
    "disp.ax_.scatter(X_test[:, 0], X_test[:, 1], c=y_test, edgecolor=\"k\")"
   ]
  },
  {
   "cell_type": "markdown",
   "id": "ce82b39f",
   "metadata": {},
   "source": [
    "In this case, the region is grouping around each solution."
   ]
  },
  {
   "cell_type": "markdown",
   "id": "795a461e",
   "metadata": {},
   "source": [
    "**Task: Apply with several neighborhood.**"
   ]
  },
  {
   "cell_type": "code",
   "execution_count": null,
   "id": "6652a56b",
   "metadata": {},
   "outputs": [],
   "source": [
    "cross_val_score(model_knn, X, y, cv=5).mean()"
   ]
  },
  {
   "cell_type": "markdown",
   "id": "8ca5afa1",
   "metadata": {},
   "source": [
    "## Support Vector Machine\n",
    "\n",
    "SVM is a very popular classifier, that divide the space.\n",
    "\n",
    "<img src=\"https://miro.medium.com/max/1200/1*06GSco3ItM3gwW2scY6Tmg.png\" width=\"50%\">"
   ]
  },
  {
   "cell_type": "code",
   "execution_count": null,
   "id": "1ff743f1",
   "metadata": {},
   "outputs": [],
   "source": [
    "from sklearn.svm import LinearSVC"
   ]
  },
  {
   "cell_type": "code",
   "execution_count": null,
   "id": "7cdda481",
   "metadata": {},
   "outputs": [],
   "source": [
    "svc = LinearSVC()"
   ]
  },
  {
   "cell_type": "code",
   "execution_count": null,
   "id": "95eced97",
   "metadata": {},
   "outputs": [],
   "source": [
    "model_svc = Pipeline([(\"scale\", StandardScaler()), (\"svc\", svc)])"
   ]
  },
  {
   "cell_type": "code",
   "execution_count": null,
   "id": "e1b82352",
   "metadata": {},
   "outputs": [],
   "source": [
    "model_svc.fit(X_train, y_train)"
   ]
  },
  {
   "cell_type": "code",
   "execution_count": null,
   "id": "632bd2f6",
   "metadata": {},
   "outputs": [],
   "source": [
    "predict = model_svc.predict(X_test)\n",
    "accuracy_score(predict, y_test)"
   ]
  },
  {
   "cell_type": "code",
   "execution_count": null,
   "id": "14788696",
   "metadata": {},
   "outputs": [],
   "source": [
    "disp = DecisionBoundaryDisplay.from_estimator(\n",
    "    model_svc,\n",
    "    X[:,:2],\n",
    "    response_method=\"predict\",\n",
    "    xlabel=iris.feature_names[0], ylabel=iris.feature_names[1], alpha=0.5\n",
    ")\n",
    "disp.ax_.scatter(X_test[:, 0], X_test[:, 1], c=y_test, edgecolor=\"k\")"
   ]
  },
  {
   "cell_type": "code",
   "execution_count": null,
   "id": "6993107d",
   "metadata": {},
   "outputs": [],
   "source": [
    "cross_val_score(model_svc, X, y, cv=5).mean()"
   ]
  },
  {
   "cell_type": "markdown",
   "id": "c8efa0f9",
   "metadata": {},
   "source": [
    "## Titanic Dataset"
   ]
  },
  {
   "cell_type": "markdown",
   "id": "cf60735d",
   "metadata": {},
   "source": [
    "We are going to use another datasets, detection of Titanic."
   ]
  },
  {
   "cell_type": "code",
   "execution_count": null,
   "id": "b6f947f9",
   "metadata": {},
   "outputs": [],
   "source": [
    "data = pd.read_csv(\"titanic.csv\").dropna()"
   ]
  },
  {
   "cell_type": "code",
   "execution_count": null,
   "id": "da58e7b7",
   "metadata": {},
   "outputs": [],
   "source": [
    "data.shape"
   ]
  },
  {
   "cell_type": "code",
   "execution_count": null,
   "id": "dbb1f940",
   "metadata": {},
   "outputs": [],
   "source": [
    "data.head()"
   ]
  },
  {
   "cell_type": "code",
   "execution_count": null,
   "id": "f9928cf3",
   "metadata": {},
   "outputs": [],
   "source": [
    "y = data['Survived']"
   ]
  },
  {
   "cell_type": "code",
   "execution_count": null,
   "id": "a60a6b44",
   "metadata": {},
   "outputs": [],
   "source": [
    "X = data.drop(['Survived', 'Cabin', 'PassengerId', 'Name', 'Ticket'], axis=1)"
   ]
  },
  {
   "cell_type": "code",
   "execution_count": null,
   "id": "a2447360",
   "metadata": {},
   "outputs": [],
   "source": [
    "import seaborn as sns\n",
    "disp = sns.countplot(x = 'Survived', hue = 'Sex', palette = 'Set1', data = data)\n",
    "disp.set(title = 'Passenger status (Survived/Died) against Passenger Class', \n",
    "       xlabel = 'Passenger Class', ylabel = 'Total')\n",
    "plt.show()"
   ]
  },
  {
   "cell_type": "code",
   "execution_count": null,
   "id": "ab5bc217",
   "metadata": {},
   "outputs": [],
   "source": [
    "from sklearn.preprocessing import LabelEncoder"
   ]
  },
  {
   "cell_type": "code",
   "execution_count": null,
   "id": "af388929",
   "metadata": {},
   "outputs": [],
   "source": [
    "labels_t = {}\n",
    "\n",
    "for col in ['Sex', 'Embarked']:\n",
    "    labels_t[col] = LabelEncoder().fit(X[col])\n",
    "    X[col] = labels_t[col].transform(X[col])"
   ]
  },
  {
   "cell_type": "code",
   "execution_count": null,
   "id": "e0d86d3a",
   "metadata": {},
   "outputs": [],
   "source": [
    "X.info()"
   ]
  },
  {
   "cell_type": "code",
   "execution_count": null,
   "id": "98d06ac0",
   "metadata": {},
   "outputs": [],
   "source": [
    "X_train, X_test, y_train, y_test = train_test_split(X, y, train_size=0.7, random_state=42)"
   ]
  },
  {
   "cell_type": "markdown",
   "id": "0d45027b",
   "metadata": {},
   "source": [
    "## Decision Tree\n",
    "\n",
    "The decision tree are one of the most intuitive models to predict a category. The idea is to automatically create a decision tree that, for each instance, in function of its attributes, a specific category is assigned."
   ]
  },
  {
   "cell_type": "code",
   "execution_count": null,
   "id": "5fad605e",
   "metadata": {},
   "outputs": [],
   "source": [
    "from sklearn.tree import DecisionTreeClassifier"
   ]
  },
  {
   "cell_type": "code",
   "execution_count": null,
   "id": "510c9642",
   "metadata": {},
   "outputs": [],
   "source": [
    "model_tree = DecisionTreeClassifier(max_depth=3)"
   ]
  },
  {
   "cell_type": "code",
   "execution_count": null,
   "id": "e224af3a",
   "metadata": {},
   "outputs": [],
   "source": [
    "model_tree.fit(X_train, y_train)"
   ]
  },
  {
   "cell_type": "markdown",
   "id": "11799ecb",
   "metadata": {},
   "source": [
    "We are going to visualize it."
   ]
  },
  {
   "cell_type": "code",
   "execution_count": null,
   "id": "28fb18cc",
   "metadata": {},
   "outputs": [],
   "source": [
    "\n",
    "from sklearn import tree"
   ]
  },
  {
   "cell_type": "code",
   "execution_count": null,
   "id": "02085fc5",
   "metadata": {},
   "outputs": [],
   "source": [
    "tree.plot_tree(model_tree)\n",
    "plt.show()"
   ]
  },
  {
   "cell_type": "code",
   "execution_count": null,
   "id": "69e77a43",
   "metadata": {},
   "outputs": [],
   "source": [
    "plt.figure(figsize=(50,50))\n",
    "tree.plot_tree(model_tree, feature_names=X_train.columns)\n",
    "plt.show()"
   ]
  },
  {
   "cell_type": "code",
   "execution_count": null,
   "id": "738dd08d",
   "metadata": {},
   "outputs": [],
   "source": [
    "cross_val_score(model_tree, X, y, cv=5).mean()"
   ]
  },
  {
   "cell_type": "markdown",
   "id": "bbdb59e3",
   "metadata": {},
   "source": [
    "## Ensemble models and Random Forest\n",
    "\n",
    "In this example, we are going to use Ensemble Model, Random Forest.\n",
    "\n",
    "<img src=\"https://miro.medium.com/max/1482/0*Srg7htj4TOMP5ldX.png\">"
   ]
  },
  {
   "cell_type": "code",
   "execution_count": null,
   "id": "9c9f7984",
   "metadata": {},
   "outputs": [],
   "source": [
    "from sklearn.ensemble import RandomForestClassifier"
   ]
  },
  {
   "cell_type": "code",
   "execution_count": null,
   "id": "59ee9278",
   "metadata": {},
   "outputs": [],
   "source": [
    "model_rf = RandomForestClassifier(n_estimators=50) # Limit the number of trees"
   ]
  },
  {
   "cell_type": "code",
   "execution_count": null,
   "id": "3463399c",
   "metadata": {},
   "outputs": [],
   "source": [
    "cross_val_score(model_rf, X, y, cv=5).mean()"
   ]
  },
  {
   "cell_type": "markdown",
   "id": "8f4d4c81",
   "metadata": {},
   "source": [
    "# Task: Tackle \n",
    "\n",
    "We have a list of Seeds for Pumpins, we want to classify the Class from the Features. Test the different models compared, using cross_validation, and get the best models."
   ]
  },
  {
   "cell_type": "code",
   "execution_count": null,
   "id": "60027287",
   "metadata": {},
   "outputs": [],
   "source": [
    "from scipy.io import arff\n",
    "import pandas as pd\n",
    "\n",
    "data = arff.loadarff('Pumpkin_Seeds_Dataset.arff')\n",
    "seeds = pd.DataFrame(data[0])"
   ]
  },
  {
   "cell_type": "code",
   "execution_count": null,
   "id": "c003096e",
   "metadata": {},
   "outputs": [],
   "source": [
    "seeds.head()"
   ]
  },
  {
   "cell_type": "code",
   "execution_count": null,
   "id": "f378115e",
   "metadata": {},
   "outputs": [],
   "source": [
    "target_labels = LabelEncoder().fit(seeds['Class'])"
   ]
  },
  {
   "cell_type": "code",
   "execution_count": null,
   "id": "9e5cc539",
   "metadata": {},
   "outputs": [],
   "source": [
    "y = target_labels.transform(seeds['Class'])\n",
    "X = seeds.drop(['Class'], axis=1)"
   ]
  }
 ],
 "metadata": {
  "kernelspec": {
   "display_name": "Python 3",
   "language": "python",
   "name": "python3"
  }
 },
 "nbformat": 4,
 "nbformat_minor": 5
}
