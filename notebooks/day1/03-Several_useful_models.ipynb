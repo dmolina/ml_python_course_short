{
 "cells": [
  {
   "cell_type": "markdown",
   "id": "5e0bb526",
   "metadata": {},
   "source": [
    "# About this Notebook\n",
    "\n",
    "In this notebook we are going to use several well-known models to classify using scikit-learn."
   ]
  },
  {
   "cell_type": "markdown",
   "id": "d9ed76e8",
   "metadata": {},
   "source": [
    "## Iris Dataset\n",
    "\n",
    "First, we are going to solve the Iris Dataset, it is a classic one. \n",
    "\n",
    "The target is to identify the iris from the dimension of the flower. \n",
    "\n",
    "<img src=\"https://machinelearninghd.com/wp-content/uploads/2021/03/iris-dataset.png\">"
   ]
  },
  {
   "cell_type": "code",
   "execution_count": null,
   "id": "f8a0b5fe",
   "metadata": {},
   "outputs": [],
   "source": [
    "from sklearn import datasets\n",
    "\n",
    "iris = datasets.load_iris()"
   ]
  },
  {
   "cell_type": "code",
   "execution_count": null,
   "id": "61a6fe10",
   "metadata": {},
   "outputs": [],
   "source": [
    "y = iris.target\n",
    "X = iris.data[:,:2]"
   ]
  },
  {
   "cell_type": "code",
   "execution_count": null,
   "id": "ef4da86b",
   "metadata": {},
   "outputs": [],
   "source": [
    "import pandas as pd"
   ]
  },
  {
   "cell_type": "code",
   "execution_count": null,
   "id": "34c1009d",
   "metadata": {},
   "outputs": [],
   "source": [
    "y"
   ]
  },
  {
   "cell_type": "markdown",
   "id": "f51faa4c",
   "metadata": {},
   "source": [
    "We divide in train and test"
   ]
  },
  {
   "cell_type": "code",
   "execution_count": null,
   "id": "f3e63f41",
   "metadata": {},
   "outputs": [],
   "source": [
    "from sklearn.model_selection import train_test_split\n",
    "\n",
    "X_train, X_test, y_train, y_test = train_test_split(X, y, test_size=0.3, random_state=42)"
   ]
  },
  {
   "cell_type": "markdown",
   "id": "f96a0b25",
   "metadata": {},
   "source": [
    "Now, we are going to use different classic algorithms."
   ]
  },
  {
   "cell_type": "markdown",
   "id": "8b52d2bd",
   "metadata": {},
   "source": [
    "## Lineal Classification"
   ]
  },
  {
   "cell_type": "markdown",
   "id": "d6dddc7b",
   "metadata": {},
   "source": [
    "First, we are going to use a Linear Classifier."
   ]
  },
  {
   "cell_type": "code",
   "execution_count": null,
   "id": "e5c98e5c",
   "metadata": {},
   "outputs": [],
   "source": [
    "from sklearn.linear_model import SGDClassifier\n",
    "\n",
    "model = SGDClassifier(max_iter=100)\n",
    "model.fit(X_train, y_train)"
   ]
  },
  {
   "cell_type": "code",
   "execution_count": null,
   "id": "e9ea1448",
   "metadata": {},
   "outputs": [],
   "source": [
    "predict = model.predict(X_test)"
   ]
  },
  {
   "cell_type": "code",
   "execution_count": null,
   "id": "eea4bac3",
   "metadata": {},
   "outputs": [],
   "source": [
    "from sklearn.metrics import accuracy_score\n",
    "from sklearn.model_selection import cross_val_score"
   ]
  },
  {
   "cell_type": "code",
   "execution_count": null,
   "id": "10a4a141",
   "metadata": {},
   "outputs": [],
   "source": [
    "accuracy_score(predict, y_test)"
   ]
  },
  {
   "cell_type": "markdown",
   "id": "dcacfa7e",
   "metadata": {},
   "source": [
    "It is able to classify with great results."
   ]
  },
  {
   "cell_type": "markdown",
   "id": "52700537",
   "metadata": {},
   "source": [
    "We are going to visualize the decision bounds."
   ]
  },
  {
   "cell_type": "code",
   "execution_count": null,
   "id": "fa555431",
   "metadata": {},
   "outputs": [],
   "source": [
    "from sklearn.inspection import DecisionBoundaryDisplay\n",
    "import matplotlib.pyplot as plt"
   ]
  },
  {
   "cell_type": "code",
   "execution_count": null,
   "id": "e78e921c",
   "metadata": {},
   "outputs": [],
   "source": [
    "disp = DecisionBoundaryDisplay.from_estimator(\n",
    "    model,\n",
    "    X[:,:2],\n",
    "    ax=plt.gca(),\n",
    "    response_method=\"predict\",\n",
    "    xlabel=iris.feature_names[0], ylabel=iris.feature_names[1], alpha=0.5\n",
    ")\n",
    "disp.ax_.scatter(X[:, 0], X[:, 1], c=iris.target, edgecolor=\"k\")"
   ]
  },
  {
   "cell_type": "markdown",
   "id": "48ca69c6",
   "metadata": {},
   "source": [
    "We can see that the space is linearly divided in 3, to classify each instance."
   ]
  },
  {
   "cell_type": "markdown",
   "id": "bdd561f0",
   "metadata": {},
   "source": [
    "We have use only two variables to visualize, with all four we achieve a better results. "
   ]
  },
  {
   "cell_type": "markdown",
   "id": "2cf577e1",
   "metadata": {},
   "source": [
    "**Task: Modify the code to use the 4 attributes, and check the accuracy.**"
   ]
  },
  {
   "cell_type": "code",
   "execution_count": null,
   "id": "b427503b",
   "metadata": {},
   "outputs": [],
   "source": [
    "predict = model.predict(X_test)"
   ]
  },
  {
   "cell_type": "code",
   "execution_count": null,
   "id": "8d840c0a",
   "metadata": {},
   "outputs": [],
   "source": [
    "cross_val_score(model, X, y, cv=5).mean()"
   ]
  },
  {
   "cell_type": "markdown",
   "id": "74a95d27",
   "metadata": {},
   "source": [
    "## K-Nearest Neighborhood\n",
    "\n",
    "This algorithm allow us to classify considering the class of the nearest instances."
   ]
  },
  {
   "cell_type": "code",
   "execution_count": null,
   "id": "6f3b169c",
   "metadata": {},
   "outputs": [],
   "source": [
    "\n",
    "from sklearn.neighbors import KNeighborsClassifier"
   ]
  },
  {
   "cell_type": "code",
   "execution_count": null,
   "id": "8bccada8",
   "metadata": {},
   "outputs": [],
   "source": [
    "knn = KNeighborsClassifier(n_neighbors=3)"
   ]
  },
  {
   "cell_type": "markdown",
   "id": "b4a74cf8",
   "metadata": {},
   "source": [
    "### Important: Data must be normalize"
   ]
  },
  {
   "cell_type": "code",
   "execution_count": null,
   "id": "ae2dea40",
   "metadata": {},
   "outputs": [],
   "source": [
    "from sklearn.pipeline import Pipeline\n",
    "from sklearn.preprocessing import StandardScaler"
   ]
  },
  {
   "cell_type": "code",
   "execution_count": null,
   "id": "63ab7033",
   "metadata": {},
   "outputs": [],
   "source": [
    "model_knn = Pipeline([\n",
    "            (\"scaler\", StandardScaler()),\n",
    "            (\"knn\", knn)])"
   ]
  },
  {
   "cell_type": "code",
   "execution_count": null,
   "id": "3cbef32a",
   "metadata": {},
   "outputs": [],
   "source": [
    "model_knn.fit(X_train, y_train)"
   ]
  },
  {
   "cell_type": "code",
   "execution_count": null,
   "id": "f18d855b",
   "metadata": {},
   "outputs": [],
   "source": [
    "predict = model_knn.predict(X_test)"
   ]
  },
  {
   "cell_type": "code",
   "execution_count": null,
   "id": "44c9cb03",
   "metadata": {},
   "outputs": [],
   "source": [
    "accuracy_score(predict, y_test)"
   ]
  },
  {
   "cell_type": "code",
   "execution_count": null,
   "id": "eb90c179",
   "metadata": {},
   "outputs": [],
   "source": [
    "disp = DecisionBoundaryDisplay.from_estimator(\n",
    "    model_knn,\n",
    "    X[:,:2],\n",
    "    ax=plt.gca(),\n",
    "    response_method=\"predict\",\n",
    "    xlabel=iris.feature_names[0], ylabel=iris.feature_names[1], alpha=0.5\n",
    ")\n",
    "disp.ax_.scatter(X_test[:, 0], X_test[:, 1], c=y_test, edgecolor=\"k\")"
   ]
  },
  {
   "cell_type": "markdown",
   "id": "5287832e",
   "metadata": {},
   "source": [
    "In this case, the region is grouping around each solution."
   ]
  },
  {
   "cell_type": "markdown",
   "id": "67367b39",
   "metadata": {},
   "source": [
    "**Task: Apply with several neighborhood.**"
   ]
  },
  {
   "cell_type": "code",
   "execution_count": null,
   "id": "a5bf9e65",
   "metadata": {},
   "outputs": [],
   "source": [
    "cross_val_score(model_knn, X, y, cv=5).mean()"
   ]
  },
  {
   "cell_type": "markdown",
   "id": "ef495b0c",
   "metadata": {},
   "source": [
    "## Support Vector Machine\n",
    "\n",
    "SVM is a very popular classifier, that divide the space.\n",
    "\n",
    "<img src=\"https://miro.medium.com/max/1200/1*06GSco3ItM3gwW2scY6Tmg.png\" width=\"50%\">"
   ]
  },
  {
   "cell_type": "code",
   "execution_count": null,
   "id": "f2eb8ee7",
   "metadata": {},
   "outputs": [],
   "source": [
    "from sklearn.svm import LinearSVC"
   ]
  },
  {
   "cell_type": "code",
   "execution_count": null,
   "id": "997baf77",
   "metadata": {},
   "outputs": [],
   "source": [
    "svc = LinearSVC()"
   ]
  },
  {
   "cell_type": "code",
   "execution_count": null,
   "id": "481c4476",
   "metadata": {},
   "outputs": [],
   "source": [
    "model_svc = Pipeline([(\"scale\", StandardScaler()), (\"svc\", svc)])"
   ]
  },
  {
   "cell_type": "code",
   "execution_count": null,
   "id": "75df75ac",
   "metadata": {},
   "outputs": [],
   "source": [
    "model_svc.fit(X_train, y_train)"
   ]
  },
  {
   "cell_type": "code",
   "execution_count": null,
   "id": "b2580d88",
   "metadata": {},
   "outputs": [],
   "source": [
    "predict = model_svc.predict(X_test)\n",
    "accuracy_score(predict, y_test)"
   ]
  },
  {
   "cell_type": "code",
   "execution_count": null,
   "id": "f769749d",
   "metadata": {},
   "outputs": [],
   "source": [
    "disp = DecisionBoundaryDisplay.from_estimator(\n",
    "    model_svc,\n",
    "    X[:,:2],\n",
    "    response_method=\"predict\",\n",
    "    xlabel=iris.feature_names[0], ylabel=iris.feature_names[1], alpha=0.5\n",
    ")\n",
    "disp.ax_.scatter(X_test[:, 0], X_test[:, 1], c=y_test, edgecolor=\"k\")"
   ]
  },
  {
   "cell_type": "code",
   "execution_count": null,
   "id": "e4eff489",
   "metadata": {},
   "outputs": [],
   "source": [
    "cross_val_score(model_svc, X, y, cv=5).mean()"
   ]
  },
  {
   "cell_type": "markdown",
   "id": "8bba0d3b",
   "metadata": {},
   "source": [
    "## Titanic Dataset"
   ]
  },
  {
   "cell_type": "markdown",
   "id": "47ca35b5",
   "metadata": {},
   "source": [
    "We are going to use another datasets, detection of Titanic."
   ]
  },
  {
   "cell_type": "code",
   "execution_count": null,
   "id": "dc00d3b4",
   "metadata": {},
   "outputs": [],
   "source": [
    "data = pd.read_csv(\"titanic.csv\").dropna()"
   ]
  },
  {
   "cell_type": "code",
   "execution_count": null,
   "id": "5305f28f",
   "metadata": {},
   "outputs": [],
   "source": [
    "data.shape"
   ]
  },
  {
   "cell_type": "code",
   "execution_count": null,
   "id": "f699bb6a",
   "metadata": {},
   "outputs": [],
   "source": [
    "data.head()"
   ]
  },
  {
   "cell_type": "code",
   "execution_count": null,
   "id": "70817fde",
   "metadata": {},
   "outputs": [],
   "source": [
    "y = data['Survived']"
   ]
  },
  {
   "cell_type": "code",
   "execution_count": null,
   "id": "9ab7adfb",
   "metadata": {},
   "outputs": [],
   "source": [
    "X = data.drop(['Survived', 'Cabin', 'PassengerId', 'Name', 'Ticket'], axis=1)"
   ]
  },
  {
   "cell_type": "code",
   "execution_count": null,
   "id": "dcf58297",
   "metadata": {},
   "outputs": [],
   "source": [
    "import seaborn as sns\n",
    "disp = sns.countplot(x = 'Survived', hue = 'Sex', palette = 'Set1', data = data)\n",
    "disp.set(title = 'Passenger status (Survived/Died) against Passenger Class', \n",
    "       xlabel = 'Passenger Class', ylabel = 'Total')\n",
    "plt.show()"
   ]
  },
  {
   "cell_type": "code",
   "execution_count": null,
   "id": "9a05f934",
   "metadata": {},
   "outputs": [],
   "source": [
    "from sklearn.preprocessing import LabelEncoder"
   ]
  },
  {
   "cell_type": "code",
   "execution_count": null,
   "id": "d17c90ca",
   "metadata": {},
   "outputs": [],
   "source": [
    "labels_t = {}\n",
    "\n",
    "for col in ['Sex', 'Embarked']:\n",
    "    labels_t[col] = LabelEncoder().fit(X[col])\n",
    "    X[col] = labels_t[col].transform(X[col])"
   ]
  },
  {
   "cell_type": "code",
   "execution_count": null,
   "id": "bfce8ac5",
   "metadata": {},
   "outputs": [],
   "source": [
    "X.info()"
   ]
  },
  {
   "cell_type": "code",
   "execution_count": null,
   "id": "4af79d65",
   "metadata": {},
   "outputs": [],
   "source": [
    "X_train, X_test, y_train, y_test = train_test_split(X, y, train_size=0.7, random_state=42)"
   ]
  },
  {
   "cell_type": "markdown",
   "id": "820f7173",
   "metadata": {},
   "source": [
    "## Decision Tree\n",
    "\n",
    "The decision tree are one of the most intuitive models to predict a category. The idea is to automatically create a decision tree that, for each instance, in function of its attributes, a specific category is assigned."
   ]
  },
  {
   "cell_type": "code",
   "execution_count": null,
   "id": "07e5c865",
   "metadata": {},
   "outputs": [],
   "source": [
    "from sklearn.tree import DecisionTreeClassifier"
   ]
  },
  {
   "cell_type": "code",
   "execution_count": null,
   "id": "216403fa",
   "metadata": {},
   "outputs": [],
   "source": [
    "model_tree = DecisionTreeClassifier(max_depth=3)"
   ]
  },
  {
   "cell_type": "code",
   "execution_count": null,
   "id": "dac8b82e",
   "metadata": {},
   "outputs": [],
   "source": [
    "model_tree.fit(X_train, y_train)"
   ]
  },
  {
   "cell_type": "markdown",
   "id": "af6f1bc7",
   "metadata": {},
   "source": [
    "We are going to visualize it."
   ]
  },
  {
   "cell_type": "code",
   "execution_count": null,
   "id": "3729965b",
   "metadata": {},
   "outputs": [],
   "source": [
    "\n",
    "from sklearn import tree"
   ]
  },
  {
   "cell_type": "code",
   "execution_count": null,
   "id": "7a23477b",
   "metadata": {},
   "outputs": [],
   "source": [
    "tree.plot_tree(model_tree)\n",
    "plt.show()"
   ]
  },
  {
   "cell_type": "code",
   "execution_count": null,
   "id": "db0e24d7",
   "metadata": {},
   "outputs": [],
   "source": [
    "plt.figure(figsize=(50,50))\n",
    "tree.plot_tree(model_tree, feature_names=X_train.columns)\n",
    "plt.show()"
   ]
  },
  {
   "cell_type": "code",
   "execution_count": null,
   "id": "deb6c882",
   "metadata": {},
   "outputs": [],
   "source": [
    "cross_val_score(model_tree, X, y, cv=5).mean()"
   ]
  },
  {
   "cell_type": "markdown",
   "id": "d5fd33e9",
   "metadata": {},
   "source": [
    "## Ensemble models and Random Forest\n",
    "\n",
    "In this example, we are going to use Ensemble Model, Random Forest.\n",
    "\n",
    "<img src=\"https://miro.medium.com/max/1482/0*Srg7htj4TOMP5ldX.png\">"
   ]
  },
  {
   "cell_type": "code",
   "execution_count": null,
   "id": "6e2688c0",
   "metadata": {},
   "outputs": [],
   "source": [
    "from sklearn.ensemble import RandomForestClassifier"
   ]
  },
  {
   "cell_type": "code",
   "execution_count": null,
   "id": "89c6811f",
   "metadata": {},
   "outputs": [],
   "source": [
    "model_rf = RandomForestClassifier(n_estimators=50) # Limit the number of trees"
   ]
  },
  {
   "cell_type": "code",
   "execution_count": null,
   "id": "658abb43",
   "metadata": {},
   "outputs": [],
   "source": [
    "cross_val_score(model_rf, X, y, cv=5).mean()"
   ]
  },
  {
   "cell_type": "markdown",
   "id": "30695028",
   "metadata": {},
   "source": [
    "# Regression\n",
    "\n",
    "Although all previous examples are for classification, another important usage of ML is to do regression, in which we are not interesting in predict the category of a feature, but to predict a numerical feature, like the temperature for next day or the price of an item. In the following, we will see how to predict with popular XGBoost and with a Random Forest.\n",
    "\n",
    "In Scikit-learn the final part of the name of the models indicate if they are classifier or for Regression, you can see the documentation to see many models for regression."
   ]
  },
  {
   "cell_type": "markdown",
   "id": "912fb29b",
   "metadata": {},
   "source": [
    "## California Housing\n",
    "\n",
    "This dataset implies to try to predict the price of houses in Boston. They use 8 features:\n",
    "\n",
    "\n",
    "- **MedInc** median income in block group\n",
    "- **HouseAge** median house age in block group\n",
    "- **AveRooms** average number of rooms per household\n",
    "- **AveBedrms** average number of bedrooms per household\n",
    "- **Population** block group population\n",
    "- **AveOccup** average number of household members\n",
    "- **Latitude** block group latitude\n",
    "- **Longitude** block group longitude\n"
   ]
  },
  {
   "cell_type": "markdown",
   "id": "12752a39",
   "metadata": {},
   "source": [
    "## XGBoost\n",
    "\n",
    "Although scikit-learn is the most used library for Machine Learning (aside for Deep Learning) it is not the only package with interesting models. There are specific libraries implementing specific models, as XGBoost.\n",
    "\n",
    "XGBoost is an optimized distributed gradient boosting library that implements machine learning\n",
    "algorithms under the Gradient Boosting framework. XGBoost provides a parallel tree boosting (also\n",
    "known as GBDT, GBM) that solve many data science problems in a fast and accurate way. \n",
    "\n",
    "This is the first example using regression, that it is another important approach for ML."
   ]
  },
  {
   "cell_type": "code",
   "execution_count": null,
   "id": "e8401ec6",
   "metadata": {},
   "outputs": [],
   "source": [
    "from sklearn.datasets import fetch_california_housing\n",
    "\n",
    "data = fetch_california_housing()"
   ]
  },
  {
   "cell_type": "code",
   "execution_count": null,
   "id": "4b063303",
   "metadata": {},
   "outputs": [],
   "source": [
    "X = data.data\n",
    "y = data.target\n",
    "feature_names = data.feature_names"
   ]
  },
  {
   "cell_type": "markdown",
   "id": "f7a2f023",
   "metadata": {},
   "source": [
    "In order to evaluate the performance of our model, we split the data into training and test sets."
   ]
  },
  {
   "cell_type": "code",
   "execution_count": null,
   "id": "4c9d79e3",
   "metadata": {},
   "outputs": [],
   "source": [
    "X_train, X_test, y_train, y_test = train_test_split(X, y)"
   ]
  },
  {
   "cell_type": "markdown",
   "id": "d5fb992a",
   "metadata": {},
   "source": [
    "We load the package."
   ]
  },
  {
   "cell_type": "code",
   "execution_count": null,
   "id": "193ed066",
   "metadata": {},
   "outputs": [],
   "source": [
    "import xgboost as xgb"
   ]
  },
  {
   "cell_type": "markdown",
   "id": "4a26b926",
   "metadata": {},
   "source": [
    "Next, we initialize an instance of the XGBRegressor class. We can select the value of Lambda and Gamma, as well as the number of estimators and maximum tree depth."
   ]
  },
  {
   "cell_type": "code",
   "execution_count": null,
   "id": "37db6c68",
   "metadata": {},
   "outputs": [],
   "source": [
    "regressor = xgb.XGBRegressor(\n",
    "    n_estimators=100,\n",
    "    reg_lambda=1, \n",
    "    gamma=0,\n",
    "    max_depth=3,\n",
    "    random_state = 42,\n",
    ")"
   ]
  },
  {
   "cell_type": "markdown",
   "id": "1e3e7034",
   "metadata": {},
   "source": [
    "We fit our model to the training set."
   ]
  },
  {
   "cell_type": "code",
   "execution_count": null,
   "id": "df405312",
   "metadata": {},
   "outputs": [],
   "source": [
    "regressor.fit(X_train, y_train)"
   ]
  },
  {
   "cell_type": "markdown",
   "id": "c9d48688",
   "metadata": {},
   "source": [
    "We can examine the relative importance attributed to each feature, in determining the house price."
   ]
  },
  {
   "cell_type": "code",
   "execution_count": null,
   "id": "7d06caeb",
   "metadata": {},
   "outputs": [],
   "source": [
    "pd.DataFrame(regressor.feature_importances_.reshape(1, -1), columns=feature_names)"
   ]
  },
  {
   "cell_type": "markdown",
   "id": "711f892f",
   "metadata": {},
   "source": [
    "As we can see, the median of incoming in the block is the greatest predictor of house price."
   ]
  },
  {
   "cell_type": "markdown",
   "id": "1943191e",
   "metadata": {},
   "source": [
    "Finally, we use our model to predict the price of a house given what it has learnt."
   ]
  },
  {
   "cell_type": "code",
   "execution_count": null,
   "id": "e1a35649",
   "metadata": {},
   "outputs": [],
   "source": [
    "y_pred = regressor.predict(X_test)"
   ]
  },
  {
   "cell_type": "markdown",
   "id": "87d76dad",
   "metadata": {},
   "source": [
    "We use the mean squared error to evaluate the model performance. The mean squared error is the average of the differences between the predictions and the actual values squared."
   ]
  },
  {
   "cell_type": "code",
   "execution_count": null,
   "id": "816fc65f",
   "metadata": {},
   "outputs": [],
   "source": [
    "from sklearn.metrics import mean_squared_error"
   ]
  },
  {
   "cell_type": "code",
   "execution_count": null,
   "id": "1d81ff1a",
   "metadata": {},
   "outputs": [],
   "source": [
    "mean_squared_error(y_test, y_pred)"
   ]
  },
  {
   "cell_type": "markdown",
   "id": "f27d5bb3",
   "metadata": {},
   "source": [
    "## RandomForestRegressor\n",
    "\n",
    "We are going to compare against another regression model, the **RandomForestRegressor**, using the\n",
    "same common parameters."
   ]
  },
  {
   "cell_type": "code",
   "execution_count": null,
   "id": "54e1c0d2",
   "metadata": {},
   "outputs": [],
   "source": [
    "from sklearn.ensemble import RandomForestRegressor\n",
    "rf_regres = RandomForestRegressor(max_depth=3, n_estimators=100, random_state=42)"
   ]
  },
  {
   "cell_type": "code",
   "execution_count": null,
   "id": "82f37c6b",
   "metadata": {},
   "outputs": [],
   "source": [
    "y_pred2 = rf_regres.fit(X_train, y_train).predict(X_test)"
   ]
  },
  {
   "cell_type": "code",
   "execution_count": null,
   "id": "1b1c0652",
   "metadata": {},
   "outputs": [],
   "source": [
    "mean_squared_error(y_test, y_pred2)"
   ]
  },
  {
   "cell_type": "markdown",
   "id": "e7728a46",
   "metadata": {},
   "source": [
    "It can be seen that the mean squared error from Random Forest is more than the double than using XGBoost.\n",
    "\n",
    "# Task: Tackle \n",
    "\n",
    "We have a list of Seeds for Pumpins, we want to classify the Class from the Features. Test the different models compared, using cross_validation, and get the best models."
   ]
  },
  {
   "cell_type": "code",
   "execution_count": null,
   "id": "eba913dd",
   "metadata": {},
   "outputs": [],
   "source": [
    "from scipy.io import arff\n",
    "import pandas as pd\n",
    "\n",
    "data = arff.loadarff('Pumpkin_Seeds_Dataset.arff')\n",
    "seeds = pd.DataFrame(data[0])"
   ]
  },
  {
   "cell_type": "code",
   "execution_count": null,
   "id": "6a568955",
   "metadata": {},
   "outputs": [],
   "source": [
    "seeds.head()"
   ]
  },
  {
   "cell_type": "code",
   "execution_count": null,
   "id": "eeb0f952",
   "metadata": {},
   "outputs": [],
   "source": [
    "target_labels = LabelEncoder().fit(seeds['Class'])"
   ]
  },
  {
   "cell_type": "code",
   "execution_count": null,
   "id": "45b47677",
   "metadata": {},
   "outputs": [],
   "source": [
    "y = target_labels.transform(seeds['Class'])\n",
    "X = seeds.drop(['Class'], axis=1)"
   ]
  }
 ],
 "metadata": {
  "kernelspec": {
   "argv": [
    "python",
    "-m",
    "ipykernel_launcher",
    "-f",
    "{connection_file}"
   ],
   "display_name": "Python 3",
   "env": null,
   "interrupt_mode": "signal",
   "language": "python",
   "metadata": null,
   "name": "python3"
  }
 },
 "nbformat": 4,
 "nbformat_minor": 5
}
