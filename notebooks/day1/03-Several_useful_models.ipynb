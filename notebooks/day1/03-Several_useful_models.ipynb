{
 "cells": [
  {
   "cell_type": "markdown",
   "id": "f092bfd2",
   "metadata": {},
   "source": [
    "# About this Notebook\n",
    "\n",
    "In this notebook we are going to use several well-known models to classify using scikit-learn."
   ]
  },
  {
   "cell_type": "markdown",
   "id": "7d7cf361",
   "metadata": {},
   "source": [
    "## Iris Dataset\n",
    "\n",
    "First, we are going to solve the Iris Dataset, it is a classic one. \n",
    "\n",
    "The target is to identify the iris from the dimension of the flower. \n",
    "\n",
    "<img src=\"https://machinelearninghd.com/wp-content/uploads/2021/03/iris-dataset.png\">"
   ]
  },
  {
   "cell_type": "code",
   "execution_count": null,
   "id": "b3f9a874",
   "metadata": {},
   "outputs": [],
   "source": [
    "from sklearn import datasets\n",
    "\n",
    "iris = datasets.load_iris()"
   ]
  },
  {
   "cell_type": "code",
   "execution_count": null,
   "id": "f4f67889",
   "metadata": {},
   "outputs": [],
   "source": [
    "y = iris.target\n",
    "X = iris.data[:,:2]"
   ]
  },
  {
   "cell_type": "code",
   "execution_count": null,
   "id": "600053eb",
   "metadata": {},
   "outputs": [],
   "source": [
    "import pandas as pd"
   ]
  },
  {
   "cell_type": "code",
   "execution_count": null,
   "id": "82132b05",
   "metadata": {},
   "outputs": [],
   "source": [
    "y"
   ]
  },
  {
   "cell_type": "markdown",
   "id": "a757e4b5",
   "metadata": {},
   "source": [
    "We divide in train and test"
   ]
  },
  {
   "cell_type": "code",
   "execution_count": null,
   "id": "069b2042",
   "metadata": {},
   "outputs": [],
   "source": [
    "from sklearn.model_selection import train_test_split\n",
    "\n",
    "X_train, X_test, y_train, y_test = train_test_split(X, y, test_size=0.3, random_state=42)"
   ]
  },
  {
   "cell_type": "markdown",
   "id": "1e5fa5f6",
   "metadata": {},
   "source": [
    "Now, we are going to use different classic algorithms."
   ]
  },
  {
   "cell_type": "markdown",
   "id": "5521ad1b",
   "metadata": {},
   "source": [
    "## Lineal Classification"
   ]
  },
  {
   "cell_type": "markdown",
   "id": "cd900e5a",
   "metadata": {},
   "source": [
    "First, we are going to use a Linear Classifier."
   ]
  },
  {
   "cell_type": "code",
   "execution_count": null,
   "id": "99122f8a",
   "metadata": {},
   "outputs": [],
   "source": [
    "from sklearn.linear_model import SGDClassifier\n",
    "\n",
    "model = SGDClassifier(max_iter=100)\n",
    "model.fit(X_train, y_train)"
   ]
  },
  {
   "cell_type": "code",
   "execution_count": null,
   "id": "ce511ab2",
   "metadata": {},
   "outputs": [],
   "source": [
    "predict = model.predict(X_test)"
   ]
  },
  {
   "cell_type": "code",
   "execution_count": null,
   "id": "27caff70",
   "metadata": {},
   "outputs": [],
   "source": [
    "from sklearn.metrics import accuracy_score\n",
    "from sklearn.model_selection import cross_val_score"
   ]
  },
  {
   "cell_type": "code",
   "execution_count": null,
   "id": "4b44d1e7",
   "metadata": {},
   "outputs": [],
   "source": [
    "accuracy_score(predict, y_test)"
   ]
  },
  {
   "cell_type": "markdown",
   "id": "76e297f8",
   "metadata": {},
   "source": [
    "It is able to classify with great results."
   ]
  },
  {
   "cell_type": "markdown",
   "id": "f57e46ee",
   "metadata": {},
   "source": [
    "We are going to visualize the decision bounds."
   ]
  },
  {
   "cell_type": "code",
   "execution_count": null,
   "id": "d8afb1d1",
   "metadata": {},
   "outputs": [],
   "source": [
    "from sklearn.inspection import DecisionBoundaryDisplay\n",
    "import matplotlib.pyplot as plt"
   ]
  },
  {
   "cell_type": "code",
   "execution_count": null,
   "id": "9d738445",
   "metadata": {},
   "outputs": [],
   "source": [
    "disp = DecisionBoundaryDisplay.from_estimator(\n",
    "    model,\n",
    "    X[:,:2],\n",
    "    ax=plt.gca(),\n",
    "    response_method=\"predict\",\n",
    "    xlabel=iris.feature_names[0], ylabel=iris.feature_names[1], alpha=0.5\n",
    ")\n",
    "disp.ax_.scatter(X[:, 0], X[:, 1], c=iris.target, edgecolor=\"k\")"
   ]
  },
  {
   "cell_type": "markdown",
   "id": "37c25428",
   "metadata": {},
   "source": [
    "We can see that the space is linearly divided in 3, to classify each instance."
   ]
  },
  {
   "cell_type": "markdown",
   "id": "d9663a1d",
   "metadata": {},
   "source": [
    "We have use only two variables to visualize, with all four we achieve a better results. "
   ]
  },
  {
   "cell_type": "markdown",
   "id": "c93654d4",
   "metadata": {},
   "source": [
    "**Task: Modify the code to use the 4 attributes, and check the accuracy.**"
   ]
  },
  {
   "cell_type": "code",
   "execution_count": null,
   "id": "6b6336a2",
   "metadata": {},
   "outputs": [],
   "source": [
    "predict = model.predict(X_test)"
   ]
  },
  {
   "cell_type": "code",
   "execution_count": null,
   "id": "2deb326d",
   "metadata": {},
   "outputs": [],
   "source": [
    "cross_val_score(model, X, y, cv=5).mean()"
   ]
  },
  {
   "cell_type": "markdown",
   "id": "0829638e",
   "metadata": {},
   "source": [
    "## K-Nearest Neighborhood\n",
    "\n",
    "This algorithm allow us to classify considering the class of the nearest instances."
   ]
  },
  {
   "cell_type": "code",
   "execution_count": null,
   "id": "02a67438",
   "metadata": {},
   "outputs": [],
   "source": [
    "\n",
    "from sklearn.neighbors import KNeighborsClassifier"
   ]
  },
  {
   "cell_type": "code",
   "execution_count": null,
   "id": "dad15b33",
   "metadata": {},
   "outputs": [],
   "source": [
    "knn = KNeighborsClassifier(n_neighbors=3)"
   ]
  },
  {
   "cell_type": "markdown",
   "id": "737363e1",
   "metadata": {},
   "source": [
    "### Important: Data must be normalize"
   ]
  },
  {
   "cell_type": "code",
   "execution_count": null,
   "id": "d0bd6e1f",
   "metadata": {},
   "outputs": [],
   "source": [
    "from sklearn.pipeline import Pipeline\n",
    "from sklearn.preprocessing import StandardScaler"
   ]
  },
  {
   "cell_type": "code",
   "execution_count": null,
   "id": "4931b683",
   "metadata": {},
   "outputs": [],
   "source": [
    "model_knn = Pipeline([\n",
    "            (\"scaler\", StandardScaler()),\n",
    "            (\"knn\", knn)])"
   ]
  },
  {
   "cell_type": "code",
   "execution_count": null,
   "id": "f0d3ab59",
   "metadata": {},
   "outputs": [],
   "source": [
    "model_knn.fit(X_train, y_train)"
   ]
  },
  {
   "cell_type": "code",
   "execution_count": null,
   "id": "e90ed6c6",
   "metadata": {},
   "outputs": [],
   "source": [
    "predict = model_knn.predict(X_test)"
   ]
  },
  {
   "cell_type": "code",
   "execution_count": null,
   "id": "b8cc99df",
   "metadata": {},
   "outputs": [],
   "source": [
    "accuracy_score(predict, y_test)"
   ]
  },
  {
   "cell_type": "code",
   "execution_count": null,
   "id": "603bd253",
   "metadata": {},
   "outputs": [],
   "source": [
    "disp = DecisionBoundaryDisplay.from_estimator(\n",
    "    model_knn,\n",
    "    X[:,:2],\n",
    "    ax=plt.gca(),\n",
    "    response_method=\"predict\",\n",
    "    xlabel=iris.feature_names[0], ylabel=iris.feature_names[1], alpha=0.5\n",
    ")\n",
    "disp.ax_.scatter(X_test[:, 0], X_test[:, 1], c=y_test, edgecolor=\"k\")"
   ]
  },
  {
   "cell_type": "markdown",
   "id": "a984418a",
   "metadata": {},
   "source": [
    "In this case, the region is grouping around each solution."
   ]
  },
  {
   "cell_type": "markdown",
   "id": "d3e5fe38",
   "metadata": {},
   "source": [
    "**Task: Apply with several neighborhood.**"
   ]
  },
  {
   "cell_type": "code",
   "execution_count": null,
   "id": "83c623ef",
   "metadata": {},
   "outputs": [],
   "source": [
    "cross_val_score(model_knn, X, y, cv=5).mean()"
   ]
  },
  {
   "cell_type": "markdown",
   "id": "15e406af",
   "metadata": {},
   "source": [
    "## Support Vector Machine\n",
    "\n",
    "SVM is a very popular classifier, that divide the space.\n",
    "\n",
    "<img src=\"https://miro.medium.com/max/1200/1*06GSco3ItM3gwW2scY6Tmg.png\" width=\"50%\">"
   ]
  },
  {
   "cell_type": "code",
   "execution_count": null,
   "id": "c98270cb",
   "metadata": {},
   "outputs": [],
   "source": [
    "from sklearn.svm import LinearSVC"
   ]
  },
  {
   "cell_type": "code",
   "execution_count": null,
   "id": "ae87bb73",
   "metadata": {},
   "outputs": [],
   "source": [
    "svc = LinearSVC()"
   ]
  },
  {
   "cell_type": "code",
   "execution_count": null,
   "id": "e1c58856",
   "metadata": {},
   "outputs": [],
   "source": [
    "model_svc = Pipeline([(\"scale\", StandardScaler()), (\"svc\", svc)])"
   ]
  },
  {
   "cell_type": "code",
   "execution_count": null,
   "id": "a1e90ead",
   "metadata": {},
   "outputs": [],
   "source": [
    "model_svc.fit(X_train, y_train)"
   ]
  },
  {
   "cell_type": "code",
   "execution_count": null,
   "id": "2684618d",
   "metadata": {},
   "outputs": [],
   "source": [
    "predict = model_svc.predict(X_test)\n",
    "accuracy_score(predict, y_test)"
   ]
  },
  {
   "cell_type": "code",
   "execution_count": null,
   "id": "e6611c4d",
   "metadata": {},
   "outputs": [],
   "source": [
    "disp = DecisionBoundaryDisplay.from_estimator(\n",
    "    model_svc,\n",
    "    X[:,:2],\n",
    "    response_method=\"predict\",\n",
    "    xlabel=iris.feature_names[0], ylabel=iris.feature_names[1], alpha=0.5\n",
    ")\n",
    "disp.ax_.scatter(X_test[:, 0], X_test[:, 1], c=y_test, edgecolor=\"k\")"
   ]
  },
  {
   "cell_type": "code",
   "execution_count": null,
   "id": "e05a0863",
   "metadata": {},
   "outputs": [],
   "source": [
    "cross_val_score(model_svc, X, y, cv=5).mean()"
   ]
  },
  {
   "cell_type": "markdown",
   "id": "ac825ef6",
   "metadata": {},
   "source": [
    "## Titanic Dataset"
   ]
  },
  {
   "cell_type": "markdown",
   "id": "6c166a82",
   "metadata": {},
   "source": [
    "We are going to use another datasets, detection of Titanic."
   ]
  },
  {
   "cell_type": "code",
   "execution_count": null,
   "id": "b65d857e",
   "metadata": {},
   "outputs": [],
   "source": [
    "data = pd.read_csv(\"titanic.csv\").dropna()"
   ]
  },
  {
   "cell_type": "code",
   "execution_count": null,
   "id": "a7f8fa76",
   "metadata": {},
   "outputs": [],
   "source": [
    "data.shape"
   ]
  },
  {
   "cell_type": "code",
   "execution_count": null,
   "id": "6226ac89",
   "metadata": {},
   "outputs": [],
   "source": [
    "data.head()"
   ]
  },
  {
   "cell_type": "code",
   "execution_count": null,
   "id": "3bb959a3",
   "metadata": {},
   "outputs": [],
   "source": [
    "y = data['Survived']"
   ]
  },
  {
   "cell_type": "code",
   "execution_count": null,
   "id": "9f7990ac",
   "metadata": {},
   "outputs": [],
   "source": [
    "X = data.drop(['Survived', 'Cabin', 'PassengerId', 'Name', 'Ticket'], axis=1)"
   ]
  },
  {
   "cell_type": "code",
   "execution_count": null,
   "id": "48925614",
   "metadata": {},
   "outputs": [],
   "source": [
    "import seaborn as sns\n",
    "disp = sns.countplot(x = 'Survived', hue = 'Sex', palette = 'Set1', data = data)\n",
    "disp.set(title = 'Passenger status (Survived/Died) against Passenger Class', \n",
    "       xlabel = 'Passenger Class', ylabel = 'Total')\n",
    "plt.show()"
   ]
  },
  {
   "cell_type": "code",
   "execution_count": null,
   "id": "b26a7592",
   "metadata": {},
   "outputs": [],
   "source": [
    "from sklearn.preprocessing import LabelEncoder"
   ]
  },
  {
   "cell_type": "code",
   "execution_count": null,
   "id": "d705f0af",
   "metadata": {},
   "outputs": [],
   "source": [
    "labels_t = {}\n",
    "\n",
    "for col in ['Sex', 'Embarked']:\n",
    "    labels_t[col] = LabelEncoder().fit(X[col])\n",
    "    X[col] = labels_t[col].transform(X[col])"
   ]
  },
  {
   "cell_type": "code",
   "execution_count": null,
   "id": "4029aaae",
   "metadata": {},
   "outputs": [],
   "source": [
    "X.info()"
   ]
  },
  {
   "cell_type": "code",
   "execution_count": null,
   "id": "54a3e72c",
   "metadata": {},
   "outputs": [],
   "source": [
    "X_train, X_test, y_train, y_test = train_test_split(X, y, train_size=0.7, random_state=42)"
   ]
  },
  {
   "cell_type": "markdown",
   "id": "2a829e8f",
   "metadata": {},
   "source": [
    "## Decision Tree\n",
    "\n",
    "The decision tree are one of the most intuitive models to predict a category. The idea is to automatically create a decision tree that, for each instance, in function of its attributes, a specific category is assigned."
   ]
  },
  {
   "cell_type": "code",
   "execution_count": null,
   "id": "e0213efc",
   "metadata": {},
   "outputs": [],
   "source": [
    "from sklearn.tree import DecisionTreeClassifier"
   ]
  },
  {
   "cell_type": "code",
   "execution_count": null,
   "id": "eeeafc08",
   "metadata": {},
   "outputs": [],
   "source": [
    "model_tree = DecisionTreeClassifier(max_depth=3)"
   ]
  },
  {
   "cell_type": "code",
   "execution_count": null,
   "id": "3f47730e",
   "metadata": {},
   "outputs": [],
   "source": [
    "model_tree.fit(X_train, y_train)"
   ]
  },
  {
   "cell_type": "markdown",
   "id": "7aff20bb",
   "metadata": {},
   "source": [
    "We are going to visualize it."
   ]
  },
  {
   "cell_type": "code",
   "execution_count": null,
   "id": "bd25f70a",
   "metadata": {},
   "outputs": [],
   "source": [
    "\n",
    "from sklearn import tree"
   ]
  },
  {
   "cell_type": "code",
   "execution_count": null,
   "id": "9540f069",
   "metadata": {},
   "outputs": [],
   "source": [
    "tree.plot_tree(model_tree)\n",
    "plt.show()"
   ]
  },
  {
   "cell_type": "code",
   "execution_count": null,
   "id": "20d2c8ef",
   "metadata": {},
   "outputs": [],
   "source": [
    "plt.figure(figsize=(50,50))\n",
    "tree.plot_tree(model_tree, feature_names=X_train.columns)\n",
    "plt.show()"
   ]
  },
  {
   "cell_type": "code",
   "execution_count": null,
   "id": "aa60372c",
   "metadata": {},
   "outputs": [],
   "source": [
    "cross_val_score(model_tree, X, y, cv=5).mean()"
   ]
  },
  {
   "cell_type": "markdown",
   "id": "d6ce0188",
   "metadata": {},
   "source": [
    "## Ensemble models and Random Forest\n",
    "\n",
    "In this example, we are going to use Ensemble Model, Random Forest.\n",
    "\n",
    "<img src=\"https://miro.medium.com/max/1482/0*Srg7htj4TOMP5ldX.png\">"
   ]
  },
  {
   "cell_type": "code",
   "execution_count": null,
   "id": "58405df3",
   "metadata": {},
   "outputs": [],
   "source": [
    "from sklearn.ensemble import RandomForestClassifier"
   ]
  },
  {
   "cell_type": "code",
   "execution_count": null,
   "id": "9228116f",
   "metadata": {},
   "outputs": [],
   "source": [
    "model_rf = RandomForestClassifier(n_estimators=50) # Limit the number of trees"
   ]
  },
  {
   "cell_type": "code",
   "execution_count": null,
   "id": "9e05f749",
   "metadata": {},
   "outputs": [],
   "source": [
    "cross_val_score(model_rf, X, y, cv=5).mean()"
   ]
  },
  {
   "cell_type": "markdown",
   "id": "92e542a3",
   "metadata": {},
   "source": [
    "# Task: Tackle \n",
    "\n",
    "We have a list of Seeds for Pumpins, we want to classify the Class from the Features. Test the different models compared, using cross_validation, and get the best models."
   ]
  },
  {
   "cell_type": "code",
   "execution_count": null,
   "id": "753113af",
   "metadata": {},
   "outputs": [],
   "source": [
    "from scipy.io import arff\n",
    "import pandas as pd\n",
    "\n",
    "data = arff.loadarff('Pumpkin_Seeds_Dataset.arff')\n",
    "seeds = pd.DataFrame(data[0])"
   ]
  },
  {
   "cell_type": "code",
   "execution_count": null,
   "id": "abfe933c",
   "metadata": {},
   "outputs": [],
   "source": [
    "seeds.head()"
   ]
  },
  {
   "cell_type": "code",
   "execution_count": null,
   "id": "7051ffbb",
   "metadata": {},
   "outputs": [],
   "source": [
    "target_labels = LabelEncoder().fit(seeds['Class'])"
   ]
  },
  {
   "cell_type": "code",
   "execution_count": null,
   "id": "81b83960",
   "metadata": {},
   "outputs": [],
   "source": [
    "y = target_labels.transform(seeds['Class'])\n",
    "X = seeds.drop(['Class'], axis=1)"
   ]
  }
 ],
 "metadata": {
  "kernelspec": {
   "display_name": "Python 3",
   "language": "python",
   "name": "python3"
  }
 },
 "nbformat": 4,
 "nbformat_minor": 5
}
