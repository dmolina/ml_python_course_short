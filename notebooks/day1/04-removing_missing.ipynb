{
 "cells": [
  {
   "cell_type": "markdown",
   "id": "420d8127",
   "metadata": {},
   "source": [
    "# How to tackle missing values"
   ]
  },
  {
   "cell_type": "markdown",
   "id": "64b306b1",
   "metadata": {},
   "source": [
    "In this *notebook* we are going to apply several options to preprocess missing values."
   ]
  },
  {
   "cell_type": "code",
   "execution_count": null,
   "id": "8d60b60d",
   "metadata": {},
   "outputs": [],
   "source": [
    "import pandas as pd"
   ]
  },
  {
   "cell_type": "markdown",
   "id": "c14379e2",
   "metadata": {},
   "source": [
    "## Reading with missing values\n",
    "\n",
    "The first thing is to assure a right reading of values. If we do not consider that they could be missing values, and how they are stored in CSV, it will interpret these values as normal strings."
   ]
  },
  {
   "cell_type": "code",
   "execution_count": null,
   "id": "42abe57c",
   "metadata": {},
   "outputs": [],
   "source": [
    "df = pd.read_csv(\"mammography.csv\")"
   ]
  },
  {
   "cell_type": "code",
   "execution_count": null,
   "id": "81ec03c3",
   "metadata": {},
   "outputs": [],
   "source": [
    "df.head()"
   ]
  },
  {
   "cell_type": "code",
   "execution_count": null,
   "id": "87c9bfd4",
   "metadata": {},
   "outputs": [],
   "source": [
    "df.dtypes"
   ]
  },
  {
   "cell_type": "markdown",
   "id": "1d74e5e3",
   "metadata": {},
   "source": [
    "The solution is to indicate that '?' means a missing value, this is done as:"
   ]
  },
  {
   "cell_type": "code",
   "execution_count": null,
   "id": "adf44beb",
   "metadata": {},
   "outputs": [],
   "source": [
    "df = pd.read_csv(\"mammography.csv\", na_values=[\"?\"])"
   ]
  },
  {
   "cell_type": "code",
   "execution_count": null,
   "id": "4761ca82",
   "metadata": {},
   "outputs": [],
   "source": [
    "df.head()"
   ]
  },
  {
   "cell_type": "code",
   "execution_count": null,
   "id": "1b338e82",
   "metadata": {},
   "outputs": [],
   "source": [
    "df.dtypes"
   ]
  },
  {
   "cell_type": "markdown",
   "id": "5bcdf5f3",
   "metadata": {},
   "source": [
    "# First option, to remove\n",
    "\n",
    "The simpler option, not the best one, is to remove any instance with missing or not valide attributes. This can be easily done with dropna()."
   ]
  },
  {
   "cell_type": "code",
   "execution_count": null,
   "id": "d2a872e1",
   "metadata": {},
   "outputs": [],
   "source": [
    "df2 = df.copy()\n",
    "df2.dropna().shape"
   ]
  },
  {
   "cell_type": "code",
   "execution_count": null,
   "id": "202494d4",
   "metadata": {},
   "outputs": [],
   "source": [
    "df.shape"
   ]
  },
  {
   "cell_type": "markdown",
   "id": "5335de8f",
   "metadata": {},
   "source": [
    "The problem is that you can loss too much data/instances, usually it is not recommended.\n",
    "\n",
    "# Another option: Replace them\n",
    "\n",
    "Another option is to replace the missing values with a value, it can be used several strategies:\n",
    "    \n",
    "- More frequent value in that column (or in the same category). This is reasonable for qualitative variables.\n",
    "- Average value, for numerical variables.\n",
    "- Value to maintain the same average and std in the attribute.\n",
    "\n",
    "In order to do that, we can use sklearn.impute, we will see with an example."
   ]
  },
  {
   "cell_type": "code",
   "execution_count": null,
   "id": "bb62720f",
   "metadata": {},
   "outputs": [],
   "source": [
    "from sklearn import impute"
   ]
  },
  {
   "cell_type": "code",
   "execution_count": null,
   "id": "ccde13b8",
   "metadata": {},
   "outputs": [],
   "source": [
    "df.Density.head()"
   ]
  },
  {
   "cell_type": "code",
   "execution_count": null,
   "id": "ada39bea",
   "metadata": {},
   "outputs": [],
   "source": [
    "df.Density.tail(20)"
   ]
  },
  {
   "cell_type": "markdown",
   "id": "d59848c0",
   "metadata": {},
   "source": [
    "First we create a SimpleImputer with the strategy, and then we apply it. Because SimpleImputer works with a matrix of vectors we use [], and then we \n",
    "use the first row of the result."
   ]
  },
  {
   "cell_type": "code",
   "execution_count": null,
   "id": "75ca5a8b",
   "metadata": {},
   "outputs": [],
   "source": [
    "help(impute.SimpleImputer)"
   ]
  },
  {
   "cell_type": "code",
   "execution_count": null,
   "id": "a573d0ea",
   "metadata": {},
   "outputs": [],
   "source": [
    "imputer = impute.SimpleImputer(strategy=\"most_frequent\")\n",
    "\n",
    "values = imputer.fit_transform([df.Density.values])\n",
    "values"
   ]
  },
  {
   "cell_type": "markdown",
   "id": "017f12aa",
   "metadata": {},
   "source": [
    "Now we update the attribute with the new values."
   ]
  },
  {
   "cell_type": "code",
   "execution_count": null,
   "id": "72341f26",
   "metadata": {},
   "outputs": [],
   "source": [
    "df.Density.update(pd.Series(values[0]))"
   ]
  },
  {
   "cell_type": "markdown",
   "id": "5ee9cbfd",
   "metadata": {},
   "source": [
    "We check there is not NaN in the attribute."
   ]
  },
  {
   "cell_type": "code",
   "execution_count": null,
   "id": "71f48566",
   "metadata": {},
   "outputs": [],
   "source": [
    "df.Density.head()"
   ]
  },
  {
   "cell_type": "code",
   "execution_count": null,
   "id": "0ad1823c",
   "metadata": {},
   "outputs": [],
   "source": [
    "df.Density.tail(20)"
   ]
  },
  {
   "cell_type": "markdown",
   "id": "3ec304bf",
   "metadata": {},
   "source": [
    "A more complete comparison."
   ]
  },
  {
   "cell_type": "code",
   "execution_count": null,
   "id": "75b3bd81",
   "metadata": {},
   "outputs": [],
   "source": [
    "df.head()"
   ]
  },
  {
   "cell_type": "code",
   "execution_count": null,
   "id": "6bbfa0a7",
   "metadata": {},
   "outputs": [],
   "source": [
    "df3 = df.copy()\n",
    "df3.dropna()"
   ]
  },
  {
   "cell_type": "code",
   "execution_count": null,
   "id": "e5506ef3",
   "metadata": {},
   "outputs": [],
   "source": [
    "df2 = df2.dropna()"
   ]
  },
  {
   "cell_type": "code",
   "execution_count": null,
   "id": "c7d76436",
   "metadata": {},
   "outputs": [],
   "source": [
    "df2.shape"
   ]
  },
  {
   "cell_type": "code",
   "execution_count": null,
   "id": "91bbe1fb",
   "metadata": {},
   "outputs": [],
   "source": [
    "df2.Density.describe()"
   ]
  },
  {
   "cell_type": "code",
   "execution_count": null,
   "id": "28aca2cc",
   "metadata": {},
   "outputs": [],
   "source": [
    "df3 = df3.dropna()\n",
    "df3.shape"
   ]
  },
  {
   "cell_type": "code",
   "execution_count": null,
   "id": "b03dad83",
   "metadata": {},
   "outputs": [],
   "source": [
    "df3.Density.describe()"
   ]
  }
 ],
 "metadata": {
  "jupytext": {
   "formats": "ipynb,md"
  },
  "kernelspec": {
   "display_name": "Python 3",
   "language": "python",
   "name": "python3"
  }
 },
 "nbformat": 4,
 "nbformat_minor": 5
}
