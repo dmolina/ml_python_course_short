{
 "cells": [
  {
   "cell_type": "markdown",
   "id": "31b0865e",
   "metadata": {},
   "source": [
    "# First steps\n",
    "\n",
    "About the philosophy about programming in Python"
   ]
  },
  {
   "cell_type": "code",
   "execution_count": null,
   "id": "5dbd0c22",
   "metadata": {},
   "outputs": [],
   "source": [
    "import this"
   ]
  },
  {
   "cell_type": "markdown",
   "id": "5635d2cf",
   "metadata": {},
   "source": [
    "Comments start with #"
   ]
  },
  {
   "cell_type": "code",
   "execution_count": null,
   "id": "6338fc01",
   "metadata": {},
   "outputs": [],
   "source": [
    "# This is a comment"
   ]
  },
  {
   "cell_type": "markdown",
   "id": "33214234",
   "metadata": {},
   "source": [
    "End of line set the end of a sentence (it does not required to use ; or other symbol)"
   ]
  },
  {
   "cell_type": "code",
   "execution_count": null,
   "id": "26318fb0",
   "metadata": {},
   "outputs": [],
   "source": [
    "x = 5\n",
    "y = 10\n",
    "x"
   ]
  },
  {
   "cell_type": "markdown",
   "id": "dab5dec2",
   "metadata": {},
   "source": [
    "Indentation is key.\n",
    "\n",
    "In Python the blocks of code are marked by the indentation. That also encourage an uniform style and readable that many found attractive in Python code."
   ]
  },
  {
   "cell_type": "code",
   "execution_count": null,
   "id": "431e8382",
   "metadata": {},
   "outputs": [],
   "source": [
    "x = [1,2,3,4]\n",
    "print (x)"
   ]
  },
  {
   "cell_type": "code",
   "execution_count": null,
   "id": "7ae46343",
   "metadata": {},
   "outputs": [],
   "source": [
    "lower = []\n",
    "upper = []\n",
    "x = 5\n",
    "for i in range(10):\n",
    "    if i < x:\n",
    "        lower.append(i)\n",
    "    else:\n",
    "        upper.append(i)\n",
    "\n",
    "print('lower: ', lower)\n",
    "print('upper: ', upper)"
   ]
  },
  {
   "cell_type": "markdown",
   "id": "79e8c8fd",
   "metadata": {},
   "source": [
    "Some print examples:"
   ]
  },
  {
   "cell_type": "code",
   "execution_count": null,
   "id": "d38cea7a",
   "metadata": {},
   "outputs": [],
   "source": [
    "print(\"lower: \"+lower)\n",
    "print(\"upper: \"+upper)"
   ]
  },
  {
   "cell_type": "code",
   "execution_count": null,
   "id": "8fcd8b47",
   "metadata": {},
   "outputs": [],
   "source": [
    "print (\"lower: \"+str(lower))\n",
    "print (\"upper: \"+str(upper))"
   ]
  },
  {
   "cell_type": "code",
   "execution_count": null,
   "id": "17cd641d",
   "metadata": {
    "lines_to_next_cell": 2
   },
   "outputs": [],
   "source": [
    "# Python 2 ! print \"first value:\", 1\n",
    "# Python 3 !\n",
    "print(\"first value:\", 1)"
   ]
  },
  {
   "cell_type": "markdown",
   "id": "fd26aeef",
   "metadata": {},
   "source": [
    "# Objects and Variables Variables y Objetos\n",
    "\n",
    "## Variables\n",
    "\n",
    "In Python all variables are references."
   ]
  },
  {
   "cell_type": "code",
   "execution_count": null,
   "id": "b6c996e0",
   "metadata": {},
   "outputs": [],
   "source": [
    "x = 4"
   ]
  },
  {
   "cell_type": "markdown",
   "id": "215bc300",
   "metadata": {},
   "source": [
    "x is a reference to the memory cell in which 4 is stored.\n",
    "\n",
    "we do not need to declare the type of x, x can refer values of different types. Thus, it is said that Python is a dynamic type language. We can do:"
   ]
  },
  {
   "cell_type": "code",
   "execution_count": null,
   "id": "ad72d945",
   "metadata": {},
   "outputs": [],
   "source": [
    "x = 1         # x is an integer\n",
    "x = 'hello'   # now x is a string\n",
    "x = [1, 2, 3] # now x is a list"
   ]
  },
  {
   "cell_type": "markdown",
   "id": "b6012714",
   "metadata": {},
   "source": [
    "This is another property that allows Python to be so easy to read and write.\n",
    "\n",
    "#### ¡Warning!\n",
    "Dynamic typing implies other consequences:"
   ]
  },
  {
   "cell_type": "code",
   "execution_count": null,
   "id": "4eaac1ce",
   "metadata": {},
   "outputs": [],
   "source": [
    "x = [1, 2, 3]\n",
    "y = x"
   ]
  },
  {
   "cell_type": "code",
   "execution_count": null,
   "id": "95fb7303",
   "metadata": {},
   "outputs": [],
   "source": [
    "print('x: ', x)\n",
    "print('y: ', y)"
   ]
  },
  {
   "cell_type": "code",
   "execution_count": null,
   "id": "743c9aa2",
   "metadata": {},
   "outputs": [],
   "source": [
    "x.append(4)"
   ]
  },
  {
   "cell_type": "code",
   "execution_count": null,
   "id": "a5c07cab",
   "metadata": {},
   "outputs": [],
   "source": [
    "print(y)"
   ]
  },
  {
   "cell_type": "markdown",
   "id": "f377021b",
   "metadata": {},
   "source": [
    "y reference to the same value than x, so when x changes the values of y changes also (both refer is the same data).\n",
    "\n",
    "However, when we use '=' to change x:"
   ]
  },
  {
   "cell_type": "code",
   "execution_count": null,
   "id": "91ffb03e",
   "metadata": {},
   "outputs": [],
   "source": [
    "x = 'Bye'\n",
    "\n",
    "print (x)\n",
    "print(y)"
   ]
  },
  {
   "cell_type": "markdown",
   "id": "19101128",
   "metadata": {},
   "source": [
    "The operator '=' make x to refer to a different memory value.\n",
    "\n",
    "The original information referred by x is intact."
   ]
  },
  {
   "cell_type": "code",
   "execution_count": null,
   "id": "bf43d23e",
   "metadata": {},
   "outputs": [],
   "source": [
    "x = 10\n",
    "y = x\n",
    "x += 5  # add 5 to x's value, and assign it to x\n",
    "print(\"x =\", x)\n",
    "print(\"y =\", y)"
   ]
  },
  {
   "cell_type": "markdown",
   "id": "0b84c9e4",
   "metadata": {},
   "source": [
    "## Objects\n",
    "\n",
    "Python is a Oriented Programming language, in Python everything is an object."
   ]
  },
  {
   "cell_type": "markdown",
   "id": "81a20ef9",
   "metadata": {},
   "source": [
    "We have just see that in Python variables are essentially pointers, and that define a variable does not implies information about its type. However, Python is not a 'typeless' language.\n",
    "\n",
    "Python has types, they are related to the values."
   ]
  },
  {
   "cell_type": "code",
   "execution_count": null,
   "id": "4dea1c04",
   "metadata": {},
   "outputs": [],
   "source": [
    "x = 4\n",
    "type(x)"
   ]
  },
  {
   "cell_type": "code",
   "execution_count": null,
   "id": "8b0c0f15",
   "metadata": {},
   "outputs": [],
   "source": [
    "x = 'hello'\n",
    "type(x)"
   ]
  },
  {
   "cell_type": "code",
   "execution_count": null,
   "id": "f1e3b71e",
   "metadata": {},
   "outputs": [],
   "source": [
    "x = 3.14159\n",
    "type(x)"
   ]
  },
  {
   "cell_type": "markdown",
   "id": "3a6cdb66",
   "metadata": {},
   "source": [
    "# Identity Operators\n",
    "\n",
    "## Identity operators: 'is' and 'is not'\n",
    "\n",
    "Identity is not the same than equality."
   ]
  },
  {
   "cell_type": "code",
   "execution_count": null,
   "id": "f9cef1c2",
   "metadata": {},
   "outputs": [],
   "source": [
    "a = [1, 2, 3]\n",
    "b = [1, 2, 3]"
   ]
  },
  {
   "cell_type": "code",
   "execution_count": null,
   "id": "6017cc6d",
   "metadata": {},
   "outputs": [],
   "source": [
    "a==b"
   ]
  },
  {
   "cell_type": "code",
   "execution_count": null,
   "id": "caa2688f",
   "metadata": {},
   "outputs": [],
   "source": [
    "a is b"
   ]
  },
  {
   "cell_type": "code",
   "execution_count": null,
   "id": "2a9aea4d",
   "metadata": {},
   "outputs": [],
   "source": [
    "a is not b"
   ]
  },
  {
   "cell_type": "markdown",
   "id": "2b78420d",
   "metadata": {},
   "source": [
    "a y b store different objects.\n",
    "\n",
    "Before we observed that Python are actually pointers. Operator 'is' check if they refer the same object.\n",
    "So, the majority of times new students want to use 'is' they actually wanted to use '=='."
   ]
  },
  {
   "cell_type": "code",
   "execution_count": null,
   "id": "c9ffaff7",
   "metadata": {},
   "outputs": [],
   "source": [
    "a=b"
   ]
  },
  {
   "cell_type": "code",
   "execution_count": null,
   "id": "72c4946c",
   "metadata": {},
   "outputs": [],
   "source": [
    "a is b"
   ]
  },
  {
   "cell_type": "markdown",
   "id": "5077707a",
   "metadata": {},
   "source": [
    "## Set operators\n",
    "These operators check if a value is contained in a composed object."
   ]
  },
  {
   "cell_type": "code",
   "execution_count": null,
   "id": "06ccdaaa",
   "metadata": {},
   "outputs": [],
   "source": [
    "1 in [1,2,3]"
   ]
  },
  {
   "cell_type": "code",
   "execution_count": null,
   "id": "a69182d3",
   "metadata": {},
   "outputs": [],
   "source": [
    "2 not in [1,2,3]"
   ]
  },
  {
   "cell_type": "markdown",
   "id": "d09ab5cb",
   "metadata": {},
   "source": [
    "In object-oriented (OO) languages as Python, an object is an entity that stores data with their functionality (methods).\n",
    "\n",
    "In Python everything is an object, each value has some information (attributes) and functionality (methods), they are accessed by dot syntax."
   ]
  },
  {
   "cell_type": "code",
   "execution_count": null,
   "id": "8e1130fd",
   "metadata": {},
   "outputs": [],
   "source": [
    "L = [1, 2, 3]\n",
    "L.append(100)\n",
    "print(L)"
   ]
  },
  {
   "cell_type": "markdown",
   "id": "fe06792d",
   "metadata": {},
   "source": [
    "Maybe it is strange but every value (not only composed) has its own methods."
   ]
  },
  {
   "cell_type": "code",
   "execution_count": null,
   "id": "d1a43311",
   "metadata": {},
   "outputs": [],
   "source": [
    "x = 4.5\n",
    "print(x.real, \"+\", x.imag, 'i')"
   ]
  },
  {
   "cell_type": "code",
   "execution_count": null,
   "id": "e47ba0dd",
   "metadata": {},
   "outputs": [],
   "source": [
    "x.is_integer()"
   ]
  },
  {
   "cell_type": "code",
   "execution_count": null,
   "id": "09601924",
   "metadata": {},
   "outputs": [],
   "source": [
    "x = 4.0\n",
    "x.is_integer()"
   ]
  },
  {
   "cell_type": "markdown",
   "id": "cf49739e",
   "metadata": {},
   "source": [
    "Even the attributes and methods have its own information."
   ]
  },
  {
   "cell_type": "code",
   "execution_count": null,
   "id": "2fc11619",
   "metadata": {},
   "outputs": [],
   "source": [
    "type(x.is_integer)"
   ]
  },
  {
   "cell_type": "markdown",
   "id": "8fe7f9dc",
   "metadata": {},
   "source": [
    "# Control flow\n",
    "\n",
    "## Conditionals"
   ]
  },
  {
   "cell_type": "code",
   "execution_count": null,
   "id": "5e666302",
   "metadata": {},
   "outputs": [],
   "source": [
    "x = -15\n",
    "\n",
    "if x == 0:\n",
    "    print(x, \"is zero\")\n",
    "elif x > 0:\n",
    "    print(x, \"is positive\")\n",
    "elif x < 0:\n",
    "    print(x, \"is negative\")\n",
    "else:\n",
    "    print(x, \"I has not idea...\")"
   ]
  },
  {
   "cell_type": "markdown",
   "id": "fa3d627e",
   "metadata": {},
   "source": [
    "The ':' and the identation are used to indicate the code blocks."
   ]
  },
  {
   "cell_type": "markdown",
   "id": "614b919a",
   "metadata": {},
   "source": [
    "## Loops\n",
    "\n",
    "### For\n",
    "\n",
    "Some for examples in Python.\n",
    "\n",
    "To print the elements of a list we can do:"
   ]
  },
  {
   "cell_type": "code",
   "execution_count": null,
   "id": "2b977968",
   "metadata": {
    "lines_to_next_cell": 2
   },
   "outputs": [],
   "source": [
    "for N in [2, 3, 5, 7]:\n",
    "    print(N, end=' ') # Python 3 only! print all on same line\n",
    "    #print N ,         # Python 2 only! print all on same line"
   ]
  },
  {
   "cell_type": "markdown",
   "id": "57876f57",
   "metadata": {},
   "source": [
    "Especificamos la variable que queremos usar, la secuencia sobre la que queremos iterar, y usamos el operador 'in' para unirlos de forma intuitiva y legible. El objeto a la derecha del operador 'in' puede ser cualquier iterador de Python.\n",
    "\n",
    "One of the iterators more widely used is the object range that generates a sequence of numbers:"
   ]
  },
  {
   "cell_type": "code",
   "execution_count": null,
   "id": "d67156c7",
   "metadata": {},
   "outputs": [],
   "source": [
    "for i in range(10):\n",
    "    print(i, end=\", \")"
   ]
  },
  {
   "cell_type": "code",
   "execution_count": null,
   "id": "cfeb0e82",
   "metadata": {},
   "outputs": [],
   "source": [
    "# range from 5 to 10\n",
    "list(range(5, 10))"
   ]
  },
  {
   "cell_type": "code",
   "execution_count": null,
   "id": "ed7f7ce8",
   "metadata": {},
   "outputs": [],
   "source": [
    "# range from 0 to 10 by 2\n",
    "list(range(-10, 10, 2))"
   ]
  },
  {
   "cell_type": "markdown",
   "id": "15d607e9",
   "metadata": {},
   "source": [
    "### Bucle while"
   ]
  },
  {
   "cell_type": "code",
   "execution_count": null,
   "id": "110c9f9e",
   "metadata": {},
   "outputs": [],
   "source": [
    "i = 0\n",
    "while i < 10:\n",
    "    print(i, end=\", \")\n",
    "    i += 1"
   ]
  },
  {
   "cell_type": "markdown",
   "id": "beb4ea2b",
   "metadata": {},
   "source": [
    "### break and continue\n",
    "\n",
    "They are two useful sentences to use inside a loop:\n",
    "- break: stop the loop.\n",
    "- continue: ignore the current value of loop, go directly to next object.\n",
    "\n",
    "Both can be used in for and while."
   ]
  },
  {
   "cell_type": "code",
   "execution_count": null,
   "id": "1feef079",
   "metadata": {},
   "outputs": [],
   "source": [
    "for n in range(20):\n",
    "    # If the rem n / 2 is 0, ignore the print\n",
    "    if n % 2 == 0:\n",
    "        continue\n",
    "    print(n)"
   ]
  },
  {
   "cell_type": "code",
   "execution_count": null,
   "id": "c0df730c",
   "metadata": {},
   "outputs": [],
   "source": [
    "# Finish a list with Fibonacci values\n",
    "a, b = 0, 1\n",
    "amax = 100\n",
    "L = []\n",
    "\n",
    "while True:\n",
    "    (a, b) = (b, a + b)   # multiple assigment.\n",
    "    if a > amax:\n",
    "        break\n",
    "    L.append(a)\n",
    "\n",
    "print(L)"
   ]
  },
  {
   "cell_type": "markdown",
   "id": "51f2b113",
   "metadata": {},
   "source": [
    "# Functions\n",
    "\n",
    "They are defined with def."
   ]
  },
  {
   "cell_type": "code",
   "execution_count": null,
   "id": "53d39c9d",
   "metadata": {},
   "outputs": [],
   "source": [
    "def fibonacci(N):\n",
    "    L = []\n",
    "    a, b = 0, 1\n",
    "    while len(L) < N:\n",
    "        a, b = b, a + b\n",
    "        L.append(a)\n",
    "    return L"
   ]
  },
  {
   "cell_type": "code",
   "execution_count": null,
   "id": "e64dc0b8",
   "metadata": {
    "lines_to_next_cell": 2
   },
   "outputs": [],
   "source": [
    "fibonacci(10)\n",
    "x =2"
   ]
  },
  {
   "cell_type": "markdown",
   "id": "663b2f97",
   "metadata": {},
   "source": [
    "We have defined a function called fibonacci with an argument N that returns a value, a list with N first values of Fibonacci sequence."
   ]
  },
  {
   "cell_type": "code",
   "execution_count": null,
   "id": "d8abe61f",
   "metadata": {},
   "outputs": [],
   "source": [
    "fibonacci(10)\n",
    "x = 2\n",
    "x"
   ]
  },
  {
   "cell_type": "markdown",
   "id": "63c57083",
   "metadata": {},
   "source": [
    "A function can returns any object in Python."
   ]
  },
  {
   "cell_type": "markdown",
   "id": "ba17d70e",
   "metadata": {},
   "source": [
    "A veces cuando definimos una función, hay ciertos valores que queremos que la función use la mayor parte del tiempo (o que creemos que son los que se van a usar mayoritariamente) pero también nos gustaría dar al usuario opciones/flexibilidad. En esos casos, podemos usar valores por defecto para los argumentos de la función."
   ]
  },
  {
   "cell_type": "code",
   "execution_count": null,
   "id": "382a4bc2",
   "metadata": {},
   "outputs": [],
   "source": [
    "def fibonacci(N, a=0, b=1):\n",
    "    L = []\n",
    "    while len(L) < N:\n",
    "        a, b = b, a + b\n",
    "        L.append(a)\n",
    "    return L"
   ]
  },
  {
   "cell_type": "code",
   "execution_count": null,
   "id": "bafebfd7",
   "metadata": {},
   "outputs": [],
   "source": [
    "fibonacci(10)"
   ]
  },
  {
   "cell_type": "code",
   "execution_count": null,
   "id": "9ddcbb4a",
   "metadata": {},
   "outputs": [],
   "source": [
    "fibonacci(10, 0, 1)"
   ]
  },
  {
   "cell_type": "code",
   "execution_count": null,
   "id": "d0689734",
   "metadata": {},
   "outputs": [],
   "source": [
    "fibonacci(10, 0, 2)"
   ]
  },
  {
   "cell_type": "code",
   "execution_count": null,
   "id": "c4fec2d7",
   "metadata": {},
   "outputs": [],
   "source": [
    "fibonacci(10, b=3, a=1)"
   ]
  },
  {
   "cell_type": "markdown",
   "id": "ae0e8b87",
   "metadata": {},
   "source": [
    "# Modules and packages\n",
    "\n",
    "For loading and using existing modules we use the sentence import. \n",
    "\n",
    "We can import direclty one module. For using its functions and/or variable, we have to include the namespace."
   ]
  },
  {
   "cell_type": "code",
   "execution_count": null,
   "id": "2cd5a85a",
   "metadata": {},
   "outputs": [],
   "source": [
    "import math\n",
    "math.cos(math.pi)"
   ]
  },
  {
   "cell_type": "markdown",
   "id": "dd71fe86",
   "metadata": {},
   "source": [
    "We can import using an alias, very common."
   ]
  },
  {
   "cell_type": "code",
   "execution_count": null,
   "id": "e9ad6f03",
   "metadata": {},
   "outputs": [],
   "source": [
    "import numpy as np\n",
    "np.cos(np.pi)"
   ]
  },
  {
   "cell_type": "markdown",
   "id": "4c5aa0ee",
   "metadata": {},
   "source": [
    "If we are only interested in some elements, we can indicate and avoid the namespace:"
   ]
  },
  {
   "cell_type": "code",
   "execution_count": null,
   "id": "989a68cb",
   "metadata": {},
   "outputs": [],
   "source": [
    "from math import cos, pi\n",
    "cos(pi)"
   ]
  },
  {
   "cell_type": "markdown",
   "id": "a3a1348e",
   "metadata": {},
   "source": [
    "We can import all content of a package (not recommended)"
   ]
  },
  {
   "cell_type": "code",
   "execution_count": null,
   "id": "f25fe487",
   "metadata": {},
   "outputs": [],
   "source": [
    "from math import *\n",
    "sin(pi) ** 2 + cos(pi) ** 2"
   ]
  },
  {
   "cell_type": "markdown",
   "id": "1ec50dc0",
   "metadata": {},
   "source": [
    "You should be careful with this options. The problem is to overload existing functions not wanted. For instance:"
   ]
  },
  {
   "cell_type": "code",
   "execution_count": null,
   "id": "ec943976",
   "metadata": {},
   "outputs": [],
   "source": [
    "help(sum)"
   ]
  },
  {
   "cell_type": "code",
   "execution_count": null,
   "id": "a2a7a89f",
   "metadata": {},
   "outputs": [],
   "source": [
    "print(str(range(5)))\n",
    "sum(range(5), -1)"
   ]
  },
  {
   "cell_type": "code",
   "execution_count": null,
   "id": "5f074478",
   "metadata": {},
   "outputs": [],
   "source": [
    "from numpy import *\n",
    "help (sum)\n",
    "sum(range(5), -1)"
   ]
  },
  {
   "cell_type": "markdown",
   "id": "f8ba598b",
   "metadata": {},
   "source": [
    "In the first case, we sum range(5) starting with -1; in the second one, we sum range(5) using the last axis (indicated by -1)."
   ]
  },
  {
   "cell_type": "markdown",
   "id": "8f3b8bba",
   "metadata": {},
   "source": [
    "# External Libraries\n",
    "\n",
    "One of the most useful features of Python, specially in science data, is their ecosystem, there are libraries for almost anything, and they can be easily installed. These libraries can be imported as built-in modules, but first we have to install them in our system. The standard registry is the Python Package Index (PyPI), we can check the available libraries in http://pypi.python.org/.\n",
    "To install one of these modules/libraries, we will use the program pip. For instance, to install the library pandas:\n",
    "\n",
    "$ pip install pandas\n",
    "\n",
    "#### If you use ANACONDA:\n",
    "With Anaconda, the command will be:\n",
    "\n",
    "$ conda install pandas\n",
    "\n",
    "Or through the user interface: Environments option."
   ]
  }
 ],
 "metadata": {
  "jupytext": {
   "encoding": "# -*- coding: utf-8 -*-"
  },
  "kernelspec": {
   "display_name": "Python 3",
   "language": "python",
   "name": "python3"
  }
 },
 "nbformat": 4,
 "nbformat_minor": 5
}
