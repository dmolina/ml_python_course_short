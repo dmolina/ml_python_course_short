{
 "cells": [
  {
   "cell_type": "markdown",
   "id": "de4d373a",
   "metadata": {},
   "source": [
    "# First steps with Scikit-Learn"
   ]
  },
  {
   "cell_type": "markdown",
   "id": "02061650",
   "metadata": {},
   "source": [
    "<img src=\"https://s3.amazonaws.com/com.twilio.prod.twilio-docs/original_images/scikit-learn.png\" width=\"30%\">\n",
    "\n",
    "First, we import pandas."
   ]
  },
  {
   "cell_type": "code",
   "execution_count": null,
   "id": "b1a16383",
   "metadata": {},
   "outputs": [],
   "source": [
    "import pandas as pd"
   ]
  },
  {
   "cell_type": "markdown",
   "id": "61ba18d8",
   "metadata": {},
   "source": [
    "## Reading Data\n",
    "\n",
    "The loading of data is going to be through Pandas, usually from a CSV or Excel file.\n",
    "\n",
    "We store in a variable the url from which we are going to download it."
   ]
  },
  {
   "cell_type": "code",
   "execution_count": null,
   "id": "20a3b4c1",
   "metadata": {},
   "outputs": [],
   "source": [
    "url = \"https://raw.githubusercontent.com/vkrit/data-science-class/master/WA_Fn-UseC_-Sales-Win-Loss.csv\"\n"
   ]
  },
  {
   "cell_type": "markdown",
   "id": "5026d60e",
   "metadata": {},
   "source": [
    "Read the CSV file."
   ]
  },
  {
   "cell_type": "code",
   "execution_count": null,
   "id": "ce7febf6",
   "metadata": {},
   "outputs": [],
   "source": [
    "sales_data= pd.read_csv(url)"
   ]
  },
  {
   "cell_type": "code",
   "execution_count": null,
   "id": "5c4d632f",
   "metadata": {
    "lines_to_next_cell": 0
   },
   "outputs": [],
   "source": [
    "sales_data.head()"
   ]
  },
  {
   "cell_type": "markdown",
   "id": "27763e20",
   "metadata": {},
   "source": [
    "## Exploration of data"
   ]
  },
  {
   "cell_type": "code",
   "execution_count": null,
   "id": "e149db73",
   "metadata": {},
   "outputs": [],
   "source": [
    "sales_data.head(n=2)"
   ]
  },
  {
   "cell_type": "markdown",
   "id": "1dae7810",
   "metadata": {},
   "source": [
    "We can see the last rows:"
   ]
  },
  {
   "cell_type": "code",
   "execution_count": null,
   "id": "ea2fd31e",
   "metadata": {},
   "outputs": [],
   "source": [
    "sales_data.tail()"
   ]
  },
  {
   "cell_type": "markdown",
   "id": "957c4b6c",
   "metadata": {},
   "source": [
    "Check the type of each attribute:"
   ]
  },
  {
   "cell_type": "code",
   "execution_count": null,
   "id": "3bdbafe7",
   "metadata": {},
   "outputs": [],
   "source": [
    "sales_data.dtypes"
   ]
  },
  {
   "cell_type": "code",
   "execution_count": null,
   "id": "73def235",
   "metadata": {},
   "outputs": [],
   "source": [
    "sales_data.describe()"
   ]
  },
  {
   "cell_type": "code",
   "execution_count": null,
   "id": "41108c92",
   "metadata": {},
   "outputs": [],
   "source": [
    "sales_data.shape"
   ]
  },
  {
   "cell_type": "markdown",
   "id": "c4470804",
   "metadata": {},
   "source": [
    "# Small visualization of data\n",
    "\n",
    "We are going to show a little the data."
   ]
  },
  {
   "cell_type": "code",
   "execution_count": null,
   "id": "94e25cf1",
   "metadata": {},
   "outputs": [],
   "source": [
    "import seaborn as sns\n",
    "import matplotlib.pyplot as plt"
   ]
  },
  {
   "cell_type": "markdown",
   "id": "31578e47",
   "metadata": {},
   "source": [
    "Countplot"
   ]
  },
  {
   "cell_type": "code",
   "execution_count": null,
   "id": "49b9d8af",
   "metadata": {},
   "outputs": [],
   "source": [
    "sns.set(style=\"whitegrid\", color_codes=True)"
   ]
  },
  {
   "cell_type": "code",
   "execution_count": null,
   "id": "20e53d32",
   "metadata": {},
   "outputs": [],
   "source": [
    "sns.set(rc={'figure.figsize':(11.7,8.27)})"
   ]
  },
  {
   "cell_type": "code",
   "execution_count": null,
   "id": "221ff1e4",
   "metadata": {},
   "outputs": [],
   "source": [
    "sns.countplot('Route To Market',data=sales_data,hue = 'Opportunity Result')"
   ]
  },
  {
   "cell_type": "code",
   "execution_count": null,
   "id": "49779313",
   "metadata": {},
   "outputs": [],
   "source": [
    "sns.despine(offset=10, trim=True)"
   ]
  },
  {
   "cell_type": "code",
   "execution_count": null,
   "id": "e140d1be",
   "metadata": {},
   "outputs": [],
   "source": [
    "plt.show()"
   ]
  },
  {
   "cell_type": "code",
   "execution_count": null,
   "id": "89e22a05",
   "metadata": {},
   "outputs": [],
   "source": [
    "# sns.set(rc={'figure.figsize':(16.7,13.27)})\n",
    "sns.boxplot(x='Region', y=\"Opportunity Amount USD\", data=sales_data, hue=\"Opportunity Result\")\n",
    "plt.show()"
   ]
  },
  {
   "cell_type": "code",
   "execution_count": null,
   "id": "5e23132c",
   "metadata": {},
   "outputs": [],
   "source": [
    "sns.boxplot(data=sales_data, x=\"Region\", y=\"Elapsed Days In Sales Stage\")"
   ]
  },
  {
   "cell_type": "markdown",
   "id": "dfc4b58c",
   "metadata": {},
   "source": [
    "# Data Preprocessing\n",
    "\n",
    "Now we are going to use Scikit-Learn to predict \"Opportunity Result\".\n",
    "\n",
    "The first first is to take in account that scikit-learn does not work with strings, so it is needed to codify the string as numeric values, labels.\n",
    "\n",
    "In order to do that, we use the class `LabelEncoder()`:"
   ]
  },
  {
   "cell_type": "code",
   "execution_count": null,
   "id": "cf452702",
   "metadata": {},
   "outputs": [],
   "source": [
    "from sklearn import preprocessing\n",
    "# create the Labelencoder object\n",
    "le = preprocessing.LabelEncoder()\n",
    "#convert the categorical columns into numeric\n",
    "encoded_value = le.fit_transform([\"paris\", \"paris\", \"tokyo\", \"amsterdam\", \"tokyo\"])\n",
    "print(encoded_value)"
   ]
  },
  {
   "cell_type": "code",
   "execution_count": null,
   "id": "fb3adb28",
   "metadata": {},
   "outputs": [],
   "source": [
    "# The operation is reversible\n",
    "le.inverse_transform(encoded_value)"
   ]
  },
  {
   "cell_type": "code",
   "execution_count": null,
   "id": "776b4e08",
   "metadata": {},
   "outputs": [],
   "source": [
    "le.inverse_transform([1])"
   ]
  },
  {
   "cell_type": "markdown",
   "id": "2b1894ab",
   "metadata": {},
   "source": [
    "We have many attributes that should be labeled."
   ]
  },
  {
   "cell_type": "code",
   "execution_count": null,
   "id": "8dd7a9e6",
   "metadata": {},
   "outputs": [],
   "source": [
    "print(\"Supplies Subgroup' : \",sales_data['Supplies Subgroup'].unique())\n",
    "print(\"Region : \",sales_data['Region'].unique())\n",
    "print(\"Route To Market : \",sales_data['Route To Market'].unique())\n",
    "print(\"Opportunity Result : \",sales_data['Opportunity Result'].unique())\n",
    "print(\"Competitor Type : \",sales_data['Competitor Type'].unique())\n",
    "print(\"Supplies Group : \",sales_data['Supplies Group'].unique())"
   ]
  },
  {
   "cell_type": "markdown",
   "id": "d261eaaf",
   "metadata": {},
   "source": [
    "In order to do that, we create a `LabelEncoder` for each column, to avoid any conflcit."
   ]
  },
  {
   "cell_type": "code",
   "execution_count": null,
   "id": "d92dc14f",
   "metadata": {},
   "outputs": [],
   "source": [
    "# create the Labelencoder object\n",
    "le = preprocessing.LabelEncoder()\n",
    "#convert the categorical columns into numeric\n",
    "for col in ['Region', 'Route To Market']:\n",
    "    sales_data[col] = le.fit_transform(sales_data[col])\n",
    "    \n",
    "sales_data['Supplies Subgroup'] = le.fit_transform(sales_data['Supplies Subgroup'])\n",
    "# sales_data['Region'] = le.fit_transform(sales_data['Region'])\n",
    "# sales_data['Route To Market'] = le.fit_transform(sales_data['Route To Market'])\n",
    "sales_data['Opportunity Result'] = le.fit_transform(sales_data['Opportunity Result'])\n",
    "sales_data['Competitor Type'] = le.fit_transform(sales_data['Competitor Type'])\n",
    "sales_data['Supplies Group'] = le.fit_transform(sales_data['Supplies Group'])\n",
    "#display the initial records\n",
    "sales_data.head()"
   ]
  },
  {
   "cell_type": "code",
   "execution_count": null,
   "id": "a2dc51ac",
   "metadata": {},
   "outputs": [],
   "source": [
    "sales_data.describe()"
   ]
  },
  {
   "cell_type": "markdown",
   "id": "a6d4709c",
   "metadata": {},
   "source": [
    "# Select several interesting attributes\n",
    "\n",
    "We are going to select one attribute to predict, and the attributes used to do that."
   ]
  },
  {
   "cell_type": "markdown",
   "id": "94c6c385",
   "metadata": {},
   "source": [
    "- The goal is to predict \"Opportunity Result\".\n",
    "- We choose all attributes except \"Opportunity Number\" (the goal, obviously, is always removed)."
   ]
  },
  {
   "cell_type": "code",
   "execution_count": null,
   "id": "36dc59a2",
   "metadata": {},
   "outputs": [],
   "source": [
    "# select columns other than 'Opportunity Number','Opportunity Result'\n",
    "# dropping the 'Opportunity Number'and 'Opportunity Result' columns\n",
    "cols = [col for col in sales_data.columns if col not in ['Opportunity Number','Opportunity Result']]\n",
    "data = sales_data[cols]\n",
    "#assigning the Opportunity Result column as target\n",
    "target = sales_data['Opportunity Result']\n",
    "data.head(n=2)"
   ]
  },
  {
   "cell_type": "code",
   "execution_count": null,
   "id": "9b790112",
   "metadata": {},
   "outputs": [],
   "source": [
    "target"
   ]
  },
  {
   "cell_type": "markdown",
   "id": "ab83827e",
   "metadata": {},
   "source": [
    "# Divide the data in training and test sets\n",
    "\n",
    "To *evaluate* how good is an ML algorithm is need to divide the data in two parts:\n",
    "    \n",
    "- **Training** set, used to *train* the ML algorithm.\n",
    "- **Test* set, to *evaluate* the performance of the ML algorithm. Obviously, test instances cannot be in training one.\n",
    "\n",
    "To divide the division we will use train_test_split, that divide randomly in training and test."
   ]
  },
  {
   "cell_type": "code",
   "execution_count": null,
   "id": "949b6e40",
   "metadata": {},
   "outputs": [],
   "source": [
    "from sklearn.model_selection import train_test_split"
   ]
  },
  {
   "cell_type": "code",
   "execution_count": null,
   "id": "68ff5a91",
   "metadata": {},
   "outputs": [],
   "source": [
    "help(train_test_split)"
   ]
  },
  {
   "cell_type": "code",
   "execution_count": null,
   "id": "5f1cc8ad",
   "metadata": {},
   "outputs": [],
   "source": [
    "data_train, data_test, target_train, target_test = train_test_split(data, target, train_size = 0.70, random_state = 15)"
   ]
  },
  {
   "cell_type": "code",
   "execution_count": null,
   "id": "c439ab8c",
   "metadata": {},
   "outputs": [],
   "source": [
    "data_train.head(1)"
   ]
  },
  {
   "cell_type": "code",
   "execution_count": null,
   "id": "51656c72",
   "metadata": {},
   "outputs": [],
   "source": [
    "data_train.shape"
   ]
  },
  {
   "cell_type": "code",
   "execution_count": null,
   "id": "6a065148",
   "metadata": {},
   "outputs": [],
   "source": [
    "data_test.shape"
   ]
  },
  {
   "cell_type": "markdown",
   "id": "44fe76bf",
   "metadata": {},
   "source": [
    "# Training and predicting with a model\n",
    "\n",
    "There are many models available in Scikit-learn."
   ]
  },
  {
   "cell_type": "markdown",
   "id": "51eda7a4",
   "metadata": {},
   "source": [
    "<img src=https://scikit-learn.org/stable/_static/ml_map.png>\n",
    "\n",
    "The API for all models is the same, in order to be able to replace one or another without problems.\n",
    "\n",
    "In this first step we will use two simple models.\n",
    "    \n",
    "- Naive-Bayes: Bayesian model, based on statistics.\n",
    "- Linear SVC: Linear Support Vector Classification, popular model.\n",
    "\n",
    "## First we apply the Bayesian (Naive-Bayes)"
   ]
  },
  {
   "cell_type": "code",
   "execution_count": null,
   "id": "2af84967",
   "metadata": {},
   "outputs": [],
   "source": [
    "# import the necessary module\n",
    "from sklearn.naive_bayes import GaussianNB\n",
    "from sklearn.metrics import accuracy_score"
   ]
  },
  {
   "cell_type": "markdown",
   "id": "82c1728a",
   "metadata": {},
   "source": [
    "### We create the object of the model\n",
    "\n",
    "For the models there are several parameters to configure it, but the majority of them have rather good default values."
   ]
  },
  {
   "cell_type": "code",
   "execution_count": null,
   "id": "8ac4b109",
   "metadata": {},
   "outputs": [],
   "source": [
    "#create an object of the type GaussianNB\n",
    "gnb = GaussianNB()"
   ]
  },
  {
   "cell_type": "code",
   "execution_count": null,
   "id": "c44c3a64",
   "metadata": {},
   "outputs": [],
   "source": [
    "gnb"
   ]
  },
  {
   "cell_type": "code",
   "execution_count": null,
   "id": "42341a03",
   "metadata": {},
   "outputs": [],
   "source": [
    "help(GaussianNB)"
   ]
  },
  {
   "cell_type": "markdown",
   "id": "5f49ebd1",
   "metadata": {},
   "source": [
    "### Now we train the model with method `fit` and the training instances"
   ]
  },
  {
   "cell_type": "code",
   "execution_count": null,
   "id": "bbb28c59",
   "metadata": {},
   "outputs": [],
   "source": [
    "model1 = gnb.fit(data_train, target_train)"
   ]
  },
  {
   "cell_type": "markdown",
   "id": "1ae7cfb9",
   "metadata": {},
   "source": [
    "### We measure the accuracy ratio using the test set\n",
    "\n",
    "First, we use `predict` to predict the class for each instance of test."
   ]
  },
  {
   "cell_type": "code",
   "execution_count": null,
   "id": "54c59c38",
   "metadata": {},
   "outputs": [],
   "source": [
    "pred1 = gnb.predict(data_test)"
   ]
  },
  {
   "cell_type": "code",
   "execution_count": null,
   "id": "282c2b46",
   "metadata": {},
   "outputs": [],
   "source": [
    "pred1"
   ]
  },
  {
   "cell_type": "markdown",
   "id": "e213a1c9",
   "metadata": {},
   "source": [
    "Now we compare the accuracy using the real values. It is only one measure, there are a lot more."
   ]
  },
  {
   "cell_type": "code",
   "execution_count": null,
   "id": "497145f4",
   "metadata": {},
   "outputs": [],
   "source": [
    "print(\"Naive-Bayes accuracy : \",accuracy_score(target_test, pred1, normalize = True))"
   ]
  },
  {
   "cell_type": "markdown",
   "id": "7e4315de",
   "metadata": {},
   "source": [
    "We have achieved a good accuracy value (for the simple model).\n",
    "\n",
    "### Cross Validation\n",
    "\n",
    "The division in train, test is usually not enough, because the results depends a lot of the simple grouping.\n",
    "\n",
    "In theory, you should have learn about `Cross Validation`. We are going to use it.\n",
    "\n",
    "<img src=\"https://miro.medium.com/max/4984/1*kheTr2G_BIB6S4UnUhFp8g.png\">"
   ]
  },
  {
   "cell_type": "code",
   "execution_count": null,
   "id": "d2c9fb4e",
   "metadata": {},
   "outputs": [],
   "source": [
    "from sklearn.model_selection import cross_val_score"
   ]
  },
  {
   "cell_type": "code",
   "execution_count": null,
   "id": "b00f5efa",
   "metadata": {},
   "outputs": [],
   "source": [
    "scores = cross_val_score(model1, data, target, cv=5, scoring='accuracy')"
   ]
  },
  {
   "cell_type": "code",
   "execution_count": null,
   "id": "6a438449",
   "metadata": {},
   "outputs": [],
   "source": [
    "scores"
   ]
  },
  {
   "cell_type": "code",
   "execution_count": null,
   "id": "8c384474",
   "metadata": {},
   "outputs": [],
   "source": [
    "np.mean(scores)"
   ]
  },
  {
   "cell_type": "markdown",
   "id": "383d8641",
   "metadata": {},
   "source": [
    "That accuracy value is more robust.\n",
    "\n",
    "## Now we will apply Linear SVC\n",
    "\n",
    "The Linear SVC behaviour is visualized with the following picture:"
   ]
  },
  {
   "cell_type": "markdown",
   "id": "ae6b7037",
   "metadata": {},
   "source": [
    "<img src=https://www.dataquest.io/wp-content/uploads/2018/06/SVM-1.png>"
   ]
  },
  {
   "cell_type": "code",
   "execution_count": null,
   "id": "d64fbfbf",
   "metadata": {},
   "outputs": [],
   "source": [
    "#import the necessary modules\n",
    "from sklearn.svm import LinearSVC\n",
    "from sklearn.metrics import accuracy_score"
   ]
  },
  {
   "cell_type": "markdown",
   "id": "2dab72a9",
   "metadata": {},
   "source": [
    "As you can see, all algorithms are trained and tested in the same way, the API is very simple.\n",
    "\n",
    "### Create the model (with a number of iterations)"
   ]
  },
  {
   "cell_type": "code",
   "execution_count": null,
   "id": "24913fd6",
   "metadata": {},
   "outputs": [],
   "source": [
    "#create an object of type LinearSVC\n",
    "# It requires parameters, like the number of iterations\n",
    "svc_model = LinearSVC(random_state=10,max_iter=3000)"
   ]
  },
  {
   "cell_type": "markdown",
   "id": "28eccb92",
   "metadata": {},
   "source": [
    "### Training\n",
    "\n",
    "This model training takes a lot of time:"
   ]
  },
  {
   "cell_type": "code",
   "execution_count": null,
   "id": "ea794844",
   "metadata": {},
   "outputs": [],
   "source": [
    "svc_model.fit(data_train, target_train)"
   ]
  },
  {
   "cell_type": "markdown",
   "id": "de87f8e6",
   "metadata": {},
   "source": [
    "### Test\n",
    "\n",
    "We measure the accuracy with the test set:"
   ]
  },
  {
   "cell_type": "code",
   "execution_count": null,
   "id": "93ab1bf0",
   "metadata": {},
   "outputs": [],
   "source": [
    "pred2 = svc_model.predict(data_test)\n",
    "print(\"LinearSVC accuracy : \", accuracy_score(target_test, pred2, normalize = True))"
   ]
  },
  {
   "cell_type": "markdown",
   "id": "9e52db9d",
   "metadata": {},
   "source": [
    "# Confusion Matrix\n",
    "\n",
    "Until now we have checked only the % of accuracy, but it could be useful to identify true/false positives and true/false negatives."
   ]
  },
  {
   "cell_type": "code",
   "execution_count": null,
   "id": "585a3995",
   "metadata": {},
   "outputs": [],
   "source": [
    "from sklearn.metrics import confusion_matrix"
   ]
  },
  {
   "cell_type": "code",
   "execution_count": null,
   "id": "823fd7ef",
   "metadata": {},
   "outputs": [],
   "source": [
    "m = confusion_matrix(target_test, pred1)\n",
    "m"
   ]
  },
  {
   "cell_type": "code",
   "execution_count": null,
   "id": "dc922ff2",
   "metadata": {},
   "outputs": [],
   "source": [
    "total = m.sum()\n",
    "total "
   ]
  },
  {
   "cell_type": "code",
   "execution_count": null,
   "id": "d026f842",
   "metadata": {},
   "outputs": [],
   "source": [
    "data_test.shape[0]"
   ]
  },
  {
   "cell_type": "code",
   "execution_count": null,
   "id": "1bb9c418",
   "metadata": {},
   "outputs": [],
   "source": [
    "print(\"True Positives:\", m[0,0]/total)\n",
    "print(\"False Positives:\", m[0,1]/total)\n",
    "print(\"True Negatives:\", m[1,1]/total)\n",
    "print(\"False Negatives:\", m[1,0]/total)\n",
    "ratio = (m[0,0]+m[1,1])/total\n",
    "print(\"Acccuracy:\", ratio)"
   ]
  },
  {
   "cell_type": "markdown",
   "id": "6b86e74e",
   "metadata": {},
   "source": [
    "## Visual Confusion Matrix\n",
    "\n",
    "We can visualize it directly with:"
   ]
  },
  {
   "cell_type": "code",
   "execution_count": null,
   "id": "8392312a",
   "metadata": {},
   "outputs": [],
   "source": [
    "from sklearn.metrics import ConfusionMatrixDisplay\n",
    "\n",
    "disp=ConfusionMatrixDisplay(confusion_matrix=m)\n",
    "disp.plot()"
   ]
  },
  {
   "cell_type": "markdown",
   "id": "56a1a984",
   "metadata": {},
   "source": [
    "We can also use the model and test to visualize the Confusion Matrix. Also, it can be normalized:"
   ]
  },
  {
   "cell_type": "code",
   "execution_count": null,
   "id": "cee9751b",
   "metadata": {},
   "outputs": [],
   "source": [
    "ConfusionMatrixDisplay.from_predictions(target_test, pred1, normalize='all')"
   ]
  },
  {
   "cell_type": "markdown",
   "id": "4e3e5e14",
   "metadata": {},
   "source": [
    "It can be observed that results are similar to previous ones.\n",
    "\n",
    "We can also normalize by rows:"
   ]
  },
  {
   "cell_type": "code",
   "execution_count": null,
   "id": "fddbb0e1",
   "metadata": {},
   "outputs": [],
   "source": [
    "ConfusionMatrixDisplay.from_predictions(target_test, pred1, normalize='true')"
   ]
  },
  {
   "cell_type": "markdown",
   "id": "b0d5276c",
   "metadata": {},
   "source": [
    "This means that it is very good predicting one class, not the other one."
   ]
  }
 ],
 "metadata": {
  "jupytext": {
   "formats": "ipynb,md"
  },
  "kernelspec": {
   "display_name": "Python 3",
   "language": "python",
   "name": "python3"
  }
 },
 "nbformat": 4,
 "nbformat_minor": 5
}
