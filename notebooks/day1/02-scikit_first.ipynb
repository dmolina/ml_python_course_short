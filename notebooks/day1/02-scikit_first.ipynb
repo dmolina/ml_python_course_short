{
 "cells": [
  {
   "cell_type": "markdown",
   "id": "8c575764",
   "metadata": {},
   "source": [
    "# First steps with Scikit-Learn"
   ]
  },
  {
   "cell_type": "markdown",
   "id": "c13c80d9",
   "metadata": {},
   "source": [
    "<img src=\"https://s3.amazonaws.com/com.twilio.prod.twilio-docs/original_images/scikit-learn.png\" width=\"30%\">\n",
    "\n",
    "First, we import pandas."
   ]
  },
  {
   "cell_type": "code",
   "execution_count": null,
   "id": "0221dca8",
   "metadata": {},
   "outputs": [],
   "source": [
    "import pandas as pd"
   ]
  },
  {
   "cell_type": "markdown",
   "id": "e5ef38d2",
   "metadata": {},
   "source": [
    "## Reading Data\n",
    "\n",
    "The loading of data is going to be through Pandas, usually from a CSV or Excel file.\n",
    "\n",
    "We store in a variable the url from which we are going to download it."
   ]
  },
  {
   "cell_type": "code",
   "execution_count": null,
   "id": "08d3569a",
   "metadata": {},
   "outputs": [],
   "source": [
    "url = \"https://raw.githubusercontent.com/vkrit/data-science-class/master/WA_Fn-UseC_-Sales-Win-Loss.csv\"\n"
   ]
  },
  {
   "cell_type": "markdown",
   "id": "0c4f6081",
   "metadata": {},
   "source": [
    "Read the CSV file."
   ]
  },
  {
   "cell_type": "code",
   "execution_count": null,
   "id": "6c7f28a4",
   "metadata": {},
   "outputs": [],
   "source": [
    "sales_data= pd.read_csv(url)"
   ]
  },
  {
   "cell_type": "code",
   "execution_count": null,
   "id": "35e3a5bb",
   "metadata": {
    "lines_to_next_cell": 0
   },
   "outputs": [],
   "source": [
    "sales_data.head()"
   ]
  },
  {
   "cell_type": "markdown",
   "id": "a6d3323f",
   "metadata": {},
   "source": [
    "## Exploration of data"
   ]
  },
  {
   "cell_type": "code",
   "execution_count": null,
   "id": "9eaa0d6c",
   "metadata": {},
   "outputs": [],
   "source": [
    "sales_data.head(n=2)"
   ]
  },
  {
   "cell_type": "markdown",
   "id": "278a691f",
   "metadata": {},
   "source": [
    "We can see the last rows:"
   ]
  },
  {
   "cell_type": "code",
   "execution_count": null,
   "id": "f436effa",
   "metadata": {},
   "outputs": [],
   "source": [
    "sales_data.tail()"
   ]
  },
  {
   "cell_type": "markdown",
   "id": "29e6cc7c",
   "metadata": {},
   "source": [
    "Check the type of each attribute:"
   ]
  },
  {
   "cell_type": "code",
   "execution_count": null,
   "id": "ba1c38d2",
   "metadata": {},
   "outputs": [],
   "source": [
    "sales_data.dtypes"
   ]
  },
  {
   "cell_type": "code",
   "execution_count": null,
   "id": "59412905",
   "metadata": {},
   "outputs": [],
   "source": [
    "sales_data.describe()"
   ]
  },
  {
   "cell_type": "code",
   "execution_count": null,
   "id": "cf3fd553",
   "metadata": {},
   "outputs": [],
   "source": [
    "sales_data.shape"
   ]
  },
  {
   "cell_type": "markdown",
   "id": "74003a04",
   "metadata": {},
   "source": [
    "# Small visualization of data\n",
    "\n",
    "We are going to show a little the data."
   ]
  },
  {
   "cell_type": "code",
   "execution_count": null,
   "id": "75869700",
   "metadata": {},
   "outputs": [],
   "source": [
    "import seaborn as sns\n",
    "import matplotlib.pyplot as plt"
   ]
  },
  {
   "cell_type": "markdown",
   "id": "13db387a",
   "metadata": {},
   "source": [
    "Countplot"
   ]
  },
  {
   "cell_type": "code",
   "execution_count": null,
   "id": "63186570",
   "metadata": {},
   "outputs": [],
   "source": [
    "sns.set(style=\"whitegrid\", color_codes=True)"
   ]
  },
  {
   "cell_type": "code",
   "execution_count": null,
   "id": "31fdffce",
   "metadata": {},
   "outputs": [],
   "source": [
    "sns.set(rc={'figure.figsize':(11.7,8.27)})"
   ]
  },
  {
   "cell_type": "code",
   "execution_count": null,
   "id": "7f636028",
   "metadata": {},
   "outputs": [],
   "source": [
    "sns.countplot('Route To Market',data=sales_data,hue = 'Opportunity Result')"
   ]
  },
  {
   "cell_type": "code",
   "execution_count": null,
   "id": "47394492",
   "metadata": {},
   "outputs": [],
   "source": [
    "sns.despine(offset=10, trim=True)"
   ]
  },
  {
   "cell_type": "code",
   "execution_count": null,
   "id": "2d8e0263",
   "metadata": {},
   "outputs": [],
   "source": [
    "plt.show()"
   ]
  },
  {
   "cell_type": "code",
   "execution_count": null,
   "id": "8753f46e",
   "metadata": {},
   "outputs": [],
   "source": [
    "# sns.set(rc={'figure.figsize':(16.7,13.27)})\n",
    "sns.boxplot(x='Region', y=\"Opportunity Amount USD\", data=sales_data, hue=\"Opportunity Result\")\n",
    "plt.show()"
   ]
  },
  {
   "cell_type": "code",
   "execution_count": null,
   "id": "e286d857",
   "metadata": {},
   "outputs": [],
   "source": [
    "sns.boxplot(data=sales_data, x=\"Region\", y=\"Elapsed Days In Sales Stage\")"
   ]
  },
  {
   "cell_type": "markdown",
   "id": "43a8199a",
   "metadata": {},
   "source": [
    "# Data Preprocessing\n",
    "\n",
    "Now we are going to use Scikit-Learn to predict \"Opportunity Result\".\n",
    "\n",
    "The first first is to take in account that scikit-learn does not work with strings, so it is needed to codify the string as numeric values, labels.\n",
    "\n",
    "In order to do that, we use the class `LabelEncoder()`:"
   ]
  },
  {
   "cell_type": "code",
   "execution_count": null,
   "id": "62d3095a",
   "metadata": {},
   "outputs": [],
   "source": [
    "from sklearn import preprocessing\n",
    "# create the Labelencoder object\n",
    "le = preprocessing.LabelEncoder()\n",
    "#convert the categorical columns into numeric\n",
    "encoded_value = le.fit_transform([\"paris\", \"paris\", \"tokyo\", \"amsterdam\", \"tokyo\"])\n",
    "print(encoded_value)"
   ]
  },
  {
   "cell_type": "code",
   "execution_count": null,
   "id": "1864148f",
   "metadata": {},
   "outputs": [],
   "source": [
    "# The operation is reversible\n",
    "le.inverse_transform(encoded_value)"
   ]
  },
  {
   "cell_type": "code",
   "execution_count": null,
   "id": "a3410bda",
   "metadata": {},
   "outputs": [],
   "source": [
    "le.inverse_transform([1])"
   ]
  },
  {
   "cell_type": "markdown",
   "id": "22b03bf8",
   "metadata": {},
   "source": [
    "We have many attributes that should be labeled."
   ]
  },
  {
   "cell_type": "code",
   "execution_count": null,
   "id": "a3458101",
   "metadata": {},
   "outputs": [],
   "source": [
    "print(\"Supplies Subgroup' : \",sales_data['Supplies Subgroup'].unique())\n",
    "print(\"Region : \",sales_data['Region'].unique())\n",
    "print(\"Route To Market : \",sales_data['Route To Market'].unique())\n",
    "print(\"Opportunity Result : \",sales_data['Opportunity Result'].unique())\n",
    "print(\"Competitor Type : \",sales_data['Competitor Type'].unique())\n",
    "print(\"Supplies Group : \",sales_data['Supplies Group'].unique())"
   ]
  },
  {
   "cell_type": "markdown",
   "id": "f5f5fa03",
   "metadata": {},
   "source": [
    "In order to do that, we create a `LabelEncoder` for each column, to avoid any conflcit."
   ]
  },
  {
   "cell_type": "code",
   "execution_count": null,
   "id": "4eb94093",
   "metadata": {},
   "outputs": [],
   "source": [
    "# create the Labelencoder object\n",
    "le = preprocessing.LabelEncoder()\n",
    "#convert the categorical columns into numeric\n",
    "for col in ['Region', 'Route To Market']:\n",
    "    sales_data[col] = le.fit_transform(sales_data[col])\n",
    "    \n",
    "sales_data['Supplies Subgroup'] = le.fit_transform(sales_data['Supplies Subgroup'])\n",
    "# sales_data['Region'] = le.fit_transform(sales_data['Region'])\n",
    "# sales_data['Route To Market'] = le.fit_transform(sales_data['Route To Market'])\n",
    "sales_data['Opportunity Result'] = le.fit_transform(sales_data['Opportunity Result'])\n",
    "sales_data['Competitor Type'] = le.fit_transform(sales_data['Competitor Type'])\n",
    "sales_data['Supplies Group'] = le.fit_transform(sales_data['Supplies Group'])\n",
    "#display the initial records\n",
    "sales_data.head()"
   ]
  },
  {
   "cell_type": "code",
   "execution_count": null,
   "id": "2bbc7e06",
   "metadata": {},
   "outputs": [],
   "source": [
    "sales_data.describe()"
   ]
  },
  {
   "cell_type": "markdown",
   "id": "6b78307d",
   "metadata": {},
   "source": [
    "# Select several interesting attributes\n",
    "\n",
    "We are going to select one attribute to predict, and the attributes used to do that."
   ]
  },
  {
   "cell_type": "markdown",
   "id": "09e93570",
   "metadata": {},
   "source": [
    "- The goal is to predict \"Opportunity Result\".\n",
    "- We choose all attributes except \"Opportunity Number\" (the goal, obviously, is always removed)."
   ]
  },
  {
   "cell_type": "code",
   "execution_count": null,
   "id": "e30e856c",
   "metadata": {},
   "outputs": [],
   "source": [
    "# select columns other than 'Opportunity Number','Opportunity Result'\n",
    "# dropping the 'Opportunity Number'and 'Opportunity Result' columns\n",
    "cols = [col for col in sales_data.columns if col not in ['Opportunity Number','Opportunity Result']]\n",
    "data = sales_data[cols]\n",
    "#assigning the Opportunity Result column as target\n",
    "target = sales_data['Opportunity Result']\n",
    "data.head(n=2)"
   ]
  },
  {
   "cell_type": "code",
   "execution_count": null,
   "id": "1a36bfe2",
   "metadata": {},
   "outputs": [],
   "source": [
    "target"
   ]
  },
  {
   "cell_type": "markdown",
   "id": "fb02df0e",
   "metadata": {},
   "source": [
    "# Divide the data in training and test sets\n",
    "\n",
    "To *evaluate* how good is an ML algorithm is need to divide the data in two parts:\n",
    "    \n",
    "- **Training** set, used to *train* the ML algorithm.\n",
    "- **Test* set, to *evaluate* the performance of the ML algorithm. Obviously, test instances cannot be in training one.\n",
    "\n",
    "To divide the division we will use train_test_split, that divide randomly in training and test."
   ]
  },
  {
   "cell_type": "code",
   "execution_count": null,
   "id": "7ba2c1bc",
   "metadata": {},
   "outputs": [],
   "source": [
    "from sklearn.model_selection import train_test_split"
   ]
  },
  {
   "cell_type": "code",
   "execution_count": null,
   "id": "4f4e3daf",
   "metadata": {},
   "outputs": [],
   "source": [
    "help(train_test_split)"
   ]
  },
  {
   "cell_type": "code",
   "execution_count": null,
   "id": "ea7a00ab",
   "metadata": {},
   "outputs": [],
   "source": [
    "data_train, data_test, target_train, target_test = train_test_split(data, target, train_size = 0.70, random_state = 15)"
   ]
  },
  {
   "cell_type": "code",
   "execution_count": null,
   "id": "df6fd433",
   "metadata": {},
   "outputs": [],
   "source": [
    "data_train.head(1)"
   ]
  },
  {
   "cell_type": "code",
   "execution_count": null,
   "id": "d66181d4",
   "metadata": {},
   "outputs": [],
   "source": [
    "data_train.shape"
   ]
  },
  {
   "cell_type": "code",
   "execution_count": null,
   "id": "925c29f4",
   "metadata": {},
   "outputs": [],
   "source": [
    "data_test.shape"
   ]
  },
  {
   "cell_type": "markdown",
   "id": "1ff3776e",
   "metadata": {},
   "source": [
    "# Training and predicting with a model\n",
    "\n",
    "There are many models available in Scikit-learn."
   ]
  },
  {
   "cell_type": "markdown",
   "id": "bdf6bade",
   "metadata": {},
   "source": [
    "<img src=https://scikit-learn.org/stable/_static/ml_map.png>\n",
    "\n",
    "The API for all models is the same, in order to be able to replace one or another without problems.\n",
    "\n",
    "In this first step we will use two simple models.\n",
    "    \n",
    "- Naive-Bayes: Bayesian model, based on statistics.\n",
    "- Linear SVC: Linear Support Vector Classification, popular model.\n",
    "\n",
    "## First we apply the Bayesian (Naive-Bayes)"
   ]
  },
  {
   "cell_type": "code",
   "execution_count": null,
   "id": "99c3eb5d",
   "metadata": {},
   "outputs": [],
   "source": [
    "# import the necessary module\n",
    "from sklearn.naive_bayes import GaussianNB\n",
    "from sklearn.metrics import accuracy_score"
   ]
  },
  {
   "cell_type": "markdown",
   "id": "4c3be27d",
   "metadata": {},
   "source": [
    "### We create the object of the model\n",
    "\n",
    "For the models there are several parameters to configure it, but the majority of them have rather good default values."
   ]
  },
  {
   "cell_type": "code",
   "execution_count": null,
   "id": "2ce2762d",
   "metadata": {},
   "outputs": [],
   "source": [
    "#create an object of the type GaussianNB\n",
    "gnb = GaussianNB()"
   ]
  },
  {
   "cell_type": "code",
   "execution_count": null,
   "id": "cf72e2d8",
   "metadata": {},
   "outputs": [],
   "source": [
    "gnb"
   ]
  },
  {
   "cell_type": "code",
   "execution_count": null,
   "id": "c06a516c",
   "metadata": {},
   "outputs": [],
   "source": [
    "help(GaussianNB)"
   ]
  },
  {
   "cell_type": "markdown",
   "id": "2c09a4b8",
   "metadata": {},
   "source": [
    "### Now we train the model with method `fit` and the training instances"
   ]
  },
  {
   "cell_type": "code",
   "execution_count": null,
   "id": "d63ecc29",
   "metadata": {},
   "outputs": [],
   "source": [
    "model1 = gnb.fit(data_train, target_train)"
   ]
  },
  {
   "cell_type": "markdown",
   "id": "f99981ff",
   "metadata": {},
   "source": [
    "### We measure the accuracy ratio using the test set\n",
    "\n",
    "First, we use `predict` to predict the class for each instance of test."
   ]
  },
  {
   "cell_type": "code",
   "execution_count": null,
   "id": "7fba4de5",
   "metadata": {},
   "outputs": [],
   "source": [
    "pred1 = gnb.predict(data_test)"
   ]
  },
  {
   "cell_type": "code",
   "execution_count": null,
   "id": "d0a2e4ca",
   "metadata": {},
   "outputs": [],
   "source": [
    "pred1"
   ]
  },
  {
   "cell_type": "markdown",
   "id": "73281ba0",
   "metadata": {},
   "source": [
    "Now we compare the accuracy using the real values. It is only one measure, there are a lot more."
   ]
  },
  {
   "cell_type": "code",
   "execution_count": null,
   "id": "ea6a66a0",
   "metadata": {},
   "outputs": [],
   "source": [
    "print(\"Naive-Bayes accuracy : \",accuracy_score(target_test, pred1, normalize = True))"
   ]
  },
  {
   "cell_type": "markdown",
   "id": "eae97cc5",
   "metadata": {},
   "source": [
    "We have achieved a good accuracy value (for the simple model).\n",
    "\n",
    "### Cross Validation\n",
    "\n",
    "The division in train, test is usually not enough, because the results depends a lot of the simple grouping.\n",
    "\n",
    "In theory, you should have learn about `Cross Validation`. We are going to use it.\n",
    "\n",
    "<img src=\"https://miro.medium.com/max/4984/1*kheTr2G_BIB6S4UnUhFp8g.png\">"
   ]
  },
  {
   "cell_type": "code",
   "execution_count": null,
   "id": "8c41ac45",
   "metadata": {},
   "outputs": [],
   "source": [
    "from sklearn.model_selection import cross_val_score"
   ]
  },
  {
   "cell_type": "code",
   "execution_count": null,
   "id": "be1858df",
   "metadata": {},
   "outputs": [],
   "source": [
    "scores = cross_val_score(model1, data, target, cv=5, scoring='accuracy')"
   ]
  },
  {
   "cell_type": "code",
   "execution_count": null,
   "id": "ef4ff2ac",
   "metadata": {},
   "outputs": [],
   "source": [
    "scores"
   ]
  },
  {
   "cell_type": "code",
   "execution_count": null,
   "id": "e2bf3e09",
   "metadata": {},
   "outputs": [],
   "source": [
    "np.mean(scores)"
   ]
  },
  {
   "cell_type": "markdown",
   "id": "d3f9b1a3",
   "metadata": {},
   "source": [
    "That accuracy value is more robust.\n",
    "\n",
    "## Now we will apply Linear SVC\n",
    "\n",
    "The Linear SVC behaviour is visualized with the following picture:"
   ]
  },
  {
   "cell_type": "markdown",
   "id": "1cbf15a3",
   "metadata": {},
   "source": [
    "<img src=https://www.dataquest.io/wp-content/uploads/2018/06/SVM-1.png>"
   ]
  },
  {
   "cell_type": "code",
   "execution_count": null,
   "id": "73eb58c9",
   "metadata": {},
   "outputs": [],
   "source": [
    "#import the necessary modules\n",
    "from sklearn.svm import LinearSVC\n",
    "from sklearn.metrics import accuracy_score"
   ]
  },
  {
   "cell_type": "markdown",
   "id": "39fbfa71",
   "metadata": {},
   "source": [
    "As you can see, all algorithms are trained and tested in the same way, the API is very simple.\n",
    "\n",
    "### Create the model (with a number of iterations)"
   ]
  },
  {
   "cell_type": "code",
   "execution_count": null,
   "id": "68368613",
   "metadata": {},
   "outputs": [],
   "source": [
    "#create an object of type LinearSVC\n",
    "# It requires parameters, like the number of iterations\n",
    "svc_model = LinearSVC(random_state=10,max_iter=3000)"
   ]
  },
  {
   "cell_type": "markdown",
   "id": "9182e712",
   "metadata": {},
   "source": [
    "### Training\n",
    "\n",
    "This model training takes a lot of time:"
   ]
  },
  {
   "cell_type": "code",
   "execution_count": null,
   "id": "c8483244",
   "metadata": {},
   "outputs": [],
   "source": [
    "svc_model.fit(data_train, target_train)"
   ]
  },
  {
   "cell_type": "markdown",
   "id": "08fe7afd",
   "metadata": {},
   "source": [
    "### Test\n",
    "\n",
    "We measure the accuracy with the test set:"
   ]
  },
  {
   "cell_type": "code",
   "execution_count": null,
   "id": "ea7f50f6",
   "metadata": {},
   "outputs": [],
   "source": [
    "pred2 = svc_model.predict(data_test)\n",
    "print(\"LinearSVC accuracy : \", accuracy_score(target_test, pred2, normalize = True))"
   ]
  },
  {
   "cell_type": "markdown",
   "id": "bb3d3da6",
   "metadata": {},
   "source": [
    "# Confusion Matrix\n",
    "\n",
    "Until now we have checked only the % of accuracy, but it could be useful to identify true/false positives and true/false negatives."
   ]
  },
  {
   "cell_type": "code",
   "execution_count": null,
   "id": "5a4b715a",
   "metadata": {},
   "outputs": [],
   "source": [
    "from sklearn.metrics import confusion_matrix"
   ]
  },
  {
   "cell_type": "code",
   "execution_count": null,
   "id": "6b86d6d4",
   "metadata": {},
   "outputs": [],
   "source": [
    "m = confusion_matrix(target_test, pred1)\n",
    "m"
   ]
  },
  {
   "cell_type": "code",
   "execution_count": null,
   "id": "02bd4975",
   "metadata": {},
   "outputs": [],
   "source": [
    "total = m.sum()\n",
    "total "
   ]
  },
  {
   "cell_type": "code",
   "execution_count": null,
   "id": "c3342aa5",
   "metadata": {},
   "outputs": [],
   "source": [
    "data_test.shape[0]"
   ]
  },
  {
   "cell_type": "code",
   "execution_count": null,
   "id": "1139b281",
   "metadata": {},
   "outputs": [],
   "source": [
    "print(\"True Positives:\", m[0,0]/total)\n",
    "print(\"False Positives:\", m[0,1]/total)\n",
    "print(\"True Negatives:\", m[1,1]/total)\n",
    "print(\"False Negatives:\", m[1,0]/total)\n",
    "ratio = (m[0,0]+m[1,1])/total\n",
    "print(\"Acccuracy:\", ratio)"
   ]
  },
  {
   "cell_type": "markdown",
   "id": "07dbc086",
   "metadata": {},
   "source": [
    "## Visual Confusion Matrix\n",
    "\n",
    "We can visualize it directly with:"
   ]
  },
  {
   "cell_type": "code",
   "execution_count": null,
   "id": "8c4991c7",
   "metadata": {},
   "outputs": [],
   "source": [
    "from sklearn.metrics import ConfusionMatrixDisplay\n",
    "\n",
    "disp=ConfusionMatrixDisplay(confusion_matrix=m)\n",
    "disp.plot()"
   ]
  },
  {
   "cell_type": "markdown",
   "id": "cd3d7e2f",
   "metadata": {},
   "source": [
    "We can also use the model and test to visualize the Confusion Matrix. Also, it can be normalized:"
   ]
  },
  {
   "cell_type": "code",
   "execution_count": null,
   "id": "84c5470f",
   "metadata": {},
   "outputs": [],
   "source": [
    "ConfusionMatrixDisplay.from_predictions(target_test, pred1, normalize='all')"
   ]
  },
  {
   "cell_type": "markdown",
   "id": "7b400c2c",
   "metadata": {},
   "source": [
    "It can be observed that results are similar to previous ones.\n",
    "\n",
    "We can also normalize by rows:"
   ]
  },
  {
   "cell_type": "code",
   "execution_count": null,
   "id": "38a05eb3",
   "metadata": {},
   "outputs": [],
   "source": [
    "ConfusionMatrixDisplay.from_predictions(target_test, pred1, normalize='true')"
   ]
  },
  {
   "cell_type": "markdown",
   "id": "be474f8b",
   "metadata": {},
   "source": [
    "This means that it is very good predicting one class, not the other one."
   ]
  }
 ],
 "metadata": {
  "jupytext": {
   "formats": "ipynb,md"
  },
  "kernelspec": {
   "display_name": "Python 3",
   "language": "python",
   "name": "python3"
  }
 },
 "nbformat": 4,
 "nbformat_minor": 5
}
