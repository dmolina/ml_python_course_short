{
 "cells": [
  {
   "cell_type": "markdown",
   "id": "457dabd6",
   "metadata": {},
   "source": [
    "# First steps with Scikit-Learn"
   ]
  },
  {
   "cell_type": "markdown",
   "id": "a6806693",
   "metadata": {},
   "source": [
    "<img src=\"https://s3.amazonaws.com/com.twilio.prod.twilio-docs/original_images/scikit-learn.png\" width=\"30%\">\n",
    "\n",
    "First, we import pandas."
   ]
  },
  {
   "cell_type": "code",
   "execution_count": null,
   "id": "4e274bd2",
   "metadata": {},
   "outputs": [],
   "source": [
    "import pandas as pd"
   ]
  },
  {
   "cell_type": "markdown",
   "id": "8836f743",
   "metadata": {},
   "source": [
    "## Reading Data\n",
    "\n",
    "The loading of data is going to be through Pandas, usually from a CSV or Excel file.\n",
    "\n",
    "We store in a variable the url from which we are going to download it."
   ]
  },
  {
   "cell_type": "code",
   "execution_count": null,
   "id": "9a7f117b",
   "metadata": {},
   "outputs": [],
   "source": [
    "url = \"https://raw.githubusercontent.com/vkrit/data-science-class/master/WA_Fn-UseC_-Sales-Win-Loss.csv\"\n"
   ]
  },
  {
   "cell_type": "markdown",
   "id": "083e24c3",
   "metadata": {},
   "source": [
    "Read the CSV file."
   ]
  },
  {
   "cell_type": "code",
   "execution_count": null,
   "id": "68fc39d7",
   "metadata": {},
   "outputs": [],
   "source": [
    "sales_data= pd.read_csv(url)"
   ]
  },
  {
   "cell_type": "code",
   "execution_count": null,
   "id": "d8d78f66",
   "metadata": {
    "lines_to_next_cell": 0
   },
   "outputs": [],
   "source": [
    "sales_data.head()"
   ]
  },
  {
   "cell_type": "markdown",
   "id": "c8585455",
   "metadata": {},
   "source": [
    "## Exploration of data"
   ]
  },
  {
   "cell_type": "code",
   "execution_count": null,
   "id": "81f14a2e",
   "metadata": {},
   "outputs": [],
   "source": [
    "sales_data.head(n=2)"
   ]
  },
  {
   "cell_type": "markdown",
   "id": "98cb64ed",
   "metadata": {},
   "source": [
    "We can see the last rows:"
   ]
  },
  {
   "cell_type": "code",
   "execution_count": null,
   "id": "2cab10f1",
   "metadata": {},
   "outputs": [],
   "source": [
    "sales_data.tail()"
   ]
  },
  {
   "cell_type": "markdown",
   "id": "e41bd18f",
   "metadata": {},
   "source": [
    "Check the type of each attribute:"
   ]
  },
  {
   "cell_type": "code",
   "execution_count": null,
   "id": "5066fb17",
   "metadata": {},
   "outputs": [],
   "source": [
    "sales_data.dtypes"
   ]
  },
  {
   "cell_type": "code",
   "execution_count": null,
   "id": "29d12c56",
   "metadata": {},
   "outputs": [],
   "source": [
    "sales_data.describe()"
   ]
  },
  {
   "cell_type": "code",
   "execution_count": null,
   "id": "ac5bd6a9",
   "metadata": {},
   "outputs": [],
   "source": [
    "sales_data.shape"
   ]
  },
  {
   "cell_type": "markdown",
   "id": "2fca2f54",
   "metadata": {},
   "source": [
    "# Small visualization of data\n",
    "\n",
    "We are going to show a little the data."
   ]
  },
  {
   "cell_type": "code",
   "execution_count": null,
   "id": "d4cf43a4",
   "metadata": {},
   "outputs": [],
   "source": [
    "import seaborn as sns\n",
    "import matplotlib.pyplot as plt"
   ]
  },
  {
   "cell_type": "markdown",
   "id": "6cd111a1",
   "metadata": {},
   "source": [
    "Countplot"
   ]
  },
  {
   "cell_type": "code",
   "execution_count": null,
   "id": "72966797",
   "metadata": {},
   "outputs": [],
   "source": [
    "sns.set(style=\"whitegrid\", color_codes=True)"
   ]
  },
  {
   "cell_type": "code",
   "execution_count": null,
   "id": "e1b56c1a",
   "metadata": {},
   "outputs": [],
   "source": [
    "sns.set(rc={'figure.figsize':(11.7,8.27)})"
   ]
  },
  {
   "cell_type": "code",
   "execution_count": null,
   "id": "950d14e3",
   "metadata": {},
   "outputs": [],
   "source": [
    "sns.countplot('Route To Market',data=sales_data,hue = 'Opportunity Result')"
   ]
  },
  {
   "cell_type": "code",
   "execution_count": null,
   "id": "45e9877e",
   "metadata": {},
   "outputs": [],
   "source": [
    "sns.despine(offset=10, trim=True)"
   ]
  },
  {
   "cell_type": "code",
   "execution_count": null,
   "id": "4e52508d",
   "metadata": {},
   "outputs": [],
   "source": [
    "plt.show()"
   ]
  },
  {
   "cell_type": "code",
   "execution_count": null,
   "id": "7b437b54",
   "metadata": {},
   "outputs": [],
   "source": [
    "# sns.set(rc={'figure.figsize':(16.7,13.27)})\n",
    "sns.boxplot(x='Region', y=\"Opportunity Amount USD\", data=sales_data, hue=\"Opportunity Result\")\n",
    "plt.show()"
   ]
  },
  {
   "cell_type": "code",
   "execution_count": null,
   "id": "5a1749d0",
   "metadata": {},
   "outputs": [],
   "source": [
    "sns.boxplot(data=sales_data, x=\"Region\", y=\"Elapsed Days In Sales Stage\")"
   ]
  },
  {
   "cell_type": "markdown",
   "id": "83a017fe",
   "metadata": {},
   "source": [
    "# Data Preprocessing\n",
    "\n",
    "Now we are going to use Scikit-Learn to predict \"Opportunity Result\".\n",
    "\n",
    "The first first is to take in account that scikit-learn does not work with strings, so it is needed to codify the string as numeric values, labels.\n",
    "\n",
    "In order to do that, we use the class `LabelEncoder()`:"
   ]
  },
  {
   "cell_type": "code",
   "execution_count": null,
   "id": "85a4d433",
   "metadata": {},
   "outputs": [],
   "source": [
    "from sklearn import preprocessing\n",
    "# create the Labelencoder object\n",
    "le = preprocessing.LabelEncoder()\n",
    "#convert the categorical columns into numeric\n",
    "encoded_value = le.fit_transform([\"paris\", \"paris\", \"tokyo\", \"amsterdam\", \"tokyo\"])\n",
    "print(encoded_value)"
   ]
  },
  {
   "cell_type": "code",
   "execution_count": null,
   "id": "eb6c1286",
   "metadata": {},
   "outputs": [],
   "source": [
    "# The operation is reversible\n",
    "le.inverse_transform(encoded_value)"
   ]
  },
  {
   "cell_type": "code",
   "execution_count": null,
   "id": "625e4ae9",
   "metadata": {},
   "outputs": [],
   "source": [
    "le.inverse_transform([1])"
   ]
  },
  {
   "cell_type": "markdown",
   "id": "8f98850e",
   "metadata": {},
   "source": [
    "We have many attributes that should be labeled."
   ]
  },
  {
   "cell_type": "code",
   "execution_count": null,
   "id": "5a267754",
   "metadata": {},
   "outputs": [],
   "source": [
    "print(\"Supplies Subgroup' : \",sales_data['Supplies Subgroup'].unique())\n",
    "print(\"Region : \",sales_data['Region'].unique())\n",
    "print(\"Route To Market : \",sales_data['Route To Market'].unique())\n",
    "print(\"Opportunity Result : \",sales_data['Opportunity Result'].unique())\n",
    "print(\"Competitor Type : \",sales_data['Competitor Type'].unique())\n",
    "print(\"Supplies Group : \",sales_data['Supplies Group'].unique())"
   ]
  },
  {
   "cell_type": "markdown",
   "id": "a53124a8",
   "metadata": {},
   "source": [
    "In order to do that, we create a `LabelEncoder` for each column, to avoid any conflcit."
   ]
  },
  {
   "cell_type": "code",
   "execution_count": null,
   "id": "e224d581",
   "metadata": {},
   "outputs": [],
   "source": [
    "# create the Labelencoder object\n",
    "le = preprocessing.LabelEncoder()\n",
    "#convert the categorical columns into numeric\n",
    "for col in ['Region', 'Route To Market']:\n",
    "    sales_data[col] = le.fit_transform(sales_data[col])\n",
    "    \n",
    "sales_data['Supplies Subgroup'] = le.fit_transform(sales_data['Supplies Subgroup'])\n",
    "# sales_data['Region'] = le.fit_transform(sales_data['Region'])\n",
    "# sales_data['Route To Market'] = le.fit_transform(sales_data['Route To Market'])\n",
    "sales_data['Opportunity Result'] = le.fit_transform(sales_data['Opportunity Result'])\n",
    "sales_data['Competitor Type'] = le.fit_transform(sales_data['Competitor Type'])\n",
    "sales_data['Supplies Group'] = le.fit_transform(sales_data['Supplies Group'])\n",
    "#display the initial records\n",
    "sales_data.head()"
   ]
  },
  {
   "cell_type": "code",
   "execution_count": null,
   "id": "338ef2cb",
   "metadata": {},
   "outputs": [],
   "source": [
    "sales_data.describe()"
   ]
  },
  {
   "cell_type": "markdown",
   "id": "d23cfc0d",
   "metadata": {},
   "source": [
    "# Select several interesting attributes\n",
    "\n",
    "We are going to select one attribute to predict, and the attributes used to do that."
   ]
  },
  {
   "cell_type": "markdown",
   "id": "5647f8fe",
   "metadata": {},
   "source": [
    "- The goal is to predict \"Opportunity Result\".\n",
    "- We choose all attributes except \"Opportunity Number\" (the goal, obviously, is always removed)."
   ]
  },
  {
   "cell_type": "code",
   "execution_count": null,
   "id": "571d5379",
   "metadata": {},
   "outputs": [],
   "source": [
    "# select columns other than 'Opportunity Number','Opportunity Result'\n",
    "# dropping the 'Opportunity Number'and 'Opportunity Result' columns\n",
    "cols = [col for col in sales_data.columns if col not in ['Opportunity Number','Opportunity Result']]\n",
    "data = sales_data[cols]\n",
    "#assigning the Opportunity Result column as target\n",
    "target = sales_data['Opportunity Result']\n",
    "data.head(n=2)"
   ]
  },
  {
   "cell_type": "code",
   "execution_count": null,
   "id": "ad113a24",
   "metadata": {},
   "outputs": [],
   "source": [
    "target"
   ]
  },
  {
   "cell_type": "markdown",
   "id": "d1592742",
   "metadata": {},
   "source": [
    "# Divide the data in training and test sets\n",
    "\n",
    "To *evaluate* how good is an ML algorithm is need to divide the data in two parts:\n",
    "    \n",
    "- **Training** set, used to *train* the ML algorithm.\n",
    "- **Test* set, to *evaluate* the performance of the ML algorithm. Obviously, test instances cannot be in training one.\n",
    "\n",
    "To divide the division we will use train_test_split, that divide randomly in training and test."
   ]
  },
  {
   "cell_type": "code",
   "execution_count": null,
   "id": "a7d99a8b",
   "metadata": {},
   "outputs": [],
   "source": [
    "from sklearn.model_selection import train_test_split"
   ]
  },
  {
   "cell_type": "code",
   "execution_count": null,
   "id": "d52338b4",
   "metadata": {},
   "outputs": [],
   "source": [
    "help(train_test_split)"
   ]
  },
  {
   "cell_type": "code",
   "execution_count": null,
   "id": "1d8bc98d",
   "metadata": {},
   "outputs": [],
   "source": [
    "data_train, data_test, target_train, target_test = train_test_split(data, target, train_size = 0.70, random_state = 15)"
   ]
  },
  {
   "cell_type": "code",
   "execution_count": null,
   "id": "d04ec184",
   "metadata": {},
   "outputs": [],
   "source": [
    "data_train.head(1)"
   ]
  },
  {
   "cell_type": "code",
   "execution_count": null,
   "id": "8f3d980e",
   "metadata": {},
   "outputs": [],
   "source": [
    "data_train.shape"
   ]
  },
  {
   "cell_type": "code",
   "execution_count": null,
   "id": "bdf36e7e",
   "metadata": {},
   "outputs": [],
   "source": [
    "data_test.shape"
   ]
  },
  {
   "cell_type": "markdown",
   "id": "c63d59b0",
   "metadata": {},
   "source": [
    "# Training and predicting with a model\n",
    "\n",
    "There are many models available in Scikit-learn."
   ]
  },
  {
   "cell_type": "markdown",
   "id": "3eb15384",
   "metadata": {},
   "source": [
    "<img src=https://scikit-learn.org/stable/_static/ml_map.png>\n",
    "\n",
    "The API for all models is the same, in order to be able to replace one or another without problems.\n",
    "\n",
    "In this first step we will use two simple models.\n",
    "    \n",
    "- Naive-Bayes: Bayesian model, based on statistics.\n",
    "- Linear SVC: Linear Support Vector Classification, popular model.\n",
    "\n",
    "## First we apply the Bayesian (Naive-Bayes)"
   ]
  },
  {
   "cell_type": "code",
   "execution_count": null,
   "id": "4dc8becc",
   "metadata": {},
   "outputs": [],
   "source": [
    "# import the necessary module\n",
    "from sklearn.naive_bayes import GaussianNB\n",
    "from sklearn.metrics import accuracy_score"
   ]
  },
  {
   "cell_type": "markdown",
   "id": "edc41867",
   "metadata": {},
   "source": [
    "### We create the object of the model\n",
    "\n",
    "For the models there are several parameters to configure it, but the majority of them have rather good default values."
   ]
  },
  {
   "cell_type": "code",
   "execution_count": null,
   "id": "104de2b2",
   "metadata": {},
   "outputs": [],
   "source": [
    "#create an object of the type GaussianNB\n",
    "gnb = GaussianNB()"
   ]
  },
  {
   "cell_type": "code",
   "execution_count": null,
   "id": "2dcf730d",
   "metadata": {},
   "outputs": [],
   "source": [
    "gnb"
   ]
  },
  {
   "cell_type": "code",
   "execution_count": null,
   "id": "8c4e45dc",
   "metadata": {},
   "outputs": [],
   "source": [
    "help(GaussianNB)"
   ]
  },
  {
   "cell_type": "markdown",
   "id": "677de8bf",
   "metadata": {},
   "source": [
    "### Now we train the model with method `fit` and the training instances"
   ]
  },
  {
   "cell_type": "code",
   "execution_count": null,
   "id": "039fa171",
   "metadata": {},
   "outputs": [],
   "source": [
    "model1 = gnb.fit(data_train, target_train)"
   ]
  },
  {
   "cell_type": "markdown",
   "id": "5be3bee1",
   "metadata": {},
   "source": [
    "### We measure the accuracy ratio using the test set\n",
    "\n",
    "First, we use `predict` to predict the class for each instance of test."
   ]
  },
  {
   "cell_type": "code",
   "execution_count": null,
   "id": "855e78ac",
   "metadata": {},
   "outputs": [],
   "source": [
    "pred1 = gnb.predict(data_test)"
   ]
  },
  {
   "cell_type": "code",
   "execution_count": null,
   "id": "ec043851",
   "metadata": {},
   "outputs": [],
   "source": [
    "pred1"
   ]
  },
  {
   "cell_type": "markdown",
   "id": "97b4753a",
   "metadata": {},
   "source": [
    "Now we compare the accuracy using the real values. It is only one measure, there are a lot more."
   ]
  },
  {
   "cell_type": "code",
   "execution_count": null,
   "id": "6dcdd7a6",
   "metadata": {},
   "outputs": [],
   "source": [
    "print(\"Naive-Bayes accuracy : \",accuracy_score(target_test, pred1, normalize = True))"
   ]
  },
  {
   "cell_type": "markdown",
   "id": "79b8c934",
   "metadata": {},
   "source": [
    "We have achieved a good accuracy value (for the simple model).\n",
    "\n",
    "### Cross Validation\n",
    "\n",
    "The division in train, test is usually not enough, because the results depends a lot of the simple grouping.\n",
    "\n",
    "In theory, you should have learn about `Cross Validation`. We are going to use it.\n",
    "\n",
    "<img src=\"https://miro.medium.com/max/4984/1*kheTr2G_BIB6S4UnUhFp8g.png\">"
   ]
  },
  {
   "cell_type": "code",
   "execution_count": null,
   "id": "831f6374",
   "metadata": {},
   "outputs": [],
   "source": [
    "from sklearn.model_selection import cross_val_score"
   ]
  },
  {
   "cell_type": "code",
   "execution_count": null,
   "id": "56bea0f1",
   "metadata": {},
   "outputs": [],
   "source": [
    "scores = cross_val_score(model1, data, target, cv=5, scoring='accuracy')"
   ]
  },
  {
   "cell_type": "code",
   "execution_count": null,
   "id": "aa952e7a",
   "metadata": {},
   "outputs": [],
   "source": [
    "scores"
   ]
  },
  {
   "cell_type": "code",
   "execution_count": null,
   "id": "6fac71d0",
   "metadata": {},
   "outputs": [],
   "source": [
    "np.mean(scores)"
   ]
  },
  {
   "cell_type": "markdown",
   "id": "6a6869b0",
   "metadata": {},
   "source": [
    "That accuracy value is more robust.\n",
    "\n",
    "## Now we will apply Linear SVC\n",
    "\n",
    "The Linear SVC behaviour is visualized with the following picture:"
   ]
  },
  {
   "cell_type": "markdown",
   "id": "a59f13df",
   "metadata": {},
   "source": [
    "<img src=https://www.dataquest.io/wp-content/uploads/2018/06/SVM-1.png>"
   ]
  },
  {
   "cell_type": "code",
   "execution_count": null,
   "id": "df101378",
   "metadata": {},
   "outputs": [],
   "source": [
    "#import the necessary modules\n",
    "from sklearn.svm import LinearSVC\n",
    "from sklearn.metrics import accuracy_score"
   ]
  },
  {
   "cell_type": "markdown",
   "id": "70f72e18",
   "metadata": {},
   "source": [
    "As you can see, all algorithms are trained and tested in the same way, the API is very simple.\n",
    "\n",
    "### Create the model (with a number of iterations)"
   ]
  },
  {
   "cell_type": "code",
   "execution_count": null,
   "id": "ff56d341",
   "metadata": {},
   "outputs": [],
   "source": [
    "#create an object of type LinearSVC\n",
    "# It requires parameters, like the number of iterations\n",
    "svc_model = LinearSVC(random_state=10,max_iter=3000)"
   ]
  },
  {
   "cell_type": "markdown",
   "id": "fc1f7ddb",
   "metadata": {},
   "source": [
    "### Training\n",
    "\n",
    "This model training takes a lot of time:"
   ]
  },
  {
   "cell_type": "code",
   "execution_count": null,
   "id": "b3d8054d",
   "metadata": {},
   "outputs": [],
   "source": [
    "svc_model.fit(data_train, target_train)"
   ]
  },
  {
   "cell_type": "markdown",
   "id": "73dd6656",
   "metadata": {},
   "source": [
    "### Test\n",
    "\n",
    "We measure the accuracy with the test set:"
   ]
  },
  {
   "cell_type": "code",
   "execution_count": null,
   "id": "55e6caf7",
   "metadata": {},
   "outputs": [],
   "source": [
    "pred2 = svc_model.predict(data_test)\n",
    "print(\"LinearSVC accuracy : \", accuracy_score(target_test, pred2, normalize = True))"
   ]
  },
  {
   "cell_type": "markdown",
   "id": "2616ca22",
   "metadata": {},
   "source": [
    "# Confusion Matrix\n",
    "\n",
    "Until now we have checked only the % of accuracy, but it could be useful to identify true/false positives and true/false negatives."
   ]
  },
  {
   "cell_type": "code",
   "execution_count": null,
   "id": "a35722e5",
   "metadata": {},
   "outputs": [],
   "source": [
    "from sklearn.metrics import confusion_matrix"
   ]
  },
  {
   "cell_type": "code",
   "execution_count": null,
   "id": "3c3e843b",
   "metadata": {},
   "outputs": [],
   "source": [
    "m = confusion_matrix(target_test, pred1)\n",
    "m"
   ]
  },
  {
   "cell_type": "code",
   "execution_count": null,
   "id": "285ab3b0",
   "metadata": {},
   "outputs": [],
   "source": [
    "total = m.sum()\n",
    "total "
   ]
  },
  {
   "cell_type": "code",
   "execution_count": null,
   "id": "22be66eb",
   "metadata": {},
   "outputs": [],
   "source": [
    "data_test.shape[0]"
   ]
  },
  {
   "cell_type": "code",
   "execution_count": null,
   "id": "45ad8fb9",
   "metadata": {},
   "outputs": [],
   "source": [
    "print(\"True Positives:\", m[0,0]/total)\n",
    "print(\"False Positives:\", m[0,1]/total)\n",
    "print(\"True Negatives:\", m[1,1]/total)\n",
    "print(\"False Negatives:\", m[1,0]/total)\n",
    "ratio = (m[0,0]+m[1,1])/total\n",
    "print(\"Acccuracy:\", ratio)"
   ]
  },
  {
   "cell_type": "markdown",
   "id": "b7a01eeb",
   "metadata": {},
   "source": [
    "## Visual Confusion Matrix\n",
    "\n",
    "We can visualize it directly with:"
   ]
  },
  {
   "cell_type": "code",
   "execution_count": null,
   "id": "a892319b",
   "metadata": {},
   "outputs": [],
   "source": [
    "from sklearn.metrics import ConfusionMatrixDisplay\n",
    "\n",
    "disp=ConfusionMatrixDisplay(confusion_matrix=m)\n",
    "disp.plot()"
   ]
  },
  {
   "cell_type": "markdown",
   "id": "b1a02db8",
   "metadata": {},
   "source": [
    "We can also use the model and test to visualize the Confusion Matrix. Also, it can be normalized:"
   ]
  },
  {
   "cell_type": "code",
   "execution_count": null,
   "id": "9a1fcad2",
   "metadata": {},
   "outputs": [],
   "source": [
    "ConfusionMatrixDisplay.from_predictions(target_test, pred1, normalize='all')"
   ]
  },
  {
   "cell_type": "markdown",
   "id": "552cd5e4",
   "metadata": {},
   "source": [
    "It can be observed that results are similar to previous ones.\n",
    "\n",
    "We can also normalize by rows:"
   ]
  },
  {
   "cell_type": "code",
   "execution_count": null,
   "id": "dc493873",
   "metadata": {},
   "outputs": [],
   "source": [
    "ConfusionMatrixDisplay.from_predictions(target_test, pred1, normalize='true')"
   ]
  },
  {
   "cell_type": "markdown",
   "id": "fe25fb92",
   "metadata": {},
   "source": [
    "This means that it is very good predicting one class, not the other one."
   ]
  }
 ],
 "metadata": {
  "jupytext": {
   "formats": "ipynb,md"
  },
  "kernelspec": {
   "display_name": "Python 3",
   "language": "python",
   "name": "python3"
  }
 },
 "nbformat": 4,
 "nbformat_minor": 5
}
