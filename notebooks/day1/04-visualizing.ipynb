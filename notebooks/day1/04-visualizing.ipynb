{
 "cells": [
  {
   "cell_type": "markdown",
   "id": "1ecc9a1c",
   "metadata": {},
   "source": [
    "# Visualizing with Python\n",
    "\n",
    "An very important issue to process data, and mainly for make them understandable, is an adequate visualization of them.\n",
    "\n",
    "Thus, R and Python have many libraries and tools to visualize all types of data. In particular R us very popular by its excellent library **gplot**.\n",
    "\n",
    "Python have several excellent libraries also, there is not a clear winner:\n",
    "\n",
    "- **[Matplotlib](https://matplotlib.org/):** Widely used library, many options, very configurable, but with several drawbacks:\n",
    "   - Not easy to use, many details to define.\n",
    "   - Not good style by default (from Matlab), but now it can be customized easier with themes.\n",
    "- **[Seaborn](https://seaborn.pydata.org/):** Library upon Matplotlib that have two advantages:\n",
    "   - Better style by default.\n",
    "   - Many graphics (boxplot), and also other more advanced (FaceGrid, ...).\n",
    "   However, for several customs, it requires to know also Matplotlib.\n",
    "- **[From Pandas](https://pandas.pydata.org/docs/getting_started/intro_tutorials/04_plotting.html):** It let visualize information about the attributes/columns.\n",
    "   - Feo pero rápido.\n",
    "- **[Altair](https://altair-viz.github.io/):** More declarative approach, for web (or Notebook)."
   ]
  },
  {
   "cell_type": "markdown",
   "id": "019ca16a",
   "metadata": {},
   "source": [
    "## Visualizing from Matplotlib"
   ]
  },
  {
   "cell_type": "code",
   "execution_count": null,
   "id": "ac0fc230",
   "metadata": {},
   "outputs": [],
   "source": [
    "%matplotlib inline"
   ]
  },
  {
   "cell_type": "code",
   "execution_count": null,
   "id": "f53a0aa7",
   "metadata": {},
   "outputs": [],
   "source": [
    "from matplotlib import pyplot as plt"
   ]
  },
  {
   "cell_type": "code",
   "execution_count": null,
   "id": "988a8c16",
   "metadata": {},
   "outputs": [],
   "source": [
    "import numpy as np"
   ]
  },
  {
   "cell_type": "markdown",
   "id": "9b1e3f0b",
   "metadata": {},
   "source": [
    "With subplots() you can create several figures."
   ]
  },
  {
   "cell_type": "code",
   "execution_count": null,
   "id": "5cd248e4",
   "metadata": {
    "lines_to_next_cell": 0
   },
   "outputs": [],
   "source": [
    "fig1, ax = plt.subplots()\n",
    "ax.scatter(np.random.rand(10), np.random.rand(10))\n",
    "ax.set_title(\"Figura\")\n",
    "ax.plot(np.random.rand(10),  np.random.rand(10), color='green')"
   ]
  },
  {
   "cell_type": "markdown",
   "id": "4059bcf0",
   "metadata": {},
   "source": [
    "Actually it is drawn in the variable ax, and you can have several subfigures."
   ]
  },
  {
   "cell_type": "code",
   "execution_count": null,
   "id": "897e5622",
   "metadata": {},
   "outputs": [],
   "source": [
    "fig, ax = plt.subplots()\n",
    "x = np.arange(1,11)\n",
    "ax.scatter(x, x+10, marker='o')\n",
    "ax.scatter(x, x*2+5, color='red')"
   ]
  },
  {
   "cell_type": "markdown",
   "id": "cae0ea20",
   "metadata": {},
   "source": [
    "## Append a legend\n",
    "\n",
    "It seems nice, but it should have a legend to distinguish each plot. It can be done with the  label keyword."
   ]
  },
  {
   "cell_type": "code",
   "execution_count": null,
   "id": "06b0e4d1",
   "metadata": {},
   "outputs": [],
   "source": [
    "fig, ax = plt.subplots()\n",
    "ax.scatter(x, x+10, marker='o', label='Linear')\n",
    "ax.scatter(x, x*2, color='red', label='Quadratic')"
   ]
  },
  {
   "cell_type": "markdown",
   "id": "2738411f",
   "metadata": {},
   "source": [
    "It is not visible, you have to activate it."
   ]
  },
  {
   "cell_type": "code",
   "execution_count": null,
   "id": "b3888dfc",
   "metadata": {
    "lines_to_next_cell": 0
   },
   "outputs": [],
   "source": [
    "ax.legend()\n",
    "fig"
   ]
  },
  {
   "cell_type": "markdown",
   "id": "aaea9325",
   "metadata": {},
   "source": [
    "We can decide when to put the legend:"
   ]
  },
  {
   "cell_type": "code",
   "execution_count": null,
   "id": "79e33bf6",
   "metadata": {
    "lines_to_next_cell": 0
   },
   "outputs": [],
   "source": [
    "ax.legend(loc='lower right')\n",
    "fig"
   ]
  },
  {
   "cell_type": "markdown",
   "id": "4bd86cf5",
   "metadata": {},
   "source": [
    "## Creating several figures"
   ]
  },
  {
   "cell_type": "code",
   "execution_count": null,
   "id": "51c53d50",
   "metadata": {},
   "outputs": [],
   "source": [
    "fig, (ax1, ax2) = plt.subplots(1, 2)\n",
    "ax1.plot(x, x+10)\n",
    "ax2.scatter(x, np.log(x))\n",
    "ax2.scatter(x, x)\n",
    "ax2.set_xlim(0, 20)"
   ]
  },
  {
   "cell_type": "code",
   "execution_count": null,
   "id": "7152c952",
   "metadata": {},
   "outputs": [],
   "source": [
    "ax1.set_title(\"Figure 1\")\n",
    "ax2.set_title(\"Figure 2\")"
   ]
  },
  {
   "cell_type": "code",
   "execution_count": null,
   "id": "5ace63ac",
   "metadata": {},
   "outputs": [],
   "source": [
    "fig"
   ]
  },
  {
   "cell_type": "markdown",
   "id": "fb15453d",
   "metadata": {},
   "source": [
    "Or in a vertical way."
   ]
  },
  {
   "cell_type": "code",
   "execution_count": null,
   "id": "51a15011",
   "metadata": {},
   "outputs": [],
   "source": [
    "fig, (ax1, ax2) = plt.subplots(1, 2)\n",
    "ax1.scatter(np.random.rand(10), np.random.rand(10))\n",
    "ax2.bar([\"Granada\", \"Jaen\"], np.random.rand(2), color='green')"
   ]
  },
  {
   "cell_type": "code",
   "execution_count": null,
   "id": "64ff72d7",
   "metadata": {},
   "outputs": [],
   "source": [
    "fig, [[ax1,ax2],[ax3,ax4]] = plt.subplots(2, 2)\n",
    "ax1.scatter(np.random.rand(10), np.arange(10))"
   ]
  },
  {
   "cell_type": "markdown",
   "id": "1d12b057",
   "metadata": {},
   "source": [
    "# Seaborn\n",
    "\n",
    "It is not different to Matplotlib, but it has several interesting advantages:"
   ]
  },
  {
   "cell_type": "code",
   "execution_count": null,
   "id": "207c3c49",
   "metadata": {},
   "outputs": [],
   "source": [
    "import seaborn as sns"
   ]
  },
  {
   "cell_type": "code",
   "execution_count": null,
   "id": "48a76c42",
   "metadata": {},
   "outputs": [],
   "source": [
    "sns.set_theme()"
   ]
  },
  {
   "cell_type": "code",
   "execution_count": null,
   "id": "cb8ebb7b",
   "metadata": {},
   "outputs": [],
   "source": [
    "def example_plots():\n",
    "    fig, (ax1, ax2) = plt.subplots(1, 2)\n",
    "    ax1.scatter(np.random.rand(10), np.random.rand(10))\n",
    "    ax2.bar([\"Granada\", \"Jaen\"], np.random.rand(2), color='green')"
   ]
  },
  {
   "cell_type": "code",
   "execution_count": null,
   "id": "848f9f78",
   "metadata": {},
   "outputs": [],
   "source": [
    "example_plots()"
   ]
  },
  {
   "cell_type": "markdown",
   "id": "a02ae38c",
   "metadata": {},
   "source": [
    "## We change the style\n",
    "\n",
    "Several themes can be used:"
   ]
  },
  {
   "cell_type": "code",
   "execution_count": null,
   "id": "5338a2ce",
   "metadata": {},
   "outputs": [],
   "source": [
    "sns.set_style('whitegrid')\n",
    "example_plots()"
   ]
  },
  {
   "cell_type": "markdown",
   "id": "17a0f94b",
   "metadata": {},
   "source": [
    "You can [set more styles](https://seaborn.pydata.org/tutorial/aesthetics.html)."
   ]
  },
  {
   "cell_type": "markdown",
   "id": "831816e6",
   "metadata": {},
   "source": [
    "## More pictures\n",
    "\n",
    "The better of seaborn are its [own graphics](http://seaborn.pydata.org/tutorial.html).\n",
    "\n",
    "We will analyse the tip in several  restaurants."
   ]
  },
  {
   "cell_type": "code",
   "execution_count": null,
   "id": "74364481",
   "metadata": {},
   "outputs": [],
   "source": [
    "tips = sns.load_dataset(\"tips\")\n",
    "tips"
   ]
  },
  {
   "cell_type": "code",
   "execution_count": null,
   "id": "ce176edc",
   "metadata": {},
   "outputs": [],
   "source": [
    "sns.relplot(data=tips, x=\"total_bill\", y=\"tip\");\n",
    "ax = plt.gca();\n",
    "x = np.linspace(0, 50, 2)\n",
    "y = np.linspace(0, 10, 2)\n",
    "ax.plot(x,  y, color='red')"
   ]
  },
  {
   "cell_type": "markdown",
   "id": "49346689",
   "metadata": {},
   "source": [
    "It can be seen that it accepts DataFrame as data, and you can indicate for each dimension the corresponding attribute from the DataFrame. \n",
    "\n",
    "## Identifying several groups\n",
    "\n",
    "How is the different considering if the client is smoker or not? There are several options:\n",
    "\n",
    "1. Using field `hue`, that indicate the attribute to separate, data of each group will have a different color, and it will be remarked in the legend."
   ]
  },
  {
   "cell_type": "code",
   "execution_count": null,
   "id": "a168a152",
   "metadata": {},
   "outputs": [],
   "source": [
    "tips['cheap'] = tips.total_bill > 30;\n",
    "sns.relplot(x=\"total_bill\", y=\"tip\", data=tips, col=\"time\", hue=\"smoker\", style=\"sex\")"
   ]
  },
  {
   "cell_type": "code",
   "execution_count": null,
   "id": "c1e053c5",
   "metadata": {},
   "outputs": [],
   "source": [
    "tips['ratio'] = tips.tip/tips.total_bill"
   ]
  },
  {
   "cell_type": "code",
   "execution_count": null,
   "id": "8bc85f55",
   "metadata": {},
   "outputs": [],
   "source": [
    "sns.histplot(data=tips, x=\"total_bill\", y=\"ratio\")"
   ]
  },
  {
   "cell_type": "markdown",
   "id": "4a898031",
   "metadata": {},
   "source": [
    "2. The other option is using a field `col`, to create a new subfigure."
   ]
  },
  {
   "cell_type": "code",
   "execution_count": null,
   "id": "b989d8ea",
   "metadata": {},
   "outputs": [],
   "source": [
    "sns.relplot(x=\"total_bill\", y=\"tip\", data=tips, col=\"smoker\")"
   ]
  },
  {
   "cell_type": "markdown",
   "id": "7ca1ff23",
   "metadata": {},
   "source": [
    "3. Using a FacetGrid that allow us to separate in rows or column, and then with `map` to draw each one of them."
   ]
  },
  {
   "cell_type": "code",
   "execution_count": null,
   "id": "7e9ff1b8",
   "metadata": {},
   "outputs": [],
   "source": [
    "g = sns.FacetGrid(data=tips, col=\"smoker\")\n",
    "g.map(sns.scatterplot, \"total_bill\", \"tip\")"
   ]
  },
  {
   "cell_type": "markdown",
   "id": "57069103",
   "metadata": {},
   "source": [
    "Now we will see another useful drawing."
   ]
  },
  {
   "cell_type": "code",
   "execution_count": null,
   "id": "183fcc9a",
   "metadata": {},
   "outputs": [],
   "source": [
    "sns.boxplot(data=tips, y='ratio', x='cheap')"
   ]
  },
  {
   "cell_type": "code",
   "execution_count": null,
   "id": "9cc505a4",
   "metadata": {},
   "outputs": [],
   "source": [
    "sns.countplot(data=tips, x='smoker')"
   ]
  },
  {
   "cell_type": "markdown",
   "id": "43796ab4",
   "metadata": {},
   "source": [
    "It is very potent:"
   ]
  },
  {
   "cell_type": "code",
   "execution_count": null,
   "id": "0090e399",
   "metadata": {},
   "outputs": [],
   "source": [
    "sns.scatterplot(data=tips, x=\"total_bill\", y=\"tip\", hue=\"day\", style=\"time\")"
   ]
  },
  {
   "cell_type": "markdown",
   "id": "42e30ee8",
   "metadata": {},
   "source": [
    "A little bigger:"
   ]
  },
  {
   "cell_type": "code",
   "execution_count": null,
   "id": "15d30b9a",
   "metadata": {},
   "outputs": [],
   "source": [
    "fig2, ax2 = plt.subplots(figsize=(12,7))\n",
    "sns.scatterplot(data=tips, x=\"total_bill\", y=\"tip\", hue=\"day\", style=\"time\", ax=ax2)"
   ]
  },
  {
   "cell_type": "markdown",
   "id": "f0514463",
   "metadata": {},
   "source": [
    "To manage several of them:"
   ]
  },
  {
   "cell_type": "code",
   "execution_count": null,
   "id": "41ec1ac6",
   "metadata": {},
   "outputs": [],
   "source": [
    "penguins = sns.load_dataset(\"penguins\")\n",
    "sns.pairplot(penguins)"
   ]
  },
  {
   "cell_type": "code",
   "execution_count": null,
   "id": "16b7ed07",
   "metadata": {},
   "outputs": [],
   "source": [
    "sns.pairplot(penguins, hue=\"species\")"
   ]
  },
  {
   "cell_type": "markdown",
   "id": "a91c3a1f",
   "metadata": {},
   "source": [
    "# Several Scikit-learn examples"
   ]
  },
  {
   "cell_type": "code",
   "execution_count": null,
   "id": "0589642e",
   "metadata": {},
   "outputs": [],
   "source": [
    "from sklearn import datasets, metrics, model_selection, svm, tree\n",
    "X, y = datasets.make_classification(random_state=0)\n",
    "X_train, X_test, y_train, y_test = model_selection.train_test_split(X, y, random_state=0)"
   ]
  },
  {
   "cell_type": "code",
   "execution_count": null,
   "id": "ae7a45ca",
   "metadata": {},
   "outputs": [],
   "source": [
    "X"
   ]
  },
  {
   "cell_type": "code",
   "execution_count": null,
   "id": "1001da6d",
   "metadata": {},
   "outputs": [],
   "source": [
    "y"
   ]
  },
  {
   "cell_type": "markdown",
   "id": "5b95ec81",
   "metadata": {},
   "source": [
    "We are going to visualize a ROC picture:"
   ]
  },
  {
   "cell_type": "code",
   "execution_count": null,
   "id": "4d4be899",
   "metadata": {},
   "outputs": [],
   "source": [
    "svc = svm.SVC(random_state=0)\n",
    "svc.fit(X_train, y_train)\n",
    "metrics.RocCurveDisplay.from_estimator(svc, X_test, y_test) \n",
    "plt.show()                                   "
   ]
  },
  {
   "cell_type": "markdown",
   "id": "5145169c",
   "metadata": {},
   "source": [
    "To append more algorithms is the same thing, it is only required to use the same field `ax` in all of them."
   ]
  },
  {
   "cell_type": "code",
   "execution_count": null,
   "id": "2c08b5c3",
   "metadata": {},
   "outputs": [],
   "source": [
    "model_tree = tree.DecisionTreeClassifier(max_depth=5)"
   ]
  },
  {
   "cell_type": "code",
   "execution_count": null,
   "id": "b3c602dc",
   "metadata": {},
   "outputs": [],
   "source": [
    "model_tree.fit(X_train, y_train)\n",
    "plot2 = metrics.RocCurveDisplay.from_estimator(model_tree, X_test, y_test) \n",
    "plt.show()                      "
   ]
  },
  {
   "cell_type": "markdown",
   "id": "75fd2cbf",
   "metadata": {},
   "source": [
    "If we want to use the same way, we reuse the field `ax` (to reuse the previous figure and not to create a new one)."
   ]
  },
  {
   "cell_type": "code",
   "execution_count": null,
   "id": "ad7d4d71",
   "metadata": {},
   "outputs": [],
   "source": [
    "ax = plt.gca()\n",
    "\n",
    "for model in [svc, model_tree]:\n",
    "    metrics.RocCurveDisplay.from_estimator(model, X_test, y_test, ax=ax)  "
   ]
  }
 ],
 "metadata": {
  "jupytext": {
   "formats": "ipynb,md"
  },
  "kernelspec": {
   "display_name": "Python 3",
   "language": "python",
   "name": "python3"
  }
 },
 "nbformat": 4,
 "nbformat_minor": 5
}
