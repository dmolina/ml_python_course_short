{
 "cells": [
  {
   "cell_type": "markdown",
   "id": "f10d3de7",
   "metadata": {
    "ExecuteTime": {
     "end_time": "2022-05-18T16:35:23.233270Z",
     "start_time": "2022-05-18T16:35:23.224592Z"
    }
   },
   "source": [
    "# About this Notebook\n",
    "\n",
    "In this notebook we are going to use several well-known models to classify using scikit-learn."
   ]
  },
  {
   "cell_type": "markdown",
   "id": "4ad8cbc1",
   "metadata": {},
   "source": [
    "## Iris Dataset\n",
    "\n",
    "First, we are going to solve the Iris Dataset, it is a classic one. \n",
    "\n",
    "The target is to identify the iris from the dimension of the flower. \n",
    "\n",
    "<img src=\"https://machinelearninghd.com/wp-content/uploads/2021/03/iris-dataset.png\">"
   ]
  },
  {
   "cell_type": "code",
   "execution_count": 40,
   "id": "1b4a42ef",
   "metadata": {
    "ExecuteTime": {
     "end_time": "2022-05-18T19:23:03.242258Z",
     "start_time": "2022-05-18T19:23:03.235270Z"
    }
   },
   "outputs": [],
   "source": [
    "from sklearn import datasets\n",
    "\n",
    "iris = datasets.load_iris()"
   ]
  },
  {
   "cell_type": "code",
   "execution_count": 41,
   "id": "03f0d43b",
   "metadata": {
    "ExecuteTime": {
     "end_time": "2022-05-18T19:23:03.284701Z",
     "start_time": "2022-05-18T19:23:03.246488Z"
    }
   },
   "outputs": [],
   "source": [
    "y = iris.target\n",
    "X = iris.data[:,:2]"
   ]
  },
  {
   "cell_type": "code",
   "execution_count": 42,
   "id": "f12732fa",
   "metadata": {
    "ExecuteTime": {
     "end_time": "2022-05-18T19:23:03.300360Z",
     "start_time": "2022-05-18T19:23:03.287194Z"
    }
   },
   "outputs": [],
   "source": [
    "import pandas as pd"
   ]
  },
  {
   "cell_type": "code",
   "execution_count": 43,
   "id": "acbc9898",
   "metadata": {
    "ExecuteTime": {
     "end_time": "2022-05-18T19:23:03.324352Z",
     "start_time": "2022-05-18T19:23:03.302744Z"
    }
   },
   "outputs": [
    {
     "data": {
      "text/plain": [
       "array([0, 0, 0, 0, 0, 0, 0, 0, 0, 0, 0, 0, 0, 0, 0, 0, 0, 0, 0, 0, 0, 0,\n",
       "       0, 0, 0, 0, 0, 0, 0, 0, 0, 0, 0, 0, 0, 0, 0, 0, 0, 0, 0, 0, 0, 0,\n",
       "       0, 0, 0, 0, 0, 0, 1, 1, 1, 1, 1, 1, 1, 1, 1, 1, 1, 1, 1, 1, 1, 1,\n",
       "       1, 1, 1, 1, 1, 1, 1, 1, 1, 1, 1, 1, 1, 1, 1, 1, 1, 1, 1, 1, 1, 1,\n",
       "       1, 1, 1, 1, 1, 1, 1, 1, 1, 1, 1, 1, 2, 2, 2, 2, 2, 2, 2, 2, 2, 2,\n",
       "       2, 2, 2, 2, 2, 2, 2, 2, 2, 2, 2, 2, 2, 2, 2, 2, 2, 2, 2, 2, 2, 2,\n",
       "       2, 2, 2, 2, 2, 2, 2, 2, 2, 2, 2, 2, 2, 2, 2, 2, 2, 2])"
      ]
     },
     "execution_count": 43,
     "metadata": {},
     "output_type": "execute_result"
    }
   ],
   "source": [
    "y"
   ]
  },
  {
   "cell_type": "markdown",
   "id": "48b0fb95",
   "metadata": {},
   "source": [
    "We divide in train and test"
   ]
  },
  {
   "cell_type": "code",
   "execution_count": 44,
   "id": "a3eddf6f",
   "metadata": {
    "ExecuteTime": {
     "end_time": "2022-05-18T19:23:03.347259Z",
     "start_time": "2022-05-18T19:23:03.326933Z"
    }
   },
   "outputs": [],
   "source": [
    "from sklearn.model_selection import train_test_split\n",
    "\n",
    "X_train, X_test, y_train, y_test = train_test_split(X, y, test_size=0.3, random_state=42)"
   ]
  },
  {
   "cell_type": "markdown",
   "id": "2b1bb135",
   "metadata": {},
   "source": [
    "Now, we are going to use different classic algorithms."
   ]
  },
  {
   "cell_type": "markdown",
   "id": "c9aaf1f0",
   "metadata": {},
   "source": [
    "## Lineal Classification"
   ]
  },
  {
   "cell_type": "markdown",
   "id": "ce10a82a",
   "metadata": {},
   "source": [
    "First, we are going to use a Linear Classifier."
   ]
  },
  {
   "cell_type": "code",
   "execution_count": 45,
   "id": "ebc6b2a7",
   "metadata": {
    "ExecuteTime": {
     "end_time": "2022-05-18T19:23:03.378233Z",
     "start_time": "2022-05-18T19:23:03.349826Z"
    }
   },
   "outputs": [
    {
     "data": {
      "text/html": [
       "<style>#sk-container-id-4 {color: black;background-color: white;}#sk-container-id-4 pre{padding: 0;}#sk-container-id-4 div.sk-toggleable {background-color: white;}#sk-container-id-4 label.sk-toggleable__label {cursor: pointer;display: block;width: 100%;margin-bottom: 0;padding: 0.3em;box-sizing: border-box;text-align: center;}#sk-container-id-4 label.sk-toggleable__label-arrow:before {content: \"▸\";float: left;margin-right: 0.25em;color: #696969;}#sk-container-id-4 label.sk-toggleable__label-arrow:hover:before {color: black;}#sk-container-id-4 div.sk-estimator:hover label.sk-toggleable__label-arrow:before {color: black;}#sk-container-id-4 div.sk-toggleable__content {max-height: 0;max-width: 0;overflow: hidden;text-align: left;background-color: #f0f8ff;}#sk-container-id-4 div.sk-toggleable__content pre {margin: 0.2em;color: black;border-radius: 0.25em;background-color: #f0f8ff;}#sk-container-id-4 input.sk-toggleable__control:checked~div.sk-toggleable__content {max-height: 200px;max-width: 100%;overflow: auto;}#sk-container-id-4 input.sk-toggleable__control:checked~label.sk-toggleable__label-arrow:before {content: \"▾\";}#sk-container-id-4 div.sk-estimator input.sk-toggleable__control:checked~label.sk-toggleable__label {background-color: #d4ebff;}#sk-container-id-4 div.sk-label input.sk-toggleable__control:checked~label.sk-toggleable__label {background-color: #d4ebff;}#sk-container-id-4 input.sk-hidden--visually {border: 0;clip: rect(1px 1px 1px 1px);clip: rect(1px, 1px, 1px, 1px);height: 1px;margin: -1px;overflow: hidden;padding: 0;position: absolute;width: 1px;}#sk-container-id-4 div.sk-estimator {font-family: monospace;background-color: #f0f8ff;border: 1px dotted black;border-radius: 0.25em;box-sizing: border-box;margin-bottom: 0.5em;}#sk-container-id-4 div.sk-estimator:hover {background-color: #d4ebff;}#sk-container-id-4 div.sk-parallel-item::after {content: \"\";width: 100%;border-bottom: 1px solid gray;flex-grow: 1;}#sk-container-id-4 div.sk-label:hover label.sk-toggleable__label {background-color: #d4ebff;}#sk-container-id-4 div.sk-serial::before {content: \"\";position: absolute;border-left: 1px solid gray;box-sizing: border-box;top: 0;bottom: 0;left: 50%;z-index: 0;}#sk-container-id-4 div.sk-serial {display: flex;flex-direction: column;align-items: center;background-color: white;padding-right: 0.2em;padding-left: 0.2em;position: relative;}#sk-container-id-4 div.sk-item {position: relative;z-index: 1;}#sk-container-id-4 div.sk-parallel {display: flex;align-items: stretch;justify-content: center;background-color: white;position: relative;}#sk-container-id-4 div.sk-item::before, #sk-container-id-4 div.sk-parallel-item::before {content: \"\";position: absolute;border-left: 1px solid gray;box-sizing: border-box;top: 0;bottom: 0;left: 50%;z-index: -1;}#sk-container-id-4 div.sk-parallel-item {display: flex;flex-direction: column;z-index: 1;position: relative;background-color: white;}#sk-container-id-4 div.sk-parallel-item:first-child::after {align-self: flex-end;width: 50%;}#sk-container-id-4 div.sk-parallel-item:last-child::after {align-self: flex-start;width: 50%;}#sk-container-id-4 div.sk-parallel-item:only-child::after {width: 0;}#sk-container-id-4 div.sk-dashed-wrapped {border: 1px dashed gray;margin: 0 0.4em 0.5em 0.4em;box-sizing: border-box;padding-bottom: 0.4em;background-color: white;}#sk-container-id-4 div.sk-label label {font-family: monospace;font-weight: bold;display: inline-block;line-height: 1.2em;}#sk-container-id-4 div.sk-label-container {text-align: center;}#sk-container-id-4 div.sk-container {/* jupyter's `normalize.less` sets `[hidden] { display: none; }` but bootstrap.min.css set `[hidden] { display: none !important; }` so we also need the `!important` here to be able to override the default hidden behavior on the sphinx rendered scikit-learn.org. See: https://github.com/scikit-learn/scikit-learn/issues/21755 */display: inline-block !important;position: relative;}#sk-container-id-4 div.sk-text-repr-fallback {display: none;}</style><div id=\"sk-container-id-4\" class=\"sk-top-container\"><div class=\"sk-text-repr-fallback\"><pre>SGDClassifier(max_iter=100)</pre><b>In a Jupyter environment, please rerun this cell to show the HTML representation or trust the notebook. <br />On GitHub, the HTML representation is unable to render, please try loading this page with nbviewer.org.</b></div><div class=\"sk-container\" hidden><div class=\"sk-item\"><div class=\"sk-estimator sk-toggleable\"><input class=\"sk-toggleable__control sk-hidden--visually\" id=\"sk-estimator-id-8\" type=\"checkbox\" checked><label for=\"sk-estimator-id-8\" class=\"sk-toggleable__label sk-toggleable__label-arrow\">SGDClassifier</label><div class=\"sk-toggleable__content\"><pre>SGDClassifier(max_iter=100)</pre></div></div></div></div></div>"
      ],
      "text/plain": [
       "SGDClassifier(max_iter=100)"
      ]
     },
     "execution_count": 45,
     "metadata": {},
     "output_type": "execute_result"
    }
   ],
   "source": [
    "from sklearn.linear_model import SGDClassifier\n",
    "\n",
    "model = SGDClassifier(max_iter=100)\n",
    "model.fit(X_train, y_train)"
   ]
  },
  {
   "cell_type": "code",
   "execution_count": 46,
   "id": "51b38931",
   "metadata": {
    "ExecuteTime": {
     "end_time": "2022-05-18T19:23:03.391249Z",
     "start_time": "2022-05-18T19:23:03.381144Z"
    }
   },
   "outputs": [],
   "source": [
    "predict = model.predict(X_test)"
   ]
  },
  {
   "cell_type": "code",
   "execution_count": 47,
   "id": "9c46c322",
   "metadata": {
    "ExecuteTime": {
     "end_time": "2022-05-18T19:23:03.414358Z",
     "start_time": "2022-05-18T19:23:03.393772Z"
    }
   },
   "outputs": [],
   "source": [
    "from sklearn.metrics import accuracy_score\n",
    "from sklearn.model_selection import cross_val_score"
   ]
  },
  {
   "cell_type": "code",
   "execution_count": 48,
   "id": "608cd20d",
   "metadata": {
    "ExecuteTime": {
     "end_time": "2022-05-18T19:23:03.443327Z",
     "start_time": "2022-05-18T19:23:03.417060Z"
    }
   },
   "outputs": [
    {
     "data": {
      "text/plain": [
       "0.7111111111111111"
      ]
     },
     "execution_count": 48,
     "metadata": {},
     "output_type": "execute_result"
    }
   ],
   "source": [
    "accuracy_score(predict, y_test)"
   ]
  },
  {
   "cell_type": "markdown",
   "id": "92a4d249",
   "metadata": {},
   "source": [
    "It is able to classify with great results."
   ]
  },
  {
   "cell_type": "markdown",
   "id": "c35808a3",
   "metadata": {
    "ExecuteTime": {
     "end_time": "2022-05-18T17:13:16.330304Z",
     "start_time": "2022-05-18T17:13:16.317214Z"
    }
   },
   "source": [
    "We are going to visualize the decision bounds."
   ]
  },
  {
   "cell_type": "code",
   "execution_count": 49,
   "id": "49819c52",
   "metadata": {
    "ExecuteTime": {
     "end_time": "2022-05-18T19:23:03.469629Z",
     "start_time": "2022-05-18T19:23:03.445473Z"
    }
   },
   "outputs": [],
   "source": [
    "from sklearn.inspection import DecisionBoundaryDisplay\n",
    "import matplotlib.pyplot as plt"
   ]
  },
  {
   "cell_type": "code",
   "execution_count": 50,
   "id": "e5e2d2d1",
   "metadata": {
    "ExecuteTime": {
     "end_time": "2022-05-18T19:23:03.751466Z",
     "start_time": "2022-05-18T19:23:03.472999Z"
    },
    "scrolled": true
   },
   "outputs": [
    {
     "data": {
      "text/plain": [
       "<matplotlib.collections.PathCollection at 0x7f03790be8b0>"
      ]
     },
     "execution_count": 50,
     "metadata": {},
     "output_type": "execute_result"
    },
    {
     "data": {
      "image/png": "[encoded data removed]",
      "text/plain": [
       "<Figure size 432x288 with 1 Axes>"
      ]
     },
     "metadata": {
      "needs_background": "light"
     },
     "output_type": "display_data"
    }
   ],
   "source": [
    "disp = DecisionBoundaryDisplay.from_estimator(\n",
    "    model,\n",
    "    X[:,:2],\n",
    "    ax=plt.gca(),\n",
    "    response_method=\"predict\",\n",
    "    xlabel=iris.feature_names[0], ylabel=iris.feature_names[1], alpha=0.5\n",
    ")\n",
    "disp.ax_.scatter(X[:, 0], X[:, 1], c=iris.target, edgecolor=\"k\")"
   ]
  },
  {
   "cell_type": "markdown",
   "id": "f0bd2e4b",
   "metadata": {},
   "source": [
    "We can see that the space is linearly divided in 3, to classify each instance."
   ]
  },
  {
   "cell_type": "markdown",
   "id": "04c77ef2",
   "metadata": {},
   "source": [
    "We have use only two variables to visualize, with all four we achieve a better results. "
   ]
  },
  {
   "cell_type": "markdown",
   "id": "c7a99977",
   "metadata": {},
   "source": [
    "**Task: Modify the code to use the 4 attributes, and check the accuracy.**"
   ]
  },
  {
   "cell_type": "code",
   "execution_count": 51,
   "id": "a791f274",
   "metadata": {
    "ExecuteTime": {
     "end_time": "2022-05-18T19:23:03.758390Z",
     "start_time": "2022-05-18T19:23:03.754460Z"
    }
   },
   "outputs": [],
   "source": [
    "predict = model.predict(X_test)"
   ]
  },
  {
   "cell_type": "code",
   "execution_count": 52,
   "id": "96aab9a0",
   "metadata": {
    "ExecuteTime": {
     "end_time": "2022-05-18T19:23:03.812229Z",
     "start_time": "2022-05-18T19:23:03.760444Z"
    }
   },
   "outputs": [
    {
     "data": {
      "text/plain": [
       "0.6666666666666666"
      ]
     },
     "execution_count": 52,
     "metadata": {},
     "output_type": "execute_result"
    }
   ],
   "source": [
    "cross_val_score(model, X, y, cv=5).mean()"
   ]
  },
  {
   "cell_type": "markdown",
   "id": "25b2da7b",
   "metadata": {},
   "source": [
    "## K-Nearest Neighborhood\n",
    "\n",
    "This algorithm allow us to classify considering the class of the nearest instances."
   ]
  },
  {
   "cell_type": "code",
   "execution_count": 53,
   "id": "5fa6c3bf",
   "metadata": {
    "ExecuteTime": {
     "end_time": "2022-05-18T19:23:03.823068Z",
     "start_time": "2022-05-18T19:23:03.819128Z"
    }
   },
   "outputs": [],
   "source": [
    "\n",
    "from sklearn.neighbors import KNeighborsClassifier"
   ]
  },
  {
   "cell_type": "code",
   "execution_count": 54,
   "id": "b589167f",
   "metadata": {
    "ExecuteTime": {
     "end_time": "2022-05-18T19:23:03.844233Z",
     "start_time": "2022-05-18T19:23:03.826026Z"
    }
   },
   "outputs": [],
   "source": [
    "knn = KNeighborsClassifier(n_neighbors=3)"
   ]
  },
  {
   "cell_type": "markdown",
   "id": "27a6a007",
   "metadata": {},
   "source": [
    "### Important: Data must be normalize"
   ]
  },
  {
   "cell_type": "code",
   "execution_count": 55,
   "id": "a9981523",
   "metadata": {
    "ExecuteTime": {
     "end_time": "2022-05-18T19:23:03.869751Z",
     "start_time": "2022-05-18T19:23:03.847622Z"
    }
   },
   "outputs": [],
   "source": [
    "from sklearn.pipeline import Pipeline\n",
    "from sklearn.preprocessing import StandardScaler"
   ]
  },
  {
   "cell_type": "code",
   "execution_count": 56,
   "id": "91bf1ac0",
   "metadata": {
    "ExecuteTime": {
     "end_time": "2022-05-18T19:23:03.890886Z",
     "start_time": "2022-05-18T19:23:03.872078Z"
    }
   },
   "outputs": [],
   "source": [
    "model_knn = Pipeline([\n",
    "            (\"scaler\", StandardScaler()),\n",
    "            (\"knn\", knn)])"
   ]
  },
  {
   "cell_type": "code",
   "execution_count": 57,
   "id": "a3df9473",
   "metadata": {
    "ExecuteTime": {
     "end_time": "2022-05-18T19:23:03.923652Z",
     "start_time": "2022-05-18T19:23:03.893977Z"
    }
   },
   "outputs": [
    {
     "data": {
      "text/html": [
       "<style>#sk-container-id-5 {color: black;background-color: white;}#sk-container-id-5 pre{padding: 0;}#sk-container-id-5 div.sk-toggleable {background-color: white;}#sk-container-id-5 label.sk-toggleable__label {cursor: pointer;display: block;width: 100%;margin-bottom: 0;padding: 0.3em;box-sizing: border-box;text-align: center;}#sk-container-id-5 label.sk-toggleable__label-arrow:before {content: \"▸\";float: left;margin-right: 0.25em;color: #696969;}#sk-container-id-5 label.sk-toggleable__label-arrow:hover:before {color: black;}#sk-container-id-5 div.sk-estimator:hover label.sk-toggleable__label-arrow:before {color: black;}#sk-container-id-5 div.sk-toggleable__content {max-height: 0;max-width: 0;overflow: hidden;text-align: left;background-color: #f0f8ff;}#sk-container-id-5 div.sk-toggleable__content pre {margin: 0.2em;color: black;border-radius: 0.25em;background-color: #f0f8ff;}#sk-container-id-5 input.sk-toggleable__control:checked~div.sk-toggleable__content {max-height: 200px;max-width: 100%;overflow: auto;}#sk-container-id-5 input.sk-toggleable__control:checked~label.sk-toggleable__label-arrow:before {content: \"▾\";}#sk-container-id-5 div.sk-estimator input.sk-toggleable__control:checked~label.sk-toggleable__label {background-color: #d4ebff;}#sk-container-id-5 div.sk-label input.sk-toggleable__control:checked~label.sk-toggleable__label {background-color: #d4ebff;}#sk-container-id-5 input.sk-hidden--visually {border: 0;clip: rect(1px 1px 1px 1px);clip: rect(1px, 1px, 1px, 1px);height: 1px;margin: -1px;overflow: hidden;padding: 0;position: absolute;width: 1px;}#sk-container-id-5 div.sk-estimator {font-family: monospace;background-color: #f0f8ff;border: 1px dotted black;border-radius: 0.25em;box-sizing: border-box;margin-bottom: 0.5em;}#sk-container-id-5 div.sk-estimator:hover {background-color: #d4ebff;}#sk-container-id-5 div.sk-parallel-item::after {content: \"\";width: 100%;border-bottom: 1px solid gray;flex-grow: 1;}#sk-container-id-5 div.sk-label:hover label.sk-toggleable__label {background-color: #d4ebff;}#sk-container-id-5 div.sk-serial::before {content: \"\";position: absolute;border-left: 1px solid gray;box-sizing: border-box;top: 0;bottom: 0;left: 50%;z-index: 0;}#sk-container-id-5 div.sk-serial {display: flex;flex-direction: column;align-items: center;background-color: white;padding-right: 0.2em;padding-left: 0.2em;position: relative;}#sk-container-id-5 div.sk-item {position: relative;z-index: 1;}#sk-container-id-5 div.sk-parallel {display: flex;align-items: stretch;justify-content: center;background-color: white;position: relative;}#sk-container-id-5 div.sk-item::before, #sk-container-id-5 div.sk-parallel-item::before {content: \"\";position: absolute;border-left: 1px solid gray;box-sizing: border-box;top: 0;bottom: 0;left: 50%;z-index: -1;}#sk-container-id-5 div.sk-parallel-item {display: flex;flex-direction: column;z-index: 1;position: relative;background-color: white;}#sk-container-id-5 div.sk-parallel-item:first-child::after {align-self: flex-end;width: 50%;}#sk-container-id-5 div.sk-parallel-item:last-child::after {align-self: flex-start;width: 50%;}#sk-container-id-5 div.sk-parallel-item:only-child::after {width: 0;}#sk-container-id-5 div.sk-dashed-wrapped {border: 1px dashed gray;margin: 0 0.4em 0.5em 0.4em;box-sizing: border-box;padding-bottom: 0.4em;background-color: white;}#sk-container-id-5 div.sk-label label {font-family: monospace;font-weight: bold;display: inline-block;line-height: 1.2em;}#sk-container-id-5 div.sk-label-container {text-align: center;}#sk-container-id-5 div.sk-container {/* jupyter's `normalize.less` sets `[hidden] { display: none; }` but bootstrap.min.css set `[hidden] { display: none !important; }` so we also need the `!important` here to be able to override the default hidden behavior on the sphinx rendered scikit-learn.org. See: https://github.com/scikit-learn/scikit-learn/issues/21755 */display: inline-block !important;position: relative;}#sk-container-id-5 div.sk-text-repr-fallback {display: none;}</style><div id=\"sk-container-id-5\" class=\"sk-top-container\"><div class=\"sk-text-repr-fallback\"><pre>Pipeline(steps=[(&#x27;scaler&#x27;, StandardScaler()),\n",
       "                (&#x27;knn&#x27;, KNeighborsClassifier(n_neighbors=3))])</pre><b>In a Jupyter environment, please rerun this cell to show the HTML representation or trust the notebook. <br />On GitHub, the HTML representation is unable to render, please try loading this page with nbviewer.org.</b></div><div class=\"sk-container\" hidden><div class=\"sk-item sk-dashed-wrapped\"><div class=\"sk-label-container\"><div class=\"sk-label sk-toggleable\"><input class=\"sk-toggleable__control sk-hidden--visually\" id=\"sk-estimator-id-9\" type=\"checkbox\" ><label for=\"sk-estimator-id-9\" class=\"sk-toggleable__label sk-toggleable__label-arrow\">Pipeline</label><div class=\"sk-toggleable__content\"><pre>Pipeline(steps=[(&#x27;scaler&#x27;, StandardScaler()),\n",
       "                (&#x27;knn&#x27;, KNeighborsClassifier(n_neighbors=3))])</pre></div></div></div><div class=\"sk-serial\"><div class=\"sk-item\"><div class=\"sk-estimator sk-toggleable\"><input class=\"sk-toggleable__control sk-hidden--visually\" id=\"sk-estimator-id-10\" type=\"checkbox\" ><label for=\"sk-estimator-id-10\" class=\"sk-toggleable__label sk-toggleable__label-arrow\">StandardScaler</label><div class=\"sk-toggleable__content\"><pre>StandardScaler()</pre></div></div></div><div class=\"sk-item\"><div class=\"sk-estimator sk-toggleable\"><input class=\"sk-toggleable__control sk-hidden--visually\" id=\"sk-estimator-id-11\" type=\"checkbox\" ><label for=\"sk-estimator-id-11\" class=\"sk-toggleable__label sk-toggleable__label-arrow\">KNeighborsClassifier</label><div class=\"sk-toggleable__content\"><pre>KNeighborsClassifier(n_neighbors=3)</pre></div></div></div></div></div></div></div>"
      ],
      "text/plain": [
       "Pipeline(steps=[('scaler', StandardScaler()),\n",
       "                ('knn', KNeighborsClassifier(n_neighbors=3))])"
      ]
     },
     "execution_count": 57,
     "metadata": {},
     "output_type": "execute_result"
    }
   ],
   "source": [
    "model_knn.fit(X_train, y_train)"
   ]
  },
  {
   "cell_type": "code",
   "execution_count": 58,
   "id": "0e0c914e",
   "metadata": {
    "ExecuteTime": {
     "end_time": "2022-05-18T19:23:03.943843Z",
     "start_time": "2022-05-18T19:23:03.926707Z"
    }
   },
   "outputs": [],
   "source": [
    "predict = model_knn.predict(X_test)"
   ]
  },
  {
   "cell_type": "code",
   "execution_count": 59,
   "id": "2acfabf7",
   "metadata": {
    "ExecuteTime": {
     "end_time": "2022-05-18T19:23:03.970173Z",
     "start_time": "2022-05-18T19:23:03.946441Z"
    }
   },
   "outputs": [
    {
     "data": {
      "text/plain": [
       "0.8"
      ]
     },
     "execution_count": 59,
     "metadata": {},
     "output_type": "execute_result"
    }
   ],
   "source": [
    "accuracy_score(predict, y_test)"
   ]
  },
  {
   "cell_type": "code",
   "execution_count": 60,
   "id": "219ff38a",
   "metadata": {
    "ExecuteTime": {
     "end_time": "2022-05-18T19:23:04.699337Z",
     "start_time": "2022-05-18T19:23:03.973463Z"
    }
   },
   "outputs": [
    {
     "data": {
      "text/plain": [
       "<matplotlib.collections.PathCollection at 0x7f0394a35ee0>"
      ]
     },
     "execution_count": 60,
     "metadata": {},
     "output_type": "execute_result"
    },
    {
     "data": {
      "image/png": "[encoded data removed]",
      "text/plain": [
       "<Figure size 432x288 with 1 Axes>"
      ]
     },
     "metadata": {
      "needs_background": "light"
     },
     "output_type": "display_data"
    }
   ],
   "source": [
    "disp = DecisionBoundaryDisplay.from_estimator(\n",
    "    model_knn,\n",
    "    X[:,:2],\n",
    "    ax=plt.gca(),\n",
    "    response_method=\"predict\",\n",
    "    xlabel=iris.feature_names[0], ylabel=iris.feature_names[1], alpha=0.5\n",
    ")\n",
    "disp.ax_.scatter(X_test[:, 0], X_test[:, 1], c=y_test, edgecolor=\"k\")"
   ]
  },
  {
   "cell_type": "markdown",
   "id": "eb4e850a",
   "metadata": {},
   "source": [
    "In this case, the region is grouping around each solution."
   ]
  },
  {
   "cell_type": "markdown",
   "id": "2507be0a",
   "metadata": {},
   "source": [
    "**Task: Apply with several neighborhood.**"
   ]
  },
  {
   "cell_type": "code",
   "execution_count": 61,
   "id": "b26c59cc",
   "metadata": {
    "ExecuteTime": {
     "end_time": "2022-05-18T19:23:04.732216Z",
     "start_time": "2022-05-18T19:23:04.701762Z"
    }
   },
   "outputs": [
    {
     "data": {
      "text/plain": [
       "0.7466666666666667"
      ]
     },
     "execution_count": 61,
     "metadata": {},
     "output_type": "execute_result"
    }
   ],
   "source": [
    "cross_val_score(model_knn, X, y, cv=5).mean()"
   ]
  },
  {
   "cell_type": "markdown",
   "id": "14a023e4",
   "metadata": {
    "ExecuteTime": {
     "end_time": "2022-05-18T18:05:45.521910Z",
     "start_time": "2022-05-18T18:05:45.518359Z"
    }
   },
   "source": [
    "## Support Vector Machine\n",
    "\n",
    "SVM is a very popular classifier, that divide the space.\n",
    "\n",
    "<img src=\"https://miro.medium.com/max/1200/1*06GSco3ItM3gwW2scY6Tmg.png\" width=\"50%\">"
   ]
  },
  {
   "cell_type": "code",
   "execution_count": 62,
   "id": "52ddb562",
   "metadata": {
    "ExecuteTime": {
     "end_time": "2022-05-18T19:23:04.738879Z",
     "start_time": "2022-05-18T19:23:04.734922Z"
    }
   },
   "outputs": [],
   "source": [
    "from sklearn.svm import LinearSVC"
   ]
  },
  {
   "cell_type": "code",
   "execution_count": 63,
   "id": "7d8f6ce0",
   "metadata": {
    "ExecuteTime": {
     "end_time": "2022-05-18T19:23:04.756825Z",
     "start_time": "2022-05-18T19:23:04.743262Z"
    }
   },
   "outputs": [],
   "source": [
    "svc = LinearSVC()"
   ]
  },
  {
   "cell_type": "code",
   "execution_count": 64,
   "id": "a2610ee2",
   "metadata": {
    "ExecuteTime": {
     "end_time": "2022-05-18T19:23:04.784509Z",
     "start_time": "2022-05-18T19:23:04.759007Z"
    }
   },
   "outputs": [],
   "source": [
    "model_svc = Pipeline([(\"scale\", StandardScaler()), (\"svc\", svc)])"
   ]
  },
  {
   "cell_type": "code",
   "execution_count": 65,
   "id": "161ad0ce",
   "metadata": {
    "ExecuteTime": {
     "end_time": "2022-05-18T19:23:04.828528Z",
     "start_time": "2022-05-18T19:23:04.791504Z"
    }
   },
   "outputs": [
    {
     "data": {
      "text/html": [
       "<style>#sk-container-id-6 {color: black;background-color: white;}#sk-container-id-6 pre{padding: 0;}#sk-container-id-6 div.sk-toggleable {background-color: white;}#sk-container-id-6 label.sk-toggleable__label {cursor: pointer;display: block;width: 100%;margin-bottom: 0;padding: 0.3em;box-sizing: border-box;text-align: center;}#sk-container-id-6 label.sk-toggleable__label-arrow:before {content: \"▸\";float: left;margin-right: 0.25em;color: #696969;}#sk-container-id-6 label.sk-toggleable__label-arrow:hover:before {color: black;}#sk-container-id-6 div.sk-estimator:hover label.sk-toggleable__label-arrow:before {color: black;}#sk-container-id-6 div.sk-toggleable__content {max-height: 0;max-width: 0;overflow: hidden;text-align: left;background-color: #f0f8ff;}#sk-container-id-6 div.sk-toggleable__content pre {margin: 0.2em;color: black;border-radius: 0.25em;background-color: #f0f8ff;}#sk-container-id-6 input.sk-toggleable__control:checked~div.sk-toggleable__content {max-height: 200px;max-width: 100%;overflow: auto;}#sk-container-id-6 input.sk-toggleable__control:checked~label.sk-toggleable__label-arrow:before {content: \"▾\";}#sk-container-id-6 div.sk-estimator input.sk-toggleable__control:checked~label.sk-toggleable__label {background-color: #d4ebff;}#sk-container-id-6 div.sk-label input.sk-toggleable__control:checked~label.sk-toggleable__label {background-color: #d4ebff;}#sk-container-id-6 input.sk-hidden--visually {border: 0;clip: rect(1px 1px 1px 1px);clip: rect(1px, 1px, 1px, 1px);height: 1px;margin: -1px;overflow: hidden;padding: 0;position: absolute;width: 1px;}#sk-container-id-6 div.sk-estimator {font-family: monospace;background-color: #f0f8ff;border: 1px dotted black;border-radius: 0.25em;box-sizing: border-box;margin-bottom: 0.5em;}#sk-container-id-6 div.sk-estimator:hover {background-color: #d4ebff;}#sk-container-id-6 div.sk-parallel-item::after {content: \"\";width: 100%;border-bottom: 1px solid gray;flex-grow: 1;}#sk-container-id-6 div.sk-label:hover label.sk-toggleable__label {background-color: #d4ebff;}#sk-container-id-6 div.sk-serial::before {content: \"\";position: absolute;border-left: 1px solid gray;box-sizing: border-box;top: 0;bottom: 0;left: 50%;z-index: 0;}#sk-container-id-6 div.sk-serial {display: flex;flex-direction: column;align-items: center;background-color: white;padding-right: 0.2em;padding-left: 0.2em;position: relative;}#sk-container-id-6 div.sk-item {position: relative;z-index: 1;}#sk-container-id-6 div.sk-parallel {display: flex;align-items: stretch;justify-content: center;background-color: white;position: relative;}#sk-container-id-6 div.sk-item::before, #sk-container-id-6 div.sk-parallel-item::before {content: \"\";position: absolute;border-left: 1px solid gray;box-sizing: border-box;top: 0;bottom: 0;left: 50%;z-index: -1;}#sk-container-id-6 div.sk-parallel-item {display: flex;flex-direction: column;z-index: 1;position: relative;background-color: white;}#sk-container-id-6 div.sk-parallel-item:first-child::after {align-self: flex-end;width: 50%;}#sk-container-id-6 div.sk-parallel-item:last-child::after {align-self: flex-start;width: 50%;}#sk-container-id-6 div.sk-parallel-item:only-child::after {width: 0;}#sk-container-id-6 div.sk-dashed-wrapped {border: 1px dashed gray;margin: 0 0.4em 0.5em 0.4em;box-sizing: border-box;padding-bottom: 0.4em;background-color: white;}#sk-container-id-6 div.sk-label label {font-family: monospace;font-weight: bold;display: inline-block;line-height: 1.2em;}#sk-container-id-6 div.sk-label-container {text-align: center;}#sk-container-id-6 div.sk-container {/* jupyter's `normalize.less` sets `[hidden] { display: none; }` but bootstrap.min.css set `[hidden] { display: none !important; }` so we also need the `!important` here to be able to override the default hidden behavior on the sphinx rendered scikit-learn.org. See: https://github.com/scikit-learn/scikit-learn/issues/21755 */display: inline-block !important;position: relative;}#sk-container-id-6 div.sk-text-repr-fallback {display: none;}</style><div id=\"sk-container-id-6\" class=\"sk-top-container\"><div class=\"sk-text-repr-fallback\"><pre>Pipeline(steps=[(&#x27;scale&#x27;, StandardScaler()), (&#x27;svc&#x27;, LinearSVC())])</pre><b>In a Jupyter environment, please rerun this cell to show the HTML representation or trust the notebook. <br />On GitHub, the HTML representation is unable to render, please try loading this page with nbviewer.org.</b></div><div class=\"sk-container\" hidden><div class=\"sk-item sk-dashed-wrapped\"><div class=\"sk-label-container\"><div class=\"sk-label sk-toggleable\"><input class=\"sk-toggleable__control sk-hidden--visually\" id=\"sk-estimator-id-12\" type=\"checkbox\" ><label for=\"sk-estimator-id-12\" class=\"sk-toggleable__label sk-toggleable__label-arrow\">Pipeline</label><div class=\"sk-toggleable__content\"><pre>Pipeline(steps=[(&#x27;scale&#x27;, StandardScaler()), (&#x27;svc&#x27;, LinearSVC())])</pre></div></div></div><div class=\"sk-serial\"><div class=\"sk-item\"><div class=\"sk-estimator sk-toggleable\"><input class=\"sk-toggleable__control sk-hidden--visually\" id=\"sk-estimator-id-13\" type=\"checkbox\" ><label for=\"sk-estimator-id-13\" class=\"sk-toggleable__label sk-toggleable__label-arrow\">StandardScaler</label><div class=\"sk-toggleable__content\"><pre>StandardScaler()</pre></div></div></div><div class=\"sk-item\"><div class=\"sk-estimator sk-toggleable\"><input class=\"sk-toggleable__control sk-hidden--visually\" id=\"sk-estimator-id-14\" type=\"checkbox\" ><label for=\"sk-estimator-id-14\" class=\"sk-toggleable__label sk-toggleable__label-arrow\">LinearSVC</label><div class=\"sk-toggleable__content\"><pre>LinearSVC()</pre></div></div></div></div></div></div></div>"
      ],
      "text/plain": [
       "Pipeline(steps=[('scale', StandardScaler()), ('svc', LinearSVC())])"
      ]
     },
     "execution_count": 65,
     "metadata": {},
     "output_type": "execute_result"
    }
   ],
   "source": [
    "model_svc.fit(X_train, y_train)"
   ]
  },
  {
   "cell_type": "code",
   "execution_count": 66,
   "id": "3f0816d5",
   "metadata": {
    "ExecuteTime": {
     "end_time": "2022-05-18T19:23:04.854440Z",
     "start_time": "2022-05-18T19:23:04.835152Z"
    }
   },
   "outputs": [
    {
     "data": {
      "text/plain": [
       "0.8222222222222222"
      ]
     },
     "execution_count": 66,
     "metadata": {},
     "output_type": "execute_result"
    }
   ],
   "source": [
    "predict = model_svc.predict(X_test)\n",
    "accuracy_score(predict, y_test)"
   ]
  },
  {
   "cell_type": "code",
   "execution_count": 67,
   "id": "b54680dc",
   "metadata": {
    "ExecuteTime": {
     "end_time": "2022-05-18T19:23:05.098501Z",
     "start_time": "2022-05-18T19:23:04.858162Z"
    }
   },
   "outputs": [
    {
     "data": {
      "text/plain": [
       "<matplotlib.collections.PathCollection at 0x7f0394a2e0d0>"
      ]
     },
     "execution_count": 67,
     "metadata": {},
     "output_type": "execute_result"
    },
    {
     "data": {
      "image/png": "[encoded data removed]",
      "text/plain": [
       "<Figure size 432x288 with 1 Axes>"
      ]
     },
     "metadata": {
      "needs_background": "light"
     },
     "output_type": "display_data"
    }
   ],
   "source": [
    "disp = DecisionBoundaryDisplay.from_estimator(\n",
    "    model_svc,\n",
    "    X[:,:2],\n",
    "    response_method=\"predict\",\n",
    "    xlabel=iris.feature_names[0], ylabel=iris.feature_names[1], alpha=0.5\n",
    ")\n",
    "disp.ax_.scatter(X_test[:, 0], X_test[:, 1], c=y_test, edgecolor=\"k\")"
   ]
  },
  {
   "cell_type": "code",
   "execution_count": 68,
   "id": "55ea4a4e",
   "metadata": {
    "ExecuteTime": {
     "end_time": "2022-05-18T19:23:05.133432Z",
     "start_time": "2022-05-18T19:23:05.105483Z"
    }
   },
   "outputs": [
    {
     "data": {
      "text/plain": [
       "0.8066666666666666"
      ]
     },
     "execution_count": 68,
     "metadata": {},
     "output_type": "execute_result"
    }
   ],
   "source": [
    "cross_val_score(model_svc, X, y, cv=5).mean()"
   ]
  },
  {
   "cell_type": "markdown",
   "id": "70f64aaf",
   "metadata": {},
   "source": [
    "## Titanic Dataset"
   ]
  },
  {
   "cell_type": "markdown",
   "id": "143782cb",
   "metadata": {},
   "source": [
    "We are going to use another datasets, detection of Titanic."
   ]
  },
  {
   "cell_type": "code",
   "execution_count": 69,
   "id": "0af0f150",
   "metadata": {
    "ExecuteTime": {
     "end_time": "2022-05-18T19:23:05.153494Z",
     "start_time": "2022-05-18T19:23:05.137327Z"
    }
   },
   "outputs": [],
   "source": [
    "data = pd.read_csv(\"titanic.csv\").dropna()"
   ]
  },
  {
   "cell_type": "code",
   "execution_count": 70,
   "id": "ae325a2c",
   "metadata": {
    "ExecuteTime": {
     "end_time": "2022-05-18T19:23:05.169257Z",
     "start_time": "2022-05-18T19:23:05.156059Z"
    }
   },
   "outputs": [
    {
     "data": {
      "text/plain": [
       "(183, 12)"
      ]
     },
     "execution_count": 70,
     "metadata": {},
     "output_type": "execute_result"
    }
   ],
   "source": [
    "data.shape"
   ]
  },
  {
   "cell_type": "code",
   "execution_count": 71,
   "id": "60b91161",
   "metadata": {
    "ExecuteTime": {
     "end_time": "2022-05-18T19:23:05.203660Z",
     "start_time": "2022-05-18T19:23:05.173423Z"
    }
   },
   "outputs": [
    {
     "data": {
      "text/html": [
       "<div>\n",
       "<style scoped>\n",
       "    .dataframe tbody tr th:only-of-type {\n",
       "        vertical-align: middle;\n",
       "    }\n",
       "\n",
       "    .dataframe tbody tr th {\n",
       "        vertical-align: top;\n",
       "    }\n",
       "\n",
       "    .dataframe thead th {\n",
       "        text-align: right;\n",
       "    }\n",
       "</style>\n",
       "<table border=\"1\" class=\"dataframe\">\n",
       "  <thead>\n",
       "    <tr style=\"text-align: right;\">\n",
       "      <th></th>\n",
       "      <th>PassengerId</th>\n",
       "      <th>Survived</th>\n",
       "      <th>Pclass</th>\n",
       "      <th>Name</th>\n",
       "      <th>Sex</th>\n",
       "      <th>Age</th>\n",
       "      <th>SibSp</th>\n",
       "      <th>Parch</th>\n",
       "      <th>Ticket</th>\n",
       "      <th>Fare</th>\n",
       "      <th>Cabin</th>\n",
       "      <th>Embarked</th>\n",
       "    </tr>\n",
       "  </thead>\n",
       "  <tbody>\n",
       "    <tr>\n",
       "      <th>1</th>\n",
       "      <td>2</td>\n",
       "      <td>1</td>\n",
       "      <td>1</td>\n",
       "      <td>Cumings, Mrs. John Bradley (Florence Briggs Th...</td>\n",
       "      <td>female</td>\n",
       "      <td>38.0</td>\n",
       "      <td>1</td>\n",
       "      <td>0</td>\n",
       "      <td>PC 17599</td>\n",
       "      <td>71.2833</td>\n",
       "      <td>C85</td>\n",
       "      <td>C</td>\n",
       "    </tr>\n",
       "    <tr>\n",
       "      <th>3</th>\n",
       "      <td>4</td>\n",
       "      <td>1</td>\n",
       "      <td>1</td>\n",
       "      <td>Futrelle, Mrs. Jacques Heath (Lily May Peel)</td>\n",
       "      <td>female</td>\n",
       "      <td>35.0</td>\n",
       "      <td>1</td>\n",
       "      <td>0</td>\n",
       "      <td>113803</td>\n",
       "      <td>53.1000</td>\n",
       "      <td>C123</td>\n",
       "      <td>S</td>\n",
       "    </tr>\n",
       "    <tr>\n",
       "      <th>6</th>\n",
       "      <td>7</td>\n",
       "      <td>0</td>\n",
       "      <td>1</td>\n",
       "      <td>McCarthy, Mr. Timothy J</td>\n",
       "      <td>male</td>\n",
       "      <td>54.0</td>\n",
       "      <td>0</td>\n",
       "      <td>0</td>\n",
       "      <td>17463</td>\n",
       "      <td>51.8625</td>\n",
       "      <td>E46</td>\n",
       "      <td>S</td>\n",
       "    </tr>\n",
       "    <tr>\n",
       "      <th>10</th>\n",
       "      <td>11</td>\n",
       "      <td>1</td>\n",
       "      <td>3</td>\n",
       "      <td>Sandstrom, Miss. Marguerite Rut</td>\n",
       "      <td>female</td>\n",
       "      <td>4.0</td>\n",
       "      <td>1</td>\n",
       "      <td>1</td>\n",
       "      <td>PP 9549</td>\n",
       "      <td>16.7000</td>\n",
       "      <td>G6</td>\n",
       "      <td>S</td>\n",
       "    </tr>\n",
       "    <tr>\n",
       "      <th>11</th>\n",
       "      <td>12</td>\n",
       "      <td>1</td>\n",
       "      <td>1</td>\n",
       "      <td>Bonnell, Miss. Elizabeth</td>\n",
       "      <td>female</td>\n",
       "      <td>58.0</td>\n",
       "      <td>0</td>\n",
       "      <td>0</td>\n",
       "      <td>113783</td>\n",
       "      <td>26.5500</td>\n",
       "      <td>C103</td>\n",
       "      <td>S</td>\n",
       "    </tr>\n",
       "  </tbody>\n",
       "</table>\n",
       "</div>"
      ],
      "text/plain": [
       "    PassengerId  Survived  Pclass  \\\n",
       "1             2         1       1   \n",
       "3             4         1       1   \n",
       "6             7         0       1   \n",
       "10           11         1       3   \n",
       "11           12         1       1   \n",
       "\n",
       "                                                 Name     Sex   Age  SibSp  \\\n",
       "1   Cumings, Mrs. John Bradley (Florence Briggs Th...  female  38.0      1   \n",
       "3        Futrelle, Mrs. Jacques Heath (Lily May Peel)  female  35.0      1   \n",
       "6                             McCarthy, Mr. Timothy J    male  54.0      0   \n",
       "10                    Sandstrom, Miss. Marguerite Rut  female   4.0      1   \n",
       "11                           Bonnell, Miss. Elizabeth  female  58.0      0   \n",
       "\n",
       "    Parch    Ticket     Fare Cabin Embarked  \n",
       "1       0  PC 17599  71.2833   C85        C  \n",
       "3       0    113803  53.1000  C123        S  \n",
       "6       0     17463  51.8625   E46        S  \n",
       "10      1   PP 9549  16.7000    G6        S  \n",
       "11      0    113783  26.5500  C103        S  "
      ]
     },
     "execution_count": 71,
     "metadata": {},
     "output_type": "execute_result"
    }
   ],
   "source": [
    "data.head()"
   ]
  },
  {
   "cell_type": "code",
   "execution_count": 72,
   "id": "5791cf2b",
   "metadata": {
    "ExecuteTime": {
     "end_time": "2022-05-18T19:23:05.222822Z",
     "start_time": "2022-05-18T19:23:05.206317Z"
    }
   },
   "outputs": [],
   "source": [
    "y = data['Survived']"
   ]
  },
  {
   "cell_type": "code",
   "execution_count": 73,
   "id": "043beff3",
   "metadata": {
    "ExecuteTime": {
     "end_time": "2022-05-18T19:23:05.242889Z",
     "start_time": "2022-05-18T19:23:05.225692Z"
    }
   },
   "outputs": [],
   "source": [
    "X = data.drop(['Survived', 'Cabin', 'PassengerId', 'Name', 'Ticket'], axis=1)"
   ]
  },
  {
   "cell_type": "code",
   "execution_count": 74,
   "id": "5cbe444e",
   "metadata": {
    "ExecuteTime": {
     "end_time": "2022-05-18T19:23:05.271718Z",
     "start_time": "2022-05-18T19:23:05.247626Z"
    }
   },
   "outputs": [],
   "source": [
    "import seaborn as sns\n",
    "disp = sns.countplot(x = 'Survived', hue = 'Sex', palette = 'Set1', data = data)\n",
    "disp.set(title = 'Passenger status (Survived/Died) against Passenger Class', \n",
    "       xlabel = 'Passenger Class', ylabel = 'Total')\n",
    "plt.show()"
   ]
  },
  {
   "cell_type": "code",
   "execution_count": 75,
   "id": "a3bcecdb",
   "metadata": {
    "ExecuteTime": {
     "end_time": "2022-05-18T19:23:05.503325Z",
     "start_time": "2022-05-18T19:23:05.273737Z"
    }
   },
   "outputs": [
    {
     "data": {
      "image/png": "[encoded data removed]",
      "text/plain": [
       "<Figure size 432x288 with 1 Axes>"
      ]
     },
     "metadata": {
      "needs_background": "light"
     },
     "output_type": "display_data"
    }
   ],
   "source": [
    "from sklearn.preprocessing import LabelEncoder"
   ]
  },
  {
   "cell_type": "code",
   "execution_count": 76,
   "id": "6055251a",
   "metadata": {
    "ExecuteTime": {
     "end_time": "2022-05-18T19:23:05.644811Z",
     "start_time": "2022-05-18T19:23:05.506291Z"
    }
   },
   "outputs": [
    {
     "ename": "NameError",
     "evalue": "name 'LabelEncoder' is not defined",
     "output_type": "error",
     "traceback": [
      "\u001b[0;31m---------------------------------------------------------------------------\u001b[0m",
      "\u001b[0;31mNameError\u001b[0m                                 Traceback (most recent call last)",
      "Input \u001b[0;32mIn [76]\u001b[0m, in \u001b[0;36m<cell line: 3>\u001b[0;34m()\u001b[0m\n\u001b[1;32m      1\u001b[0m labels_t \u001b[38;5;241m=\u001b[39m {}\n\u001b[1;32m      3\u001b[0m \u001b[38;5;28;01mfor\u001b[39;00m col \u001b[38;5;129;01min\u001b[39;00m [\u001b[38;5;124m'\u001b[39m\u001b[38;5;124mSex\u001b[39m\u001b[38;5;124m'\u001b[39m, \u001b[38;5;124m'\u001b[39m\u001b[38;5;124mEmbarked\u001b[39m\u001b[38;5;124m'\u001b[39m]:\n\u001b[0;32m----> 4\u001b[0m     labels_t[col] \u001b[38;5;241m=\u001b[39m \u001b[43mLabelEncoder\u001b[49m()\u001b[38;5;241m.\u001b[39mfit(X[col])\n\u001b[1;32m      5\u001b[0m     X[col] \u001b[38;5;241m=\u001b[39m labels_t[col]\u001b[38;5;241m.\u001b[39mtransform(X[col])\n",
      "\u001b[0;31mNameError\u001b[0m: name 'LabelEncoder' is not defined"
     ]
    }
   ],
   "source": [
    "labels_t = {}\n",
    "\n",
    "for col in ['Sex', 'Embarked']:\n",
    "    labels_t[col] = LabelEncoder().fit(X[col])\n",
    "    X[col] = labels_t[col].transform(X[col])"
   ]
  },
  {
   "cell_type": "code",
   "execution_count": null,
   "id": "3977a088",
   "metadata": {
    "ExecuteTime": {
     "end_time": "2022-05-18T19:23:05.655446Z",
     "start_time": "2022-05-18T19:23:05.655405Z"
    }
   },
   "outputs": [],
   "source": [
    "X.info()"
   ]
  },
  {
   "cell_type": "code",
   "execution_count": null,
   "id": "b027ebbb",
   "metadata": {
    "ExecuteTime": {
     "end_time": "2022-05-18T19:23:05.657674Z",
     "start_time": "2022-05-18T19:23:05.657644Z"
    }
   },
   "outputs": [],
   "source": [
    "X_train, X_test, y_train, y_test = train_test_split(X, y, train_size=0.7, random_state=42)"
   ]
  },
  {
   "cell_type": "markdown",
   "id": "023ea711",
   "metadata": {
    "ExecuteTime": {
     "end_time": "2022-05-18T16:36:14.468589Z",
     "start_time": "2022-05-18T16:36:14.462243Z"
    }
   },
   "source": [
    "## Decision Tree\n",
    "\n",
    "The decision tree are one of the most intuitive models to predict a category. The idea is to automatically create a decision tree that, for each instance, in function of its attributes, a specific category is assigned."
   ]
  },
  {
   "cell_type": "code",
   "execution_count": null,
   "id": "1d4a1ac7",
   "metadata": {
    "ExecuteTime": {
     "end_time": "2022-05-18T19:23:05.661491Z",
     "start_time": "2022-05-18T19:23:05.661459Z"
    }
   },
   "outputs": [],
   "source": [
    "from sklearn.tree import DecisionTreeClassifier"
   ]
  },
  {
   "cell_type": "code",
   "execution_count": null,
   "id": "ec1ad07c",
   "metadata": {
    "ExecuteTime": {
     "end_time": "2022-05-18T19:23:05.662930Z",
     "start_time": "2022-05-18T19:23:05.662912Z"
    }
   },
   "outputs": [],
   "source": [
    "model_tree = DecisionTreeClassifier(max_depth=3)"
   ]
  },
  {
   "cell_type": "code",
   "execution_count": null,
   "id": "fb1b522b",
   "metadata": {
    "ExecuteTime": {
     "end_time": "2022-05-18T19:23:05.664575Z",
     "start_time": "2022-05-18T19:23:05.664542Z"
    }
   },
   "outputs": [],
   "source": [
    "model_tree.fit(X_train, y_train)"
   ]
  },
  {
   "cell_type": "markdown",
   "id": "3e0903f2",
   "metadata": {},
   "source": [
    "We are going to visualize it."
   ]
  },
  {
   "cell_type": "code",
   "execution_count": null,
   "id": "b2c4d60e",
   "metadata": {
    "ExecuteTime": {
     "end_time": "2022-05-18T19:23:05.666845Z",
     "start_time": "2022-05-18T19:23:05.666818Z"
    }
   },
   "outputs": [],
   "source": [
    "\n",
    "from sklearn import tree"
   ]
  },
  {
   "cell_type": "code",
   "execution_count": null,
   "id": "4479b907",
   "metadata": {
    "ExecuteTime": {
     "end_time": "2022-05-18T19:23:05.668221Z",
     "start_time": "2022-05-18T19:23:05.668203Z"
    }
   },
   "outputs": [],
   "source": [
    "tree.plot_tree(model_tree)\n",
    "plt.show()"
   ]
  },
  {
   "cell_type": "code",
   "execution_count": null,
   "id": "ec4c22c9",
   "metadata": {
    "ExecuteTime": {
     "end_time": "2022-05-18T19:23:05.669154Z",
     "start_time": "2022-05-18T19:23:05.669139Z"
    }
   },
   "outputs": [],
   "source": [
    "plt.figure(figsize=(50,50))\n",
    "tree.plot_tree(model_tree, feature_names=X_train.columns)\n",
    "plt.show()"
   ]
  },
  {
   "cell_type": "code",
   "execution_count": null,
   "id": "f070596f",
   "metadata": {
    "ExecuteTime": {
     "end_time": "2022-05-18T19:23:05.670071Z",
     "start_time": "2022-05-18T19:23:05.670055Z"
    }
   },
   "outputs": [],
   "source": [
    "cross_val_score(model_tree, X, y, cv=5).mean()"
   ]
  },
  {
   "cell_type": "markdown",
   "id": "9e05fdc7",
   "metadata": {},
   "source": [
    "## Ensemble models and Random Forest\n",
    "\n",
    "In this example, we are going to use Ensemble Model, Random Forest.\n",
    "\n",
    "<img src=\"https://miro.medium.com/max/1482/0*Srg7htj4TOMP5ldX.png\">"
   ]
  },
  {
   "cell_type": "code",
   "execution_count": null,
   "id": "ce1eda8f",
   "metadata": {
    "ExecuteTime": {
     "end_time": "2022-05-18T19:23:05.670963Z",
     "start_time": "2022-05-18T19:23:05.670948Z"
    }
   },
   "outputs": [],
   "source": [
    "from sklearn.ensemble import RandomForestClassifier"
   ]
  },
  {
   "cell_type": "code",
   "execution_count": null,
   "id": "4589a61a",
   "metadata": {
    "ExecuteTime": {
     "end_time": "2022-05-18T19:23:05.672254Z",
     "start_time": "2022-05-18T19:23:05.672233Z"
    }
   },
   "outputs": [],
   "source": [
    "model_rf = RandomForestClassifier(n_estimators=50) # Limit the number of trees"
   ]
  },
  {
   "cell_type": "code",
   "execution_count": null,
   "id": "b9cf8e15",
   "metadata": {
    "ExecuteTime": {
     "end_time": "2022-05-18T19:23:05.674796Z",
     "start_time": "2022-05-18T19:23:05.674766Z"
    }
   },
   "outputs": [],
   "source": [
    "cross_val_score(model_rf, X, y, cv=5).mean()"
   ]
  },
  {
   "cell_type": "markdown",
   "id": "f6b44462",
   "metadata": {},
   "source": [
    "# Task: Tackle \n",
    "\n",
    "We have a list of Seeds for Pumpins, we want to classify the Class from the Features. Test the different models compared, using cross_validation, and get the best models."
   ]
  },
  {
   "cell_type": "code",
   "execution_count": null,
   "id": "d272ec7a",
   "metadata": {
    "ExecuteTime": {
     "end_time": "2022-05-18T19:23:05.676873Z",
     "start_time": "2022-05-18T19:23:05.676846Z"
    }
   },
   "outputs": [],
   "source": [
    "from scipy.io import arff\n",
    "import pandas as pd\n",
    "\n",
    "data = arff.loadarff('Pumpkin_Seeds_Dataset.arff')\n",
    "seeds = pd.DataFrame(data[0])"
   ]
  },
  {
   "cell_type": "code",
   "execution_count": null,
   "id": "c05100be",
   "metadata": {
    "ExecuteTime": {
     "end_time": "2022-05-18T19:23:05.679313Z",
     "start_time": "2022-05-18T19:23:05.679279Z"
    }
   },
   "outputs": [],
   "source": [
    "seeds.head()"
   ]
  },
  {
   "cell_type": "code",
   "execution_count": null,
   "id": "6578179c",
   "metadata": {
    "ExecuteTime": {
     "end_time": "2022-05-18T19:23:05.681772Z",
     "start_time": "2022-05-18T19:23:05.681742Z"
    }
   },
   "outputs": [],
   "source": [
    "target_labels = LabelEncoder().fit(seeds['Class'])"
   ]
  },
  {
   "cell_type": "code",
   "execution_count": null,
   "id": "c9de7e74",
   "metadata": {
    "ExecuteTime": {
     "end_time": "2022-05-18T19:23:05.683793Z",
     "start_time": "2022-05-18T19:23:05.683761Z"
    }
   },
   "outputs": [],
   "source": [
    "y = target_labels.transform(seeds['Class'])\n",
    "X = seeds.drop(['Class'], axis=1)"
   ]
  }
 ],
 "metadata": {
  "@webio": {
   "lastCommId": null,
   "lastKernelId": null
  },
  "kernelspec": {
   "display_name": "Python 3",
   "language": "python",
   "name": "python3"
  },
  "language_info": {
   "codemirror_mode": {
    "name": "ipython",
    "version": 3
   },
   "file_extension": ".py",
   "mimetype": "text/x-python",
   "name": "python",
   "nbconvert_exporter": "python",
   "pygments_lexer": "ipython3",
   "version": "3.9.7"
  },
  "toc": {
   "base_numbering": 1,
   "nav_menu": {},
   "number_sections": true,
   "sideBar": true,
   "skip_h1_title": false,
   "title_cell": "Table of Contents",
   "title_sidebar": "Contents",
   "toc_cell": false,
   "toc_position": {},
   "toc_section_display": true,
   "toc_window_display": false
  },
  "varInspector": {
   "cols": {
    "lenName": 16,
    "lenType": 16,
    "lenVar": 40
   },
   "kernels_config": {
    "python": {
     "delete_cmd_postfix": "",
     "delete_cmd_prefix": "del ",
     "library": "var_list.py",
     "varRefreshCmd": "print(var_dic_list())"
    },
    "r": {
     "delete_cmd_postfix": ") ",
     "delete_cmd_prefix": "rm(",
     "library": "var_list.r",
     "varRefreshCmd": "cat(var_dic_list()) "
    }
   },
   "types_to_exclude": [
    "module",
    "function",
    "builtin_function_or_method",
    "instance",
    "_Feature"
   ],
   "window_display": false
  }
 },
 "nbformat": 4,
 "nbformat_minor": 5
}
