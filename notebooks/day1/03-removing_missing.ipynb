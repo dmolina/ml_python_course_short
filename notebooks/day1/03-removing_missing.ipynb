{
 "cells": [
  {
   "cell_type": "markdown",
   "id": "cb07b446",
   "metadata": {},
   "source": [
    "# How to tackle missing values"
   ]
  },
  {
   "cell_type": "markdown",
   "id": "42e42340",
   "metadata": {},
   "source": [
    "In this *notebook* we are going to apply several options to preprocess missing values."
   ]
  },
  {
   "cell_type": "code",
   "execution_count": null,
   "id": "3f0ace24",
   "metadata": {},
   "outputs": [],
   "source": [
    "import pandas as pd"
   ]
  },
  {
   "cell_type": "markdown",
   "id": "e3749092",
   "metadata": {},
   "source": [
    "## Reading with missing values\n",
    "\n",
    "The first thing is to assure a right reading of values. If we do not consider that they could be missing values, and how they are stored in CSV, it will interpret these values as normal strings."
   ]
  },
  {
   "cell_type": "code",
   "execution_count": null,
   "id": "5f167901",
   "metadata": {},
   "outputs": [],
   "source": [
    "df = pd.read_csv(\"mammography.csv\")"
   ]
  },
  {
   "cell_type": "code",
   "execution_count": null,
   "id": "b9f69f40",
   "metadata": {},
   "outputs": [],
   "source": [
    "df.head()"
   ]
  },
  {
   "cell_type": "code",
   "execution_count": null,
   "id": "e5ea2b61",
   "metadata": {},
   "outputs": [],
   "source": [
    "df.dtypes"
   ]
  },
  {
   "cell_type": "markdown",
   "id": "67fb2504",
   "metadata": {},
   "source": [
    "The solution is to indicate that '?' means a missing value, this is done as:"
   ]
  },
  {
   "cell_type": "code",
   "execution_count": null,
   "id": "f0281e4f",
   "metadata": {},
   "outputs": [],
   "source": [
    "df = pd.read_csv(\"mammography.csv\", na_values=[\"?\"])"
   ]
  },
  {
   "cell_type": "code",
   "execution_count": null,
   "id": "7bfbdcae",
   "metadata": {},
   "outputs": [],
   "source": [
    "df.head()"
   ]
  },
  {
   "cell_type": "code",
   "execution_count": null,
   "id": "69d56b1f",
   "metadata": {},
   "outputs": [],
   "source": [
    "df.dtypes"
   ]
  },
  {
   "cell_type": "markdown",
   "id": "5deb4164",
   "metadata": {},
   "source": [
    "# First option, to remove\n",
    "\n",
    "The simpler option, not the best one, is to remove any instance with missing or not valide attributes. This can be easily done with dropna()."
   ]
  },
  {
   "cell_type": "code",
   "execution_count": null,
   "id": "996a8eb4",
   "metadata": {},
   "outputs": [],
   "source": [
    "df2 = df.copy()\n",
    "df2.dropna().shape"
   ]
  },
  {
   "cell_type": "code",
   "execution_count": null,
   "id": "3fe97a73",
   "metadata": {},
   "outputs": [],
   "source": [
    "df.shape"
   ]
  },
  {
   "cell_type": "markdown",
   "id": "9a82a626",
   "metadata": {},
   "source": [
    "The problem is that you can loss too much data/instances, usually it is not recommended.\n",
    "\n",
    "# Another option: Replace them\n",
    "\n",
    "Another option is to replace the missing values with a value, it can be used several strategies:\n",
    "    \n",
    "- More frequent value in that column (or in the same category). This is reasonable for qualitative variables.\n",
    "- Average value, for numerical variables.\n",
    "- Value to maintain the same average and std in the attribute.\n",
    "\n",
    "In order to do that, we can use sklearn.impute, we will see with an example."
   ]
  },
  {
   "cell_type": "code",
   "execution_count": null,
   "id": "7f07c1dd",
   "metadata": {},
   "outputs": [],
   "source": [
    "from sklearn import impute"
   ]
  },
  {
   "cell_type": "code",
   "execution_count": null,
   "id": "5e0a39b2",
   "metadata": {},
   "outputs": [],
   "source": [
    "df.Density.head()"
   ]
  },
  {
   "cell_type": "code",
   "execution_count": null,
   "id": "b30fe44f",
   "metadata": {},
   "outputs": [],
   "source": [
    "df.Density.tail(20)"
   ]
  },
  {
   "cell_type": "markdown",
   "id": "cf1ffcec",
   "metadata": {},
   "source": [
    "First we create a SimpleImputer with the strategy, and then we apply it. Because SimpleImputer works with a matrix of vectors we use [], and then we \n",
    "use the first row of the result."
   ]
  },
  {
   "cell_type": "code",
   "execution_count": null,
   "id": "279b2645",
   "metadata": {},
   "outputs": [],
   "source": [
    "help(impute.SimpleImputer)"
   ]
  },
  {
   "cell_type": "code",
   "execution_count": null,
   "id": "5328c3fe",
   "metadata": {},
   "outputs": [],
   "source": [
    "imputer = impute.SimpleImputer(strategy=\"most_frequent\")\n",
    "\n",
    "values = imputer.fit_transform([df.Density.values])\n",
    "values"
   ]
  },
  {
   "cell_type": "markdown",
   "id": "4a292e76",
   "metadata": {},
   "source": [
    "Now we update the attribute with the new values."
   ]
  },
  {
   "cell_type": "code",
   "execution_count": null,
   "id": "50ac1598",
   "metadata": {},
   "outputs": [],
   "source": [
    "df.Density.update(pd.Series(values[0]))"
   ]
  },
  {
   "cell_type": "markdown",
   "id": "7bc06131",
   "metadata": {},
   "source": [
    "We check there is not NaN in the attribute."
   ]
  },
  {
   "cell_type": "code",
   "execution_count": null,
   "id": "dc6b128c",
   "metadata": {},
   "outputs": [],
   "source": [
    "df.Density.head()"
   ]
  },
  {
   "cell_type": "code",
   "execution_count": null,
   "id": "56866c05",
   "metadata": {},
   "outputs": [],
   "source": [
    "df.Density.tail(20)"
   ]
  },
  {
   "cell_type": "markdown",
   "id": "1ce7d885",
   "metadata": {},
   "source": [
    "A more complete comparison."
   ]
  },
  {
   "cell_type": "code",
   "execution_count": null,
   "id": "646dc305",
   "metadata": {},
   "outputs": [],
   "source": [
    "df.head()"
   ]
  },
  {
   "cell_type": "code",
   "execution_count": null,
   "id": "12906006",
   "metadata": {},
   "outputs": [],
   "source": [
    "df3 = df.copy()\n",
    "df3.dropna()"
   ]
  },
  {
   "cell_type": "code",
   "execution_count": null,
   "id": "4fcd4c1e",
   "metadata": {},
   "outputs": [],
   "source": [
    "df2 = df2.dropna()"
   ]
  },
  {
   "cell_type": "code",
   "execution_count": null,
   "id": "a98616d2",
   "metadata": {},
   "outputs": [],
   "source": [
    "df2.shape"
   ]
  },
  {
   "cell_type": "code",
   "execution_count": null,
   "id": "22aafa79",
   "metadata": {},
   "outputs": [],
   "source": [
    "df2.Density.describe()"
   ]
  },
  {
   "cell_type": "code",
   "execution_count": null,
   "id": "ea729a3f",
   "metadata": {},
   "outputs": [],
   "source": [
    "df3 = df3.dropna()\n",
    "df3.shape"
   ]
  },
  {
   "cell_type": "code",
   "execution_count": null,
   "id": "9ba9ac08",
   "metadata": {},
   "outputs": [],
   "source": [
    "df3.Density.describe()"
   ]
  }
 ],
 "metadata": {
  "jupytext": {
   "formats": "ipynb,md"
  },
  "kernelspec": {
   "display_name": "Python 3",
   "language": "python",
   "name": "python3"
  }
 },
 "nbformat": 4,
 "nbformat_minor": 5
}
