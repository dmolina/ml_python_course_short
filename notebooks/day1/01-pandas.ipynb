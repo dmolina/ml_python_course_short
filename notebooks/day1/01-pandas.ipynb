{
 "cells": [
  {
   "cell_type": "markdown",
   "id": "fd0c8f09",
   "metadata": {},
   "source": [
    "# Pandas Tutorial"
   ]
  },
  {
   "cell_type": "markdown",
   "id": "2fc6d16c",
   "metadata": {},
   "source": [
    "<img src=\"https://upload.wikimedia.org/wikipedia/commons/thumb/e/ed/Pandas_logo.svg/1200px-Pandas_logo.svg.png\" width=\"30%\">"
   ]
  },
  {
   "cell_type": "code",
   "execution_count": null,
   "id": "6bf026f5",
   "metadata": {},
   "outputs": [],
   "source": [
    "import pandas as pd"
   ]
  },
  {
   "cell_type": "markdown",
   "id": "b1390113",
   "metadata": {},
   "source": [
    "## DataFrames and Series\n",
    "\n",
    "The two main elements in Pandas are `Series` and ``DaraFrames`.\n",
    "\n",
    "`Series` is basically the information of a column/attribute, and `DataFrame` is a multidimensional table composed by a collection of `Series`.\n",
    "\n",
    "<img src=\"https://storage.googleapis.com/lds-media/images/series-and-dataframe.width-1200.png\" width=600px />"
   ]
  },
  {
   "cell_type": "markdown",
   "id": "ed640e33",
   "metadata": {},
   "source": [
    "### Creating DataFrames from scratch\n",
    "\n",
    "You can create a `DataFrame` from a simple `Dictionary`.\n",
    "\n",
    "In the example we have a fruit shop that sells apples and oranges. We want a column for each fruit, and a row for the sell of a client."
   ]
  },
  {
   "cell_type": "code",
   "execution_count": null,
   "id": "a7659692",
   "metadata": {},
   "outputs": [],
   "source": [
    "data = {\n",
    "    'apples': [3.2, 2, 0, 1], \n",
    "    'oranges': [0, 3, 7, 2],\n",
    "    'tip': ['yes', 'no', 'yes', 'yes']\n",
    "}"
   ]
  },
  {
   "cell_type": "code",
   "execution_count": null,
   "id": "fa3c7203",
   "metadata": {},
   "outputs": [],
   "source": [
    "purchases = pd.DataFrame(data)\n",
    "purchases"
   ]
  },
  {
   "cell_type": "markdown",
   "id": "fefeee19",
   "metadata": {},
   "source": [
    "The **Index** of this DataFrame was automatically create, using the number 0-3, but we could assign them as we wish.\n",
    "\n",
    "Now the client's names will be the indexes:"
   ]
  },
  {
   "cell_type": "code",
   "execution_count": null,
   "id": "8d3d2fd5",
   "metadata": {},
   "outputs": [],
   "source": [
    "purchases = pd.DataFrame(data, index=['June', 'Robert', 'Lily', 'David'])\n",
    "\n",
    "purchases"
   ]
  },
  {
   "cell_type": "markdown",
   "id": "ce494276",
   "metadata": {},
   "source": [
    "Now we can search the data from a client using its name:"
   ]
  },
  {
   "cell_type": "code",
   "execution_count": null,
   "id": "c11438b9",
   "metadata": {},
   "outputs": [],
   "source": [
    "purchases.iloc[0].tip"
   ]
  },
  {
   "cell_type": "code",
   "execution_count": null,
   "id": "672eedcc",
   "metadata": {},
   "outputs": [],
   "source": [
    "purchases.loc['June']"
   ]
  },
  {
   "cell_type": "code",
   "execution_count": null,
   "id": "7c2807f4",
   "metadata": {
    "lines_to_next_cell": 0
   },
   "outputs": [],
   "source": [
    "purchases.iloc[0]"
   ]
  },
  {
   "cell_type": "markdown",
   "id": "efeb54ca",
   "metadata": {},
   "source": [
    "We can also access by row:"
   ]
  },
  {
   "cell_type": "code",
   "execution_count": null,
   "id": "97305963",
   "metadata": {},
   "outputs": [],
   "source": [
    "purchases['oranges']"
   ]
  },
  {
   "cell_type": "code",
   "execution_count": null,
   "id": "e8acaddb",
   "metadata": {},
   "outputs": [],
   "source": [
    "atribs = ['oranges', 'tip']\n",
    "purchases[atribs]"
   ]
  },
  {
   "cell_type": "code",
   "execution_count": null,
   "id": "ec1d0f1e",
   "metadata": {},
   "outputs": [],
   "source": [
    "purchases.oranges"
   ]
  },
  {
   "cell_type": "markdown",
   "id": "79a0d8c0",
   "metadata": {},
   "source": [
    "### Reading from a CSV\n"
   ]
  },
  {
   "cell_type": "code",
   "execution_count": null,
   "id": "19ab9b1d",
   "metadata": {},
   "outputs": [],
   "source": [
    "df = pd.read_csv('purchases.csv')\n",
    "\n",
    "df.head()"
   ]
  },
  {
   "cell_type": "code",
   "execution_count": null,
   "id": "9a5ee38c",
   "metadata": {},
   "outputs": [],
   "source": [
    "?pd.read_csv"
   ]
  },
  {
   "cell_type": "markdown",
   "id": "f48b21a0",
   "metadata": {},
   "source": [
    "Reading we can choose with column is `index_col`:"
   ]
  },
  {
   "cell_type": "code",
   "execution_count": null,
   "id": "fc441ac9",
   "metadata": {},
   "outputs": [],
   "source": [
    "df = pd.read_csv('purchases.csv', index_col=0)\n",
    "\n",
    "df"
   ]
  },
  {
   "cell_type": "markdown",
   "id": "b0fde09d",
   "metadata": {},
   "source": [
    "## Usual operations with DataFrame\n",
    "\n",
    "We are going to load a list of IMDB films:"
   ]
  },
  {
   "cell_type": "code",
   "execution_count": null,
   "id": "dacfd5d5",
   "metadata": {},
   "outputs": [],
   "source": [
    "movies_df = pd.read_csv(\"IMDB-Movie-Data.csv\", index_col=\"Title\")"
   ]
  },
  {
   "cell_type": "markdown",
   "id": "7e584272",
   "metadata": {},
   "source": [
    "### Visualizing the Data\n",
    "\n",
    "We show a few rows with `.head()`:"
   ]
  },
  {
   "cell_type": "code",
   "execution_count": null,
   "id": "229a84eb",
   "metadata": {},
   "outputs": [],
   "source": [
    "movies_df.head()"
   ]
  },
  {
   "cell_type": "markdown",
   "id": "e7397e90",
   "metadata": {},
   "source": [
    "`.head()` show the first **cinco** rows by default, but you can indicate another number `movies_df.head(10)`.\n",
    "\n",
    "To see the last **rows** we use `.tail()`. "
   ]
  },
  {
   "cell_type": "code",
   "execution_count": null,
   "id": "a5ec156c",
   "metadata": {},
   "outputs": [],
   "source": [
    "movies_df.tail(2)"
   ]
  },
  {
   "cell_type": "markdown",
   "id": "738635ef",
   "metadata": {},
   "source": [
    "### Getting information from your data\n",
    "\n",
    "`.info()` should one of your first methods after loading your data."
   ]
  },
  {
   "cell_type": "code",
   "execution_count": null,
   "id": "9659ced8",
   "metadata": {},
   "outputs": [],
   "source": [
    "movies_df.info()"
   ]
  },
  {
   "cell_type": "code",
   "execution_count": null,
   "id": "1152cfb9",
   "metadata": {},
   "outputs": [],
   "source": [
    "movies_df.shape"
   ]
  },
  {
   "cell_type": "markdown",
   "id": "7602772c",
   "metadata": {},
   "source": [
    "shape returns the number of instance and columns.\n",
    "\n",
    "### Rename the column's name\n",
    "\n",
    "We can rename the column names if we want it."
   ]
  },
  {
   "cell_type": "code",
   "execution_count": null,
   "id": "50f151be",
   "metadata": {},
   "outputs": [],
   "source": [
    "movies_df.columns"
   ]
  },
  {
   "cell_type": "code",
   "execution_count": null,
   "id": "d5e0a33f",
   "metadata": {},
   "outputs": [],
   "source": [
    "movies_df.rename(columns={\n",
    "        'Runtime (Minutes)': 'Runtime', \n",
    "        'Revenue (Millions)': 'Revenue_millions'\n",
    "    }, inplace=True)\n",
    "\n",
    "\n",
    "movies_df.columns"
   ]
  },
  {
   "cell_type": "code",
   "execution_count": null,
   "id": "2d6bd692",
   "metadata": {},
   "outputs": [],
   "source": [
    "movies_df.Runtime"
   ]
  },
  {
   "cell_type": "code",
   "execution_count": null,
   "id": "db145ded",
   "metadata": {},
   "outputs": [],
   "source": [
    "movies_df.head()"
   ]
  },
  {
   "cell_type": "markdown",
   "id": "ad078571",
   "metadata": {},
   "source": [
    "Another option, to have all column names in lowercase. Instead of `rename()` we directly modify the `.columns` field."
   ]
  },
  {
   "cell_type": "code",
   "execution_count": null,
   "id": "9b1e9d00",
   "metadata": {},
   "outputs": [],
   "source": [
    "movies_df.columns = ['rank', 'genre', 'description', 'director', 'actors', 'year', 'runtime', \n",
    "                     'rating', 'votes', 'revenue_millions', 'metascore']\n",
    "\n",
    "\n",
    "movies_df.columns"
   ]
  },
  {
   "cell_type": "markdown",
   "id": "d9cc5f2f",
   "metadata": {},
   "source": [
    "But that's too much work. Instead of just renaming each column manually we can do a list comprehension:"
   ]
  },
  {
   "cell_type": "code",
   "execution_count": null,
   "id": "9dcb8ef8",
   "metadata": {},
   "outputs": [],
   "source": [
    "movies_df.columns = [col.lower() for col in movies_df]\n",
    "\n",
    "movies_df.columns"
   ]
  },
  {
   "cell_type": "markdown",
   "id": "cc0de5c6",
   "metadata": {},
   "source": [
    "### Learning about numerical variables"
   ]
  },
  {
   "cell_type": "markdown",
   "id": "a8b2121e",
   "metadata": {},
   "source": [
    "`describe()` returns a summary of the distribution of all numerical columns:"
   ]
  },
  {
   "cell_type": "code",
   "execution_count": null,
   "id": "397bdbf8",
   "metadata": {},
   "outputs": [],
   "source": [
    "movies_df.describe()"
   ]
  },
  {
   "cell_type": "markdown",
   "id": "d4b82e18",
   "metadata": {},
   "source": [
    "\n",
    "\n",
    "`.describe()` can be used also with categorical values."
   ]
  },
  {
   "cell_type": "code",
   "execution_count": null,
   "id": "e08d26c2",
   "metadata": {},
   "outputs": [],
   "source": [
    "movies_df['genre'].describe()"
   ]
  },
  {
   "cell_type": "code",
   "execution_count": null,
   "id": "791bc021",
   "metadata": {},
   "outputs": [],
   "source": [
    "movies_df['genre'].value_counts().head(10)"
   ]
  },
  {
   "cell_type": "markdown",
   "id": "517da559",
   "metadata": {},
   "source": [
    "#### Correlation between attributes"
   ]
  },
  {
   "cell_type": "markdown",
   "id": "68d67f4e",
   "metadata": {},
   "source": [
    "With method: `.corr()`:"
   ]
  },
  {
   "cell_type": "code",
   "execution_count": null,
   "id": "5ce4138b",
   "metadata": {},
   "outputs": [],
   "source": [
    "movies_df.corr()"
   ]
  },
  {
   "cell_type": "markdown",
   "id": "8b62ca3e",
   "metadata": {},
   "source": [
    "### DataFrame: slicing, filter and \n",
    "\n",
    "#### By columns\n"
   ]
  },
  {
   "cell_type": "code",
   "execution_count": null,
   "id": "78ac6873",
   "metadata": {},
   "outputs": [],
   "source": [
    "genre_col = movies_df['genre']\n",
    "\n",
    "type(genre_col)"
   ]
  },
  {
   "cell_type": "code",
   "execution_count": null,
   "id": "0442d1d0",
   "metadata": {},
   "outputs": [],
   "source": [
    "genre_col = movies_df[['genre']]\n",
    "\n",
    "type(genre_col)"
   ]
  },
  {
   "cell_type": "code",
   "execution_count": null,
   "id": "9ccdd9c7",
   "metadata": {},
   "outputs": [],
   "source": [
    "subset = movies_df[['genre', 'rating']]\n",
    "\n",
    "subset.head()"
   ]
  },
  {
   "cell_type": "markdown",
   "id": "4992d1b6",
   "metadata": {},
   "source": [
    "#### By rows"
   ]
  },
  {
   "cell_type": "markdown",
   "id": "a49b6642",
   "metadata": {},
   "source": [
    " \n",
    "\n",
    "- `.loc` - search by column name.\n",
    "- `.iloc`- search by index.\n",
    "\n"
   ]
  },
  {
   "cell_type": "code",
   "execution_count": null,
   "id": "cb720379",
   "metadata": {},
   "outputs": [],
   "source": [
    "prom = movies_df.loc[\"Guardians of the Galaxy\"]\n",
    "\n",
    "prom"
   ]
  },
  {
   "cell_type": "code",
   "execution_count": null,
   "id": "55d75b0b",
   "metadata": {},
   "outputs": [],
   "source": [
    "prom = movies_df.iloc[0]\n",
    "prom"
   ]
  },
  {
   "cell_type": "code",
   "execution_count": null,
   "id": "c50948f0",
   "metadata": {},
   "outputs": [],
   "source": [
    "movie_subset = movies_df.loc['Prometheus':'Sing']\n",
    "\n",
    "movie_subset = movies_df.iloc[1:4]\n",
    "\n",
    "movie_subset"
   ]
  },
  {
   "cell_type": "markdown",
   "id": "d7e01235",
   "metadata": {},
   "source": [
    "\n",
    "\n",
    "#### Conditional Selection\n"
   ]
  },
  {
   "cell_type": "code",
   "execution_count": null,
   "id": "91270bc2",
   "metadata": {},
   "outputs": [],
   "source": [
    "condition = (movies_df.director == \"Ridley Scott\")\n",
    "\n",
    "condition.head()"
   ]
  },
  {
   "cell_type": "code",
   "execution_count": null,
   "id": "2e9ada62",
   "metadata": {},
   "outputs": [],
   "source": [
    "movies_df[condition]"
   ]
  },
  {
   "cell_type": "code",
   "execution_count": null,
   "id": "486880de",
   "metadata": {},
   "outputs": [],
   "source": [
    "movies_df[movies_df.index == 'La La Land']"
   ]
  },
  {
   "cell_type": "code",
   "execution_count": null,
   "id": "159b8db2",
   "metadata": {},
   "outputs": [],
   "source": [
    "movies_df[movies_df['director'] == \"Ridley Scott\"].head()"
   ]
  },
  {
   "cell_type": "code",
   "execution_count": null,
   "id": "d068929f",
   "metadata": {},
   "outputs": [],
   "source": [
    "movies_df[movies_df['rating'] < 4].sort_values('rating', ascending=True)"
   ]
  },
  {
   "cell_type": "code",
   "execution_count": null,
   "id": "890e5bcd",
   "metadata": {},
   "outputs": [],
   "source": [
    "help(movies_df.sort_values)"
   ]
  },
  {
   "cell_type": "code",
   "execution_count": null,
   "id": "a2b65720",
   "metadata": {},
   "outputs": [],
   "source": [
    "movies_df.rating"
   ]
  },
  {
   "cell_type": "markdown",
   "id": "ef903d97",
   "metadata": {},
   "source": [
    "# Exercise\n",
    "\n",
    "Show the directors that have done a Sci-fi film with an rating greater or equals to 8."
   ]
  }
 ],
 "metadata": {
  "jupytext": {
   "formats": "ipynb,md"
  },
  "kernelspec": {
   "display_name": "Python 3",
   "language": "python",
   "name": "python3"
  }
 },
 "nbformat": 4,
 "nbformat_minor": 5
}
